{
 "cells": [
  {
   "cell_type": "code",
   "execution_count": 1,
   "id": "30a4279c",
   "metadata": {
    "execution": {
     "iopub.execute_input": "2024-05-28T10:27:50.484531Z",
     "iopub.status.busy": "2024-05-28T10:27:50.483684Z",
     "iopub.status.idle": "2024-05-28T10:27:51.503308Z",
     "shell.execute_reply": "2024-05-28T10:27:51.502053Z"
    },
    "papermill": {
     "duration": 1.03224,
     "end_time": "2024-05-28T10:27:51.506768",
     "exception": false,
     "start_time": "2024-05-28T10:27:50.474528",
     "status": "completed"
    },
    "tags": []
   },
   "outputs": [],
   "source": [
    "# Lab 1\n",
    "import sympy as sp\n",
    "import numpy as np\n",
    "import matplotlib.pyplot as plt\n",
    "\n",
    "\n",
    "sp.init_printing()"
   ]
  },
  {
   "cell_type": "code",
   "execution_count": 2,
   "id": "742964de",
   "metadata": {
    "execution": {
     "iopub.execute_input": "2024-05-28T10:27:51.521356Z",
     "iopub.status.busy": "2024-05-28T10:27:51.520795Z",
     "iopub.status.idle": "2024-05-28T10:27:51.530878Z",
     "shell.execute_reply": "2024-05-28T10:27:51.529586Z"
    },
    "papermill": {
     "duration": 0.020123,
     "end_time": "2024-05-28T10:27:51.533594",
     "exception": false,
     "start_time": "2024-05-28T10:27:51.513471",
     "status": "completed"
    },
    "tags": []
   },
   "outputs": [],
   "source": [
    "t = sp.symbols('t')\n",
    "x = sp.Function('x')(t)\n",
    "dx1 = sp.diff(x, t) "
   ]
  },
  {
   "cell_type": "code",
   "execution_count": 3,
   "id": "135ac977",
   "metadata": {
    "execution": {
     "iopub.execute_input": "2024-05-28T10:27:51.547747Z",
     "iopub.status.busy": "2024-05-28T10:27:51.547244Z",
     "iopub.status.idle": "2024-05-28T10:27:52.194378Z",
     "shell.execute_reply": "2024-05-28T10:27:52.193187Z"
    },
    "papermill": {
     "duration": 0.657017,
     "end_time": "2024-05-28T10:27:52.196956",
     "exception": false,
     "start_time": "2024-05-28T10:27:51.539939",
     "status": "completed"
    },
    "tags": []
   },
   "outputs": [
    {
     "data": {
      "image/png": "[encoded data removed]",
      "text/latex": [
       "$\\displaystyle t^{2} \\left(\\frac{d}{d t} x{\\left(t \\right)}\\right)^{2}$"
      ],
      "text/plain": [
       "             2\n",
       " 2 ⎛d       ⎞ \n",
       "t ⋅⎜──(x(t))⎟ \n",
       "   ⎝dt      ⎠ "
      ]
     },
     "execution_count": 3,
     "metadata": {},
     "output_type": "execute_result"
    }
   ],
   "source": [
    "F = t**2*dx1**2\n",
    "F"
   ]
  },
  {
   "cell_type": "code",
   "execution_count": 4,
   "id": "ca2819dd",
   "metadata": {
    "execution": {
     "iopub.execute_input": "2024-05-28T10:27:52.211550Z",
     "iopub.status.busy": "2024-05-28T10:27:52.210937Z",
     "iopub.status.idle": "2024-05-28T10:27:52.243037Z",
     "shell.execute_reply": "2024-05-28T10:27:52.242038Z"
    },
    "papermill": {
     "duration": 0.042452,
     "end_time": "2024-05-28T10:27:52.245749",
     "exception": false,
     "start_time": "2024-05-28T10:27:52.203297",
     "status": "completed"
    },
    "tags": []
   },
   "outputs": [],
   "source": [
    "dFdx = sp.diff(F, x)\n",
    "dFdx1 = sp.diff(F, dx1)\n",
    "dFdx1dt = sp.diff(dFdx1, t)"
   ]
  },
  {
   "cell_type": "code",
   "execution_count": 5,
   "id": "addc01c7",
   "metadata": {
    "execution": {
     "iopub.execute_input": "2024-05-28T10:27:52.261272Z",
     "iopub.status.busy": "2024-05-28T10:27:52.259922Z",
     "iopub.status.idle": "2024-05-28T10:27:52.266569Z",
     "shell.execute_reply": "2024-05-28T10:27:52.265373Z"
    },
    "papermill": {
     "duration": 0.01686,
     "end_time": "2024-05-28T10:27:52.269135",
     "exception": false,
     "start_time": "2024-05-28T10:27:52.252275",
     "status": "completed"
    },
    "tags": []
   },
   "outputs": [],
   "source": [
    "t0, x0, t1, x1 = (-1, -1, 1, 1) "
   ]
  },
  {
   "cell_type": "code",
   "execution_count": 6,
   "id": "11e6869f",
   "metadata": {
    "execution": {
     "iopub.execute_input": "2024-05-28T10:27:52.284115Z",
     "iopub.status.busy": "2024-05-28T10:27:52.283695Z",
     "iopub.status.idle": "2024-05-28T10:27:52.401923Z",
     "shell.execute_reply": "2024-05-28T10:27:52.400860Z"
    },
    "papermill": {
     "duration": 0.129032,
     "end_time": "2024-05-28T10:27:52.404680",
     "exception": false,
     "start_time": "2024-05-28T10:27:52.275648",
     "status": "completed"
    },
    "tags": []
   },
   "outputs": [
    {
     "data": {
      "image/png": "[encoded data removed]",
      "text/latex": [
       "$\\displaystyle - 2 t^{2} \\frac{d^{2}}{d t^{2}} x{\\left(t \\right)} - 4 t \\frac{d}{d t} x{\\left(t \\right)} = 0$"
      ],
      "text/plain": [
       "         2                         \n",
       "     2  d              d           \n",
       "- 2⋅t ⋅───(x(t)) - 4⋅t⋅──(x(t)) = 0\n",
       "         2             dt          \n",
       "       dt                          "
      ]
     },
     "execution_count": 6,
     "metadata": {},
     "output_type": "execute_result"
    }
   ],
   "source": [
    "Euler = sp.Eq(dFdx - dFdx1dt, 0)\n",
    "Euler"
   ]
  },
  {
   "cell_type": "code",
   "execution_count": 7,
   "id": "0ad4bca7",
   "metadata": {
    "execution": {
     "iopub.execute_input": "2024-05-28T10:27:52.419394Z",
     "iopub.status.busy": "2024-05-28T10:27:52.418978Z",
     "iopub.status.idle": "2024-05-28T10:27:52.424394Z",
     "shell.execute_reply": "2024-05-28T10:27:52.423234Z"
    },
    "papermill": {
     "duration": 0.015645,
     "end_time": "2024-05-28T10:27:52.426776",
     "exception": false,
     "start_time": "2024-05-28T10:27:52.411131",
     "status": "completed"
    },
    "tags": []
   },
   "outputs": [],
   "source": [
    "initial_conditions_0 = {t: t0, x: x0}\n",
    "initial_conditions_1 = {t: t1, x: x1}"
   ]
  },
  {
   "cell_type": "code",
   "execution_count": 8,
   "id": "fefc2370",
   "metadata": {
    "execution": {
     "iopub.execute_input": "2024-05-28T10:27:52.442033Z",
     "iopub.status.busy": "2024-05-28T10:27:52.441663Z",
     "iopub.status.idle": "2024-05-28T10:27:52.684515Z",
     "shell.execute_reply": "2024-05-28T10:27:52.683326Z"
    },
    "papermill": {
     "duration": 0.253562,
     "end_time": "2024-05-28T10:27:52.687488",
     "exception": false,
     "start_time": "2024-05-28T10:27:52.433926",
     "status": "completed"
    },
    "tags": []
   },
   "outputs": [
    {
     "data": {
      "image/png": "[encoded data removed]",
      "text/latex": [
       "$\\displaystyle x{\\left(t \\right)} = C_{1} + \\frac{C_{2}}{t}$"
      ],
      "text/plain": [
       "            C₂\n",
       "x(t) = C₁ + ──\n",
       "            t "
      ]
     },
     "execution_count": 8,
     "metadata": {},
     "output_type": "execute_result"
    }
   ],
   "source": [
    "# print('Euler equation solution: ')\n",
    "sol_Euler = sp.dsolve(Euler, x)\n",
    "sol_Euler"
   ]
  },
  {
   "cell_type": "code",
   "execution_count": 9,
   "id": "221fe218",
   "metadata": {
    "execution": {
     "iopub.execute_input": "2024-05-28T10:27:52.702840Z",
     "iopub.status.busy": "2024-05-28T10:27:52.702418Z",
     "iopub.status.idle": "2024-05-28T10:27:52.725721Z",
     "shell.execute_reply": "2024-05-28T10:27:52.724717Z"
    },
    "papermill": {
     "duration": 0.033669,
     "end_time": "2024-05-28T10:27:52.728090",
     "exception": false,
     "start_time": "2024-05-28T10:27:52.694421",
     "status": "completed"
    },
    "tags": []
   },
   "outputs": [],
   "source": [
    "eq_1 = sol_Euler.subs(initial_conditions_0)\n",
    "eq_2 = sol_Euler.subs(initial_conditions_1)"
   ]
  },
  {
   "cell_type": "code",
   "execution_count": 10,
   "id": "006e4f28",
   "metadata": {
    "execution": {
     "iopub.execute_input": "2024-05-28T10:27:52.744163Z",
     "iopub.status.busy": "2024-05-28T10:27:52.742935Z",
     "iopub.status.idle": "2024-05-28T10:27:52.748036Z",
     "shell.execute_reply": "2024-05-28T10:27:52.747183Z"
    },
    "papermill": {
     "duration": 0.015386,
     "end_time": "2024-05-28T10:27:52.750378",
     "exception": false,
     "start_time": "2024-05-28T10:27:52.734992",
     "status": "completed"
    },
    "tags": []
   },
   "outputs": [],
   "source": [
    "C1, C2 = (eq_1.free_symbols)"
   ]
  },
  {
   "cell_type": "code",
   "execution_count": 11,
   "id": "19553a8e",
   "metadata": {
    "execution": {
     "iopub.execute_input": "2024-05-28T10:27:52.766166Z",
     "iopub.status.busy": "2024-05-28T10:27:52.765417Z",
     "iopub.status.idle": "2024-05-28T10:27:52.814864Z",
     "shell.execute_reply": "2024-05-28T10:27:52.813637Z"
    },
    "papermill": {
     "duration": 0.060437,
     "end_time": "2024-05-28T10:27:52.817722",
     "exception": false,
     "start_time": "2024-05-28T10:27:52.757285",
     "status": "completed"
    },
    "tags": []
   },
   "outputs": [
    {
     "data": {
      "image/png": "[encoded data removed]",
      "text/latex": [
       "$\\displaystyle 0$"
      ],
      "text/plain": [
       "0"
      ]
     },
     "execution_count": 11,
     "metadata": {},
     "output_type": "execute_result"
    }
   ],
   "source": [
    "C1_val, C2_val = tuple(*sp.linsolve([eq_1, eq_2], C1, C2))\n",
    "C1_val"
   ]
  },
  {
   "cell_type": "code",
   "execution_count": 12,
   "id": "ac90ff5e",
   "metadata": {
    "execution": {
     "iopub.execute_input": "2024-05-28T10:27:52.834088Z",
     "iopub.status.busy": "2024-05-28T10:27:52.833009Z",
     "iopub.status.idle": "2024-05-28T10:27:52.883849Z",
     "shell.execute_reply": "2024-05-28T10:27:52.882572Z"
    },
    "papermill": {
     "duration": 0.061718,
     "end_time": "2024-05-28T10:27:52.886488",
     "exception": false,
     "start_time": "2024-05-28T10:27:52.824770",
     "status": "completed"
    },
    "tags": []
   },
   "outputs": [
    {
     "data": {
      "image/png": "[encoded data removed]",
      "text/latex": [
       "$\\displaystyle 1$"
      ],
      "text/plain": [
       "1"
      ]
     },
     "execution_count": 12,
     "metadata": {},
     "output_type": "execute_result"
    }
   ],
   "source": [
    "C2_val"
   ]
  },
  {
   "cell_type": "code",
   "execution_count": 13,
   "id": "a91274c1",
   "metadata": {
    "execution": {
     "iopub.execute_input": "2024-05-28T10:27:52.902796Z",
     "iopub.status.busy": "2024-05-28T10:27:52.902388Z",
     "iopub.status.idle": "2024-05-28T10:27:52.979286Z",
     "shell.execute_reply": "2024-05-28T10:27:52.978090Z"
    },
    "papermill": {
     "duration": 0.08824,
     "end_time": "2024-05-28T10:27:52.982007",
     "exception": false,
     "start_time": "2024-05-28T10:27:52.893767",
     "status": "completed"
    },
    "tags": []
   },
   "outputs": [
    {
     "data": {
      "image/png": "[encoded data removed]",
      "text/latex": [
       "$\\displaystyle x{\\left(t \\right)} = \\frac{1}{t}$"
      ],
      "text/plain": [
       "       1\n",
       "x(t) = ─\n",
       "       t"
      ]
     },
     "execution_count": 13,
     "metadata": {},
     "output_type": "execute_result"
    }
   ],
   "source": [
    "extremal = sol_Euler.subs([(C1, C1_val), (C2, C2_val)])\n",
    "extremal\n",
    "\n",
    "# Проверка если х(-1) = -1 и х(1) = 1\n",
    "# extremal_func = sp.lambdify([t, x], extremal)\n",
    "# print(extremal_func(1, 1)) ==> True "
   ]
  },
  {
   "cell_type": "code",
   "execution_count": 14,
   "id": "8e5c99a8",
   "metadata": {
    "execution": {
     "iopub.execute_input": "2024-05-28T10:27:53.000217Z",
     "iopub.status.busy": "2024-05-28T10:27:52.999100Z",
     "iopub.status.idle": "2024-05-28T10:27:53.019165Z",
     "shell.execute_reply": "2024-05-28T10:27:53.017914Z"
    },
    "papermill": {
     "duration": 0.031878,
     "end_time": "2024-05-28T10:27:53.022347",
     "exception": false,
     "start_time": "2024-05-28T10:27:52.990469",
     "status": "completed"
    },
    "tags": []
   },
   "outputs": [],
   "source": [
    "extremal_func = sp.lambdify([t, C1, C2], sol_Euler.rhs, 'numpy')"
   ]
  },
  {
   "cell_type": "code",
   "execution_count": 15,
   "id": "955fffaa",
   "metadata": {
    "execution": {
     "iopub.execute_input": "2024-05-28T10:27:53.040656Z",
     "iopub.status.busy": "2024-05-28T10:27:53.039623Z",
     "iopub.status.idle": "2024-05-28T10:27:53.075038Z",
     "shell.execute_reply": "2024-05-28T10:27:53.073732Z"
    },
    "papermill": {
     "duration": 0.04785,
     "end_time": "2024-05-28T10:27:53.078164",
     "exception": false,
     "start_time": "2024-05-28T10:27:53.030314",
     "status": "completed"
    },
    "tags": []
   },
   "outputs": [],
   "source": [
    "t0_t1 = np.linspace(t0, t1, 100)\n",
    "x0_x1 = extremal_func(t0_t1, C1_val, C2_val)"
   ]
  },
  {
   "cell_type": "code",
   "execution_count": 16,
   "id": "893746a2",
   "metadata": {
    "execution": {
     "iopub.execute_input": "2024-05-28T10:27:53.094451Z",
     "iopub.status.busy": "2024-05-28T10:27:53.094009Z",
     "iopub.status.idle": "2024-05-28T10:27:53.500126Z",
     "shell.execute_reply": "2024-05-28T10:27:53.498944Z"
    },
    "papermill": {
     "duration": 0.41781,
     "end_time": "2024-05-28T10:27:53.503327",
     "exception": false,
     "start_time": "2024-05-28T10:27:53.085517",
     "status": "completed"
    },
    "tags": []
   },
   "outputs": [
    {
     "data": {
      "image/png": "[encoded data removed]",
      "text/plain": [
       "<Figure size 640x480 with 1 Axes>"
      ]
     },
     "metadata": {},
     "output_type": "display_data"
    }
   ],
   "source": [
    "plt.plot(t0_t1, x0_x1)\n",
    "plt.xlabel('t', fontsize=20)\n",
    "plt.ylabel('x', fontsize=20)\n",
    "plt.show()"
   ]
  }
 ],
 "metadata": {
  "kaggle": {
   "accelerator": "none",
   "dataSources": [],
   "dockerImageVersionId": 30698,
   "isGpuEnabled": false,
   "isInternetEnabled": true,
   "language": "python",
   "sourceType": "notebook"
  },
  "kernelspec": {
   "display_name": "Python 3",
   "language": "python",
   "name": "python3"
  },
  "language_info": {
   "codemirror_mode": {
    "name": "ipython",
    "version": 3
   },
   "file_extension": ".py",
   "mimetype": "text/x-python",
   "name": "python",
   "nbconvert_exporter": "python",
   "pygments_lexer": "ipython3",
   "version": "3.10.13"
  },
  "papermill": {
   "default_parameters": {},
   "duration": 6.771477,
   "end_time": "2024-05-28T10:27:54.036021",
   "environment_variables": {},
   "exception": null,
   "input_path": "__notebook__.ipynb",
   "output_path": "__notebook__.ipynb",
   "parameters": {},
   "start_time": "2024-05-28T10:27:47.264544",
   "version": "2.5.0"
  }
 },
 "nbformat": 4,
 "nbformat_minor": 5
}
