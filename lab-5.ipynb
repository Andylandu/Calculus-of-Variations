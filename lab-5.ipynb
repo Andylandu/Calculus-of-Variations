{
 "cells": [
  {
   "cell_type": "code",
   "execution_count": 1,
   "id": "eb603813",
   "metadata": {
    "execution": {
     "iopub.execute_input": "2024-05-28T10:20:10.408429Z",
     "iopub.status.busy": "2024-05-28T10:20:10.408033Z",
     "iopub.status.idle": "2024-05-28T10:20:11.558182Z",
     "shell.execute_reply": "2024-05-28T10:20:11.555567Z"
    },
    "papermill": {
     "duration": 1.159205,
     "end_time": "2024-05-28T10:20:11.561677",
     "exception": false,
     "start_time": "2024-05-28T10:20:10.402472",
     "status": "completed"
    },
    "tags": []
   },
   "outputs": [],
   "source": [
    "# Lab 5\n",
    "import sympy as sp"
   ]
  },
  {
   "cell_type": "code",
   "execution_count": 2,
   "id": "7b9dd9c9",
   "metadata": {
    "execution": {
     "iopub.execute_input": "2024-05-28T10:20:11.572434Z",
     "iopub.status.busy": "2024-05-28T10:20:11.571908Z",
     "iopub.status.idle": "2024-05-28T10:20:11.579854Z",
     "shell.execute_reply": "2024-05-28T10:20:11.577949Z"
    },
    "papermill": {
     "duration": 0.016583,
     "end_time": "2024-05-28T10:20:11.582743",
     "exception": false,
     "start_time": "2024-05-28T10:20:11.566160",
     "status": "completed"
    },
    "tags": []
   },
   "outputs": [],
   "source": [
    "t, λ0, β, ρ, µ, u, a = sp.symbols('t λ0 β ρ µ u a')"
   ]
  },
  {
   "cell_type": "code",
   "execution_count": 3,
   "id": "b44e06e1",
   "metadata": {
    "execution": {
     "iopub.execute_input": "2024-05-28T10:20:11.592472Z",
     "iopub.status.busy": "2024-05-28T10:20:11.591945Z",
     "iopub.status.idle": "2024-05-28T10:20:11.604275Z",
     "shell.execute_reply": "2024-05-28T10:20:11.603072Z"
    },
    "papermill": {
     "duration": 0.020507,
     "end_time": "2024-05-28T10:20:11.607351",
     "exception": false,
     "start_time": "2024-05-28T10:20:11.586844",
     "status": "completed"
    },
    "tags": []
   },
   "outputs": [],
   "source": [
    "x = sp.Function('x')(t)\n",
    "λ = sp.Function('λ')(t)\n",
    "Dx = x.diff(t)\n",
    "Dλ = λ.diff(t)"
   ]
  },
  {
   "cell_type": "code",
   "execution_count": 4,
   "id": "6158ec72",
   "metadata": {
    "execution": {
     "iopub.execute_input": "2024-05-28T10:20:11.619269Z",
     "iopub.status.busy": "2024-05-28T10:20:11.618733Z",
     "iopub.status.idle": "2024-05-28T10:20:11.716468Z",
     "shell.execute_reply": "2024-05-28T10:20:11.715134Z"
    },
    "papermill": {
     "duration": 0.108099,
     "end_time": "2024-05-28T10:20:11.719648",
     "exception": false,
     "start_time": "2024-05-28T10:20:11.611549",
     "status": "completed"
    },
    "tags": []
   },
   "outputs": [
    {
     "data": {
      "text/latex": [
       "$\\displaystyle \\frac{d}{d t} x{\\left(t \\right)} = - u + ρ x{\\left(t \\right)}$"
      ],
      "text/plain": [
       "Eq(Derivative(x(t), t), -u + ρ*x(t))"
      ]
     },
     "execution_count": 4,
     "metadata": {},
     "output_type": "execute_result"
    }
   ],
   "source": [
    "Dx_eq = sp.Eq(Dx, ρ * x - u)\n",
    "Dx_eq"
   ]
  },
  {
   "cell_type": "code",
   "execution_count": 5,
   "id": "b9a39834",
   "metadata": {
    "execution": {
     "iopub.execute_input": "2024-05-28T10:20:11.730360Z",
     "iopub.status.busy": "2024-05-28T10:20:11.729887Z",
     "iopub.status.idle": "2024-05-28T10:20:11.756203Z",
     "shell.execute_reply": "2024-05-28T10:20:11.754852Z"
    },
    "papermill": {
     "duration": 0.036046,
     "end_time": "2024-05-28T10:20:11.760208",
     "exception": false,
     "start_time": "2024-05-28T10:20:11.724162",
     "status": "completed"
    },
    "tags": []
   },
   "outputs": [
    {
     "data": {
      "text/latex": [
       "$\\displaystyle - λ_{0} e^{- t β} \\log{\\left(u + 1 \\right)} + \\left(- u + ρ x{\\left(t \\right)}\\right) λ{\\left(t \\right)}$"
      ],
      "text/plain": [
       "-λ0*exp(-t*β)*log(u + 1) + (-u + ρ*x(t))*λ(t)"
      ]
     },
     "execution_count": 5,
     "metadata": {},
     "output_type": "execute_result"
    }
   ],
   "source": [
    "H = - λ0 * sp.ln(1 + u) * sp.exp(-β * t) + λ * (ρ * x - u)\n",
    "H"
   ]
  },
  {
   "cell_type": "code",
   "execution_count": 6,
   "id": "414b8cd2",
   "metadata": {
    "execution": {
     "iopub.execute_input": "2024-05-28T10:20:11.771201Z",
     "iopub.status.busy": "2024-05-28T10:20:11.770772Z",
     "iopub.status.idle": "2024-05-28T10:20:11.785085Z",
     "shell.execute_reply": "2024-05-28T10:20:11.783887Z"
    },
    "papermill": {
     "duration": 0.023191,
     "end_time": "2024-05-28T10:20:11.788328",
     "exception": false,
     "start_time": "2024-05-28T10:20:11.765137",
     "status": "completed"
    },
    "tags": []
   },
   "outputs": [
    {
     "data": {
      "text/latex": [
       "$\\displaystyle µ \\left(- a + x{\\left(t \\right)}\\right) - λ_{0} e^{- t β} \\log{\\left(u + 1 \\right)} + \\left(- u + ρ x{\\left(t \\right)}\\right) λ{\\left(t \\right)}$"
      ],
      "text/plain": [
       "µ*(-a + x(t)) - λ0*exp(-t*β)*log(u + 1) + (-u + ρ*x(t))*λ(t)"
      ]
     },
     "execution_count": 6,
     "metadata": {},
     "output_type": "execute_result"
    }
   ],
   "source": [
    "L = H + µ * (x - a)\n",
    "L"
   ]
  },
  {
   "cell_type": "code",
   "execution_count": 7,
   "id": "5da486d7",
   "metadata": {
    "execution": {
     "iopub.execute_input": "2024-05-28T10:20:11.800398Z",
     "iopub.status.busy": "2024-05-28T10:20:11.799925Z",
     "iopub.status.idle": "2024-05-28T10:20:11.829608Z",
     "shell.execute_reply": "2024-05-28T10:20:11.828261Z"
    },
    "papermill": {
     "duration": 0.039047,
     "end_time": "2024-05-28T10:20:11.832359",
     "exception": false,
     "start_time": "2024-05-28T10:20:11.793312",
     "status": "completed"
    },
    "tags": []
   },
   "outputs": [
    {
     "data": {
      "text/latex": [
       "$\\displaystyle \\frac{d}{d t} λ{\\left(t \\right)} = - ρ λ{\\left(t \\right)}$"
      ],
      "text/plain": [
       "Eq(Derivative(λ(t), t), -ρ*λ(t))"
      ]
     },
     "execution_count": 7,
     "metadata": {},
     "output_type": "execute_result"
    }
   ],
   "source": [
    "Dλ_eq = sp.Eq(Dλ, - L.diff(x).subs(µ, 0))\n",
    "Dλ_eq"
   ]
  },
  {
   "cell_type": "code",
   "execution_count": 8,
   "id": "7cfdca67",
   "metadata": {
    "execution": {
     "iopub.execute_input": "2024-05-28T10:20:11.844781Z",
     "iopub.status.busy": "2024-05-28T10:20:11.844334Z",
     "iopub.status.idle": "2024-05-28T10:20:12.209855Z",
     "shell.execute_reply": "2024-05-28T10:20:12.208537Z"
    },
    "papermill": {
     "duration": 0.375537,
     "end_time": "2024-05-28T10:20:12.212873",
     "exception": false,
     "start_time": "2024-05-28T10:20:11.837336",
     "status": "completed"
    },
    "tags": []
   },
   "outputs": [
    {
     "data": {
      "text/latex": [
       "$\\displaystyle λ{\\left(t \\right)} = C_{1} e^{- t ρ}$"
      ],
      "text/plain": [
       "Eq(λ(t), C1*exp(-t*ρ))"
      ]
     },
     "execution_count": 8,
     "metadata": {},
     "output_type": "execute_result"
    }
   ],
   "source": [
    "λ_val = sp.dsolve(Dλ_eq)\n",
    "λ_val"
   ]
  },
  {
   "cell_type": "code",
   "execution_count": 9,
   "id": "6d3077ff",
   "metadata": {
    "execution": {
     "iopub.execute_input": "2024-05-28T10:20:12.224917Z",
     "iopub.status.busy": "2024-05-28T10:20:12.224477Z",
     "iopub.status.idle": "2024-05-28T10:20:12.253377Z",
     "shell.execute_reply": "2024-05-28T10:20:12.251843Z"
    },
    "papermill": {
     "duration": 0.038281,
     "end_time": "2024-05-28T10:20:12.255839",
     "exception": false,
     "start_time": "2024-05-28T10:20:12.217558",
     "status": "completed"
    },
    "tags": []
   },
   "outputs": [
    {
     "data": {
      "text/latex": [
       "$\\displaystyle - C_{1} e^{- t ρ} + \\frac{e^{- t β}}{u + 1}$"
      ],
      "text/plain": [
       "-C1*exp(-t*ρ) + exp(-t*β)/(u + 1)"
      ]
     },
     "execution_count": 9,
     "metadata": {},
     "output_type": "execute_result"
    }
   ],
   "source": [
    "DH_Du = H.diff(u).subs([(λ, λ_val.rhs), (λ0, -1)])\n",
    "DH_Du"
   ]
  },
  {
   "cell_type": "code",
   "execution_count": 10,
   "id": "eab885e8",
   "metadata": {
    "execution": {
     "iopub.execute_input": "2024-05-28T10:20:12.267579Z",
     "iopub.status.busy": "2024-05-28T10:20:12.267197Z",
     "iopub.status.idle": "2024-05-28T10:20:12.430640Z",
     "shell.execute_reply": "2024-05-28T10:20:12.429102Z"
    },
    "papermill": {
     "duration": 0.173131,
     "end_time": "2024-05-28T10:20:12.433963",
     "exception": false,
     "start_time": "2024-05-28T10:20:12.260832",
     "status": "completed"
    },
    "tags": []
   },
   "outputs": [
    {
     "data": {
      "text/plain": [
       "[-1 + exp(-t*β + t*ρ)/C1]"
      ]
     },
     "execution_count": 10,
     "metadata": {},
     "output_type": "execute_result"
    }
   ],
   "source": [
    "u_val = sp.solve(DH_Du, u)\n",
    "u_val"
   ]
  },
  {
   "cell_type": "code",
   "execution_count": 11,
   "id": "65f26eb6",
   "metadata": {
    "execution": {
     "iopub.execute_input": "2024-05-28T10:20:12.453518Z",
     "iopub.status.busy": "2024-05-28T10:20:12.452373Z",
     "iopub.status.idle": "2024-05-28T10:20:12.480892Z",
     "shell.execute_reply": "2024-05-28T10:20:12.478992Z"
    },
    "papermill": {
     "duration": 0.041725,
     "end_time": "2024-05-28T10:20:12.484051",
     "exception": false,
     "start_time": "2024-05-28T10:20:12.442326",
     "status": "completed"
    },
    "tags": []
   },
   "outputs": [
    {
     "data": {
      "text/latex": [
       "$\\displaystyle \\frac{d}{d t} x{\\left(t \\right)} = ρ x{\\left(t \\right)} + 1 - \\frac{e^{- t β + t ρ}}{C_{1}}$"
      ],
      "text/plain": [
       "Eq(Derivative(x(t), t), ρ*x(t) + 1 - exp(-t*β + t*ρ)/C1)"
      ]
     },
     "execution_count": 11,
     "metadata": {},
     "output_type": "execute_result"
    }
   ],
   "source": [
    "Dx_eq = Dx_eq.subs(u, u_val[0])\n",
    "Dx_eq"
   ]
  },
  {
   "cell_type": "code",
   "execution_count": 12,
   "id": "43c0ad4c",
   "metadata": {
    "execution": {
     "iopub.execute_input": "2024-05-28T10:20:12.498832Z",
     "iopub.status.busy": "2024-05-28T10:20:12.498271Z",
     "iopub.status.idle": "2024-05-28T10:20:12.841340Z",
     "shell.execute_reply": "2024-05-28T10:20:12.839906Z"
    },
    "papermill": {
     "duration": 0.354052,
     "end_time": "2024-05-28T10:20:12.843744",
     "exception": false,
     "start_time": "2024-05-28T10:20:12.489692",
     "status": "completed"
    },
    "tags": []
   },
   "outputs": [
    {
     "data": {
      "text/latex": [
       "$\\displaystyle x{\\left(t \\right)} = \\left(C_{2} + \\frac{e^{- t β}}{C_{1} β}\\right) e^{t ρ} - \\frac{1}{ρ}$"
      ],
      "text/plain": [
       "Eq(x(t), (C2 + exp(-t*β)/(C1*β))*exp(t*ρ) - 1/ρ)"
      ]
     },
     "execution_count": 12,
     "metadata": {},
     "output_type": "execute_result"
    }
   ],
   "source": [
    "x_val = sp.dsolve(Dx_eq)\n",
    "x_val"
   ]
  }
 ],
 "metadata": {
  "kaggle": {
   "accelerator": "none",
   "dataSources": [],
   "dockerImageVersionId": 30698,
   "isGpuEnabled": false,
   "isInternetEnabled": true,
   "language": "python",
   "sourceType": "notebook"
  },
  "kernelspec": {
   "display_name": "Python 3",
   "language": "python",
   "name": "python3"
  },
  "language_info": {
   "codemirror_mode": {
    "name": "ipython",
    "version": 3
   },
   "file_extension": ".py",
   "mimetype": "text/x-python",
   "name": "python",
   "nbconvert_exporter": "python",
   "pygments_lexer": "ipython3",
   "version": "3.10.13"
  },
  "papermill": {
   "default_parameters": {},
   "duration": 6.307035,
   "end_time": "2024-05-28T10:20:13.472558",
   "environment_variables": {},
   "exception": null,
   "input_path": "__notebook__.ipynb",
   "output_path": "__notebook__.ipynb",
   "parameters": {},
   "start_time": "2024-05-28T10:20:07.165523",
   "version": "2.5.0"
  }
 },
 "nbformat": 4,
 "nbformat_minor": 5
}
