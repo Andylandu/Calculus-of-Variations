{
 "cells": [
  {
   "cell_type": "markdown",
   "id": "e5be7db5",
   "metadata": {
    "_cell_guid": "b1076dfc-b9ad-4769-8c92-a6c4dae69d19",
    "_uuid": "8f2839f25d086af736a60e9eeb907d3b93b6e0e5",
    "papermill": {
     "duration": 0.008087,
     "end_time": "2024-05-28T10:00:31.919850",
     "exception": false,
     "start_time": "2024-05-28T10:00:31.911763",
     "status": "completed"
    },
    "tags": []
   },
   "source": [
    "# **Lab 4**\n",
    "# **Оптимальное управление**\n",
    "# **.........**"
   ]
  },
  {
   "cell_type": "markdown",
   "id": "036c9945",
   "metadata": {
    "papermill": {
     "duration": 0.007456,
     "end_time": "2024-05-28T10:00:31.934993",
     "exception": false,
     "start_time": "2024-05-28T10:00:31.927537",
     "status": "completed"
    },
    "tags": []
   },
   "source": []
  },
  {
   "cell_type": "code",
   "execution_count": 1,
   "id": "c6b39273",
   "metadata": {
    "execution": {
     "iopub.execute_input": "2024-05-28T10:00:31.951706Z",
     "iopub.status.busy": "2024-05-28T10:00:31.951304Z",
     "iopub.status.idle": "2024-05-28T10:00:32.730036Z",
     "shell.execute_reply": "2024-05-28T10:00:32.728881Z"
    },
    "papermill": {
     "duration": 0.790413,
     "end_time": "2024-05-28T10:00:32.732959",
     "exception": false,
     "start_time": "2024-05-28T10:00:31.942546",
     "status": "completed"
    },
    "tags": []
   },
   "outputs": [],
   "source": [
    "import sympy as sp"
   ]
  },
  {
   "cell_type": "code",
   "execution_count": 2,
   "id": "e2c4670e",
   "metadata": {
    "execution": {
     "iopub.execute_input": "2024-05-28T10:00:32.750556Z",
     "iopub.status.busy": "2024-05-28T10:00:32.749777Z",
     "iopub.status.idle": "2024-05-28T10:00:32.755267Z",
     "shell.execute_reply": "2024-05-28T10:00:32.754189Z"
    },
    "papermill": {
     "duration": 0.01705,
     "end_time": "2024-05-28T10:00:32.757708",
     "exception": false,
     "start_time": "2024-05-28T10:00:32.740658",
     "status": "completed"
    },
    "tags": []
   },
   "outputs": [],
   "source": [
    "t, u, λ0, J, H = sp.symbols('t u λ0 J H')"
   ]
  },
  {
   "cell_type": "code",
   "execution_count": 3,
   "id": "6e53a7b6",
   "metadata": {
    "execution": {
     "iopub.execute_input": "2024-05-28T10:00:32.774806Z",
     "iopub.status.busy": "2024-05-28T10:00:32.773980Z",
     "iopub.status.idle": "2024-05-28T10:00:32.780663Z",
     "shell.execute_reply": "2024-05-28T10:00:32.779893Z"
    },
    "papermill": {
     "duration": 0.017469,
     "end_time": "2024-05-28T10:00:32.782696",
     "exception": false,
     "start_time": "2024-05-28T10:00:32.765227",
     "status": "completed"
    },
    "tags": []
   },
   "outputs": [],
   "source": [
    "x1 = sp.Function('x1')(t)\n",
    "x2 = sp.Function('x2')(t)\n",
    "λ1 = sp.Function('λ1')(t)\n",
    "λ2= sp.Function('λ2')(t)"
   ]
  },
  {
   "cell_type": "code",
   "execution_count": 4,
   "id": "6e4b57d5",
   "metadata": {
    "execution": {
     "iopub.execute_input": "2024-05-28T10:00:32.799293Z",
     "iopub.status.busy": "2024-05-28T10:00:32.798710Z",
     "iopub.status.idle": "2024-05-28T10:00:32.802551Z",
     "shell.execute_reply": "2024-05-28T10:00:32.801817Z"
    },
    "papermill": {
     "duration": 0.014321,
     "end_time": "2024-05-28T10:00:32.804538",
     "exception": false,
     "start_time": "2024-05-28T10:00:32.790217",
     "status": "completed"
    },
    "tags": []
   },
   "outputs": [],
   "source": [
    "J = u ** 2"
   ]
  },
  {
   "cell_type": "code",
   "execution_count": 5,
   "id": "1e2542a1",
   "metadata": {
    "execution": {
     "iopub.execute_input": "2024-05-28T10:00:32.821378Z",
     "iopub.status.busy": "2024-05-28T10:00:32.820751Z",
     "iopub.status.idle": "2024-05-28T10:00:32.909511Z",
     "shell.execute_reply": "2024-05-28T10:00:32.908495Z"
    },
    "papermill": {
     "duration": 0.100162,
     "end_time": "2024-05-28T10:00:32.912170",
     "exception": false,
     "start_time": "2024-05-28T10:00:32.812008",
     "status": "completed"
    },
    "tags": []
   },
   "outputs": [],
   "source": [
    "eq_Dx1 = sp.Eq(x1.diff(t), x2 - 2)\n",
    "eq_Dx2 = sp.Eq(x2.diff(t), u)"
   ]
  },
  {
   "cell_type": "code",
   "execution_count": 6,
   "id": "39258f77",
   "metadata": {
    "execution": {
     "iopub.execute_input": "2024-05-28T10:00:32.929517Z",
     "iopub.status.busy": "2024-05-28T10:00:32.929155Z",
     "iopub.status.idle": "2024-05-28T10:00:32.936287Z",
     "shell.execute_reply": "2024-05-28T10:00:32.935282Z"
    },
    "papermill": {
     "duration": 0.018874,
     "end_time": "2024-05-28T10:00:32.938782",
     "exception": false,
     "start_time": "2024-05-28T10:00:32.919908",
     "status": "completed"
    },
    "tags": []
   },
   "outputs": [],
   "source": [
    "ics_0 = {x1.subs(t, 0): 0, x2.subs(t, 0): 0}\n",
    "ics_1 = {x1.subs(t, 1): -1, λ2.subs(t, 1): 0}\n",
    "ics_x1_t = {x1: -1, t: 1}\n",
    "ics_λ2_t = {λ2: 0, t: 1}"
   ]
  },
  {
   "cell_type": "code",
   "execution_count": 7,
   "id": "44fceae7",
   "metadata": {
    "execution": {
     "iopub.execute_input": "2024-05-28T10:00:32.955860Z",
     "iopub.status.busy": "2024-05-28T10:00:32.955480Z",
     "iopub.status.idle": "2024-05-28T10:00:32.963180Z",
     "shell.execute_reply": "2024-05-28T10:00:32.962093Z"
    },
    "papermill": {
     "duration": 0.018845,
     "end_time": "2024-05-28T10:00:32.965483",
     "exception": false,
     "start_time": "2024-05-28T10:00:32.946638",
     "status": "completed"
    },
    "tags": []
   },
   "outputs": [],
   "source": [
    "H = - λ0 * J + λ1 * eq_Dx1.rhs + λ2 * eq_Dx2.rhs"
   ]
  },
  {
   "cell_type": "code",
   "execution_count": 8,
   "id": "70b296b1",
   "metadata": {
    "execution": {
     "iopub.execute_input": "2024-05-28T10:00:32.983277Z",
     "iopub.status.busy": "2024-05-28T10:00:32.982886Z",
     "iopub.status.idle": "2024-05-28T10:00:33.000747Z",
     "shell.execute_reply": "2024-05-28T10:00:32.999948Z"
    },
    "papermill": {
     "duration": 0.030274,
     "end_time": "2024-05-28T10:00:33.003310",
     "exception": false,
     "start_time": "2024-05-28T10:00:32.973036",
     "status": "completed"
    },
    "tags": []
   },
   "outputs": [],
   "source": [
    "eq_Dλ1 = sp.Eq(λ1.diff(t), -H.diff(x1))\n",
    "eq_Dλ2 = sp.Eq(λ2.diff(t), -H.diff(x2))"
   ]
  },
  {
   "cell_type": "code",
   "execution_count": 9,
   "id": "57fc4361",
   "metadata": {
    "execution": {
     "iopub.execute_input": "2024-05-28T10:00:33.020813Z",
     "iopub.status.busy": "2024-05-28T10:00:33.019785Z",
     "iopub.status.idle": "2024-05-28T10:00:33.293248Z",
     "shell.execute_reply": "2024-05-28T10:00:33.292089Z"
    },
    "papermill": {
     "duration": 0.284909,
     "end_time": "2024-05-28T10:00:33.295914",
     "exception": false,
     "start_time": "2024-05-28T10:00:33.011005",
     "status": "completed"
    },
    "tags": []
   },
   "outputs": [
    {
     "name": "stdout",
     "output_type": "stream",
     "text": [
      "d            \n",
      "──(λ₁(t)) = 0\n",
      "dt           \n",
      "d                 \n",
      "──(λ₂(t)) = -λ₁(t)\n",
      "dt                \n"
     ]
    }
   ],
   "source": [
    "sp.pprint(eq_Dλ1)\n",
    "sp.pprint(eq_Dλ2)"
   ]
  },
  {
   "cell_type": "code",
   "execution_count": 10,
   "id": "3b8eed98",
   "metadata": {
    "execution": {
     "iopub.execute_input": "2024-05-28T10:00:33.313235Z",
     "iopub.status.busy": "2024-05-28T10:00:33.312834Z",
     "iopub.status.idle": "2024-05-28T10:00:33.342884Z",
     "shell.execute_reply": "2024-05-28T10:00:33.341916Z"
    },
    "papermill": {
     "duration": 0.041679,
     "end_time": "2024-05-28T10:00:33.345339",
     "exception": false,
     "start_time": "2024-05-28T10:00:33.303660",
     "status": "completed"
    },
    "tags": []
   },
   "outputs": [
    {
     "name": "stdout",
     "output_type": "stream",
     "text": [
      "λ₁(t) = C₁\n"
     ]
    }
   ],
   "source": [
    "λ1_val = sp.dsolve(eq_Dλ1)\n",
    "sp.pprint(λ1_val)"
   ]
  },
  {
   "cell_type": "code",
   "execution_count": 11,
   "id": "390c7be9",
   "metadata": {
    "execution": {
     "iopub.execute_input": "2024-05-28T10:00:33.362305Z",
     "iopub.status.busy": "2024-05-28T10:00:33.361909Z",
     "iopub.status.idle": "2024-05-28T10:00:33.422821Z",
     "shell.execute_reply": "2024-05-28T10:00:33.421566Z"
    },
    "papermill": {
     "duration": 0.072185,
     "end_time": "2024-05-28T10:00:33.425329",
     "exception": false,
     "start_time": "2024-05-28T10:00:33.353144",
     "status": "completed"
    },
    "tags": []
   },
   "outputs": [
    {
     "name": "stdout",
     "output_type": "stream",
     "text": [
      "λ₂(t) = -C₁⋅t + C₂\n"
     ]
    }
   ],
   "source": [
    "λ2_val = sp.dsolve(eq_Dλ2.subs(λ1, λ1_val.rhs))\n",
    "sp.pprint(λ2_val)"
   ]
  },
  {
   "cell_type": "code",
   "execution_count": 12,
   "id": "21ff5380",
   "metadata": {
    "execution": {
     "iopub.execute_input": "2024-05-28T10:00:33.443177Z",
     "iopub.status.busy": "2024-05-28T10:00:33.442817Z",
     "iopub.status.idle": "2024-05-28T10:00:33.486520Z",
     "shell.execute_reply": "2024-05-28T10:00:33.485443Z"
    },
    "papermill": {
     "duration": 0.055604,
     "end_time": "2024-05-28T10:00:33.489192",
     "exception": false,
     "start_time": "2024-05-28T10:00:33.433588",
     "status": "completed"
    },
    "tags": []
   },
   "outputs": [
    {
     "name": "stdout",
     "output_type": "stream",
     "text": [
      "      C₁⋅t   C₂\n",
      "u = - ──── + ──\n",
      "       2     2 \n"
     ]
    }
   ],
   "source": [
    "eq_u = sp.solve(sp.Eq(H.diff(u), 0), u)[0].subs(λ0, 1)\n",
    "u_val = sp.Eq(u, eq_u.subs(λ2, λ2_val.rhs))\n",
    "sp.pprint(u_val)"
   ]
  },
  {
   "cell_type": "code",
   "execution_count": 13,
   "id": "7ead55a8",
   "metadata": {
    "execution": {
     "iopub.execute_input": "2024-05-28T10:00:33.507157Z",
     "iopub.status.busy": "2024-05-28T10:00:33.506623Z",
     "iopub.status.idle": "2024-05-28T10:00:33.512751Z",
     "shell.execute_reply": "2024-05-28T10:00:33.511736Z"
    },
    "papermill": {
     "duration": 0.017823,
     "end_time": "2024-05-28T10:00:33.515145",
     "exception": false,
     "start_time": "2024-05-28T10:00:33.497322",
     "status": "completed"
    },
    "tags": []
   },
   "outputs": [
    {
     "name": "stdout",
     "output_type": "stream",
     "text": [
      "λ₂(t)\n",
      "─────\n",
      "  2  \n"
     ]
    }
   ],
   "source": [
    "sp.pprint(eq_u)"
   ]
  },
  {
   "cell_type": "code",
   "execution_count": 14,
   "id": "94e6ac98",
   "metadata": {
    "execution": {
     "iopub.execute_input": "2024-05-28T10:00:33.532804Z",
     "iopub.status.busy": "2024-05-28T10:00:33.532412Z",
     "iopub.status.idle": "2024-05-28T10:00:33.545164Z",
     "shell.execute_reply": "2024-05-28T10:00:33.544043Z"
    },
    "papermill": {
     "duration": 0.024712,
     "end_time": "2024-05-28T10:00:33.547859",
     "exception": false,
     "start_time": "2024-05-28T10:00:33.523147",
     "status": "completed"
    },
    "tags": []
   },
   "outputs": [
    {
     "name": "stdout",
     "output_type": "stream",
     "text": [
      "d             C₁⋅t   C₂\n",
      "──(x₂(t)) = - ──── + ──\n",
      "dt             2     2 \n"
     ]
    }
   ],
   "source": [
    "eq_Dx2 = eq_Dx2.subs(u, u_val.rhs)\n",
    "sp.pprint(eq_Dx2)"
   ]
  },
  {
   "cell_type": "code",
   "execution_count": 15,
   "id": "9e584857",
   "metadata": {
    "execution": {
     "iopub.execute_input": "2024-05-28T10:00:33.565768Z",
     "iopub.status.busy": "2024-05-28T10:00:33.565387Z",
     "iopub.status.idle": "2024-05-28T10:00:33.571783Z",
     "shell.execute_reply": "2024-05-28T10:00:33.570691Z"
    },
    "papermill": {
     "duration": 0.018539,
     "end_time": "2024-05-28T10:00:33.574490",
     "exception": false,
     "start_time": "2024-05-28T10:00:33.555951",
     "status": "completed"
    },
    "tags": []
   },
   "outputs": [
    {
     "name": "stdout",
     "output_type": "stream",
     "text": [
      "d                    \n",
      "──(x₁(t)) = x₂(t) - 2\n",
      "dt                   \n"
     ]
    }
   ],
   "source": [
    "sp.pprint(eq_Dx1)"
   ]
  },
  {
   "cell_type": "code",
   "execution_count": 16,
   "id": "a8b19aab",
   "metadata": {
    "execution": {
     "iopub.execute_input": "2024-05-28T10:00:33.592484Z",
     "iopub.status.busy": "2024-05-28T10:00:33.592040Z",
     "iopub.status.idle": "2024-05-28T10:00:33.948770Z",
     "shell.execute_reply": "2024-05-28T10:00:33.947607Z"
    },
    "papermill": {
     "duration": 0.368801,
     "end_time": "2024-05-28T10:00:33.951461",
     "exception": false,
     "start_time": "2024-05-28T10:00:33.582660",
     "status": "completed"
    },
    "tags": []
   },
   "outputs": [],
   "source": [
    "eqs_x1_x2 = sp.dsolve([eq_Dx2, eq_Dx1], ics=ics_0) # with ics at t=0"
   ]
  },
  {
   "cell_type": "code",
   "execution_count": 17,
   "id": "3d203b8f",
   "metadata": {
    "execution": {
     "iopub.execute_input": "2024-05-28T10:00:33.970111Z",
     "iopub.status.busy": "2024-05-28T10:00:33.969756Z",
     "iopub.status.idle": "2024-05-28T10:00:33.978160Z",
     "shell.execute_reply": "2024-05-28T10:00:33.976933Z"
    },
    "papermill": {
     "duration": 0.02108,
     "end_time": "2024-05-28T10:00:33.981021",
     "exception": false,
     "start_time": "2024-05-28T10:00:33.959941",
     "status": "completed"
    },
    "tags": []
   },
   "outputs": [
    {
     "name": "stdout",
     "output_type": "stream",
     "text": [
      "⎡              2                       3       2      ⎤\n",
      "⎢          C₁⋅t    C₂⋅t            C₁⋅t    C₂⋅t       ⎥\n",
      "⎢x₂(t) = - ───── + ────, x₁(t) = - ───── + ───── - 2⋅t⎥\n",
      "⎣            4      2                12      4        ⎦\n"
     ]
    }
   ],
   "source": [
    "sp.pprint(eqs_x1_x2)"
   ]
  },
  {
   "cell_type": "code",
   "execution_count": 18,
   "id": "abe18587",
   "metadata": {
    "execution": {
     "iopub.execute_input": "2024-05-28T10:00:33.999743Z",
     "iopub.status.busy": "2024-05-28T10:00:33.999341Z",
     "iopub.status.idle": "2024-05-28T10:00:34.031950Z",
     "shell.execute_reply": "2024-05-28T10:00:34.030957Z"
    },
    "papermill": {
     "duration": 0.044705,
     "end_time": "2024-05-28T10:00:34.034375",
     "exception": false,
     "start_time": "2024-05-28T10:00:33.989670",
     "status": "completed"
    },
    "tags": []
   },
   "outputs": [],
   "source": [
    "C1_C2_val = sp.solve([eqs_x1_x2[1].subs(ics_x1_t), λ2_val.subs(ics_λ2_t)])"
   ]
  },
  {
   "cell_type": "code",
   "execution_count": 19,
   "id": "5c3815a9",
   "metadata": {
    "execution": {
     "iopub.execute_input": "2024-05-28T10:00:34.052909Z",
     "iopub.status.busy": "2024-05-28T10:00:34.052551Z",
     "iopub.status.idle": "2024-05-28T10:00:34.058181Z",
     "shell.execute_reply": "2024-05-28T10:00:34.057233Z"
    },
    "papermill": {
     "duration": 0.017982,
     "end_time": "2024-05-28T10:00:34.060851",
     "exception": false,
     "start_time": "2024-05-28T10:00:34.042869",
     "status": "completed"
    },
    "tags": []
   },
   "outputs": [
    {
     "name": "stdout",
     "output_type": "stream",
     "text": [
      "{C₁: 6, C₂: 6}\n"
     ]
    }
   ],
   "source": [
    "sp.pprint(C1_C2_val)"
   ]
  },
  {
   "cell_type": "code",
   "execution_count": 20,
   "id": "120a4b44",
   "metadata": {
    "execution": {
     "iopub.execute_input": "2024-05-28T10:00:34.080175Z",
     "iopub.status.busy": "2024-05-28T10:00:34.079819Z",
     "iopub.status.idle": "2024-05-28T10:00:34.127110Z",
     "shell.execute_reply": "2024-05-28T10:00:34.126067Z"
    },
    "papermill": {
     "duration": 0.059888,
     "end_time": "2024-05-28T10:00:34.129736",
     "exception": false,
     "start_time": "2024-05-28T10:00:34.069848",
     "status": "completed"
    },
    "tags": []
   },
   "outputs": [],
   "source": [
    "x1_x2_u_val = list(map(lambda eq: eq.subs(C1_C2_val), [*eqs_x1_x2, u_val]))"
   ]
  },
  {
   "cell_type": "code",
   "execution_count": 21,
   "id": "e3d88901",
   "metadata": {
    "execution": {
     "iopub.execute_input": "2024-05-28T10:00:34.148692Z",
     "iopub.status.busy": "2024-05-28T10:00:34.148303Z",
     "iopub.status.idle": "2024-05-28T10:00:34.156073Z",
     "shell.execute_reply": "2024-05-28T10:00:34.155059Z"
    },
    "papermill": {
     "duration": 0.020777,
     "end_time": "2024-05-28T10:00:34.159243",
     "exception": false,
     "start_time": "2024-05-28T10:00:34.138466",
     "status": "completed"
    },
    "tags": []
   },
   "outputs": [
    {
     "name": "stdout",
     "output_type": "stream",
     "text": [
      "⎡             2                   3      2                   ⎤\n",
      "⎢          3⋅t                   t    3⋅t                    ⎥\n",
      "⎢x₂(t) = - ──── + 3⋅t, x₁(t) = - ── + ──── - 2⋅t, u = 3 - 3⋅t⎥\n",
      "⎣           2                    2     2                     ⎦\n"
     ]
    }
   ],
   "source": [
    "sp.pprint(x1_x2_u_val)"
   ]
  }
 ],
 "metadata": {
  "kaggle": {
   "accelerator": "none",
   "dataSources": [],
   "dockerImageVersionId": 30698,
   "isGpuEnabled": false,
   "isInternetEnabled": true,
   "language": "python",
   "sourceType": "notebook"
  },
  "kernelspec": {
   "display_name": "Python 3",
   "language": "python",
   "name": "python3"
  },
  "language_info": {
   "codemirror_mode": {
    "name": "ipython",
    "version": 3
   },
   "file_extension": ".py",
   "mimetype": "text/x-python",
   "name": "python",
   "nbconvert_exporter": "python",
   "pygments_lexer": "ipython3",
   "version": "3.10.13"
  },
  "papermill": {
   "default_parameters": {},
   "duration": 5.662151,
   "end_time": "2024-05-28T10:00:34.688303",
   "environment_variables": {},
   "exception": null,
   "input_path": "__notebook__.ipynb",
   "output_path": "__notebook__.ipynb",
   "parameters": {},
   "start_time": "2024-05-28T10:00:29.026152",
   "version": "2.5.0"
  }
 },
 "nbformat": 4,
 "nbformat_minor": 5
}
