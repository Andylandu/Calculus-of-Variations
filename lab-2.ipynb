{
 "cells": [
  {
   "cell_type": "markdown",
   "id": "07f7bfe2",
   "metadata": {
    "papermill": {
     "duration": 0.011381,
     "end_time": "2024-05-29T21:44:44.972776",
     "exception": false,
     "start_time": "2024-05-29T21:44:44.961395",
     "status": "completed"
    },
    "tags": []
   },
   "source": [
    "# **Lab 2**\n",
    "# **Вариационное Исчисление**\n",
    "# **Задача с подвижными концами**"
   ]
  },
  {
   "cell_type": "code",
   "execution_count": 1,
   "id": "117f834a",
   "metadata": {
    "execution": {
     "iopub.execute_input": "2024-05-29T21:44:44.997282Z",
     "iopub.status.busy": "2024-05-29T21:44:44.996403Z",
     "iopub.status.idle": "2024-05-29T21:44:46.104213Z",
     "shell.execute_reply": "2024-05-29T21:44:46.102744Z"
    },
    "papermill": {
     "duration": 1.123341,
     "end_time": "2024-05-29T21:44:46.107080",
     "exception": false,
     "start_time": "2024-05-29T21:44:44.983739",
     "status": "completed"
    },
    "tags": []
   },
   "outputs": [],
   "source": [
    "import sympy as sp\n",
    "import numpy as np\n",
    "import matplotlib.pyplot as plt\n",
    "\n",
    "%matplotlib inline\n",
    "sp.init_printing()"
   ]
  },
  {
   "cell_type": "markdown",
   "id": "b0218b73",
   "metadata": {
    "papermill": {
     "duration": 0.010938,
     "end_time": "2024-05-29T21:44:46.128618",
     "exception": false,
     "start_time": "2024-05-29T21:44:46.117680",
     "status": "completed"
    },
    "tags": []
   },
   "source": [
    "## Исходные данные:"
   ]
  },
  {
   "cell_type": "code",
   "execution_count": 2,
   "id": "7e8fdcfd",
   "metadata": {
    "execution": {
     "iopub.execute_input": "2024-05-29T21:44:46.153826Z",
     "iopub.status.busy": "2024-05-29T21:44:46.153232Z",
     "iopub.status.idle": "2024-05-29T21:44:46.164279Z",
     "shell.execute_reply": "2024-05-29T21:44:46.162938Z"
    },
    "papermill": {
     "duration": 0.027418,
     "end_time": "2024-05-29T21:44:46.167506",
     "exception": false,
     "start_time": "2024-05-29T21:44:46.140088",
     "status": "completed"
    },
    "tags": []
   },
   "outputs": [],
   "source": [
    "t, λ0, λ1, C1, C2 = sp.symbols('t λ0 λ1 C1 C2')\n",
    "x = sp.Function('x')(t)\n",
    "Dx = x.diff(t)\n",
    "t0, t2 = (0, 2)"
   ]
  },
  {
   "cell_type": "markdown",
   "id": "bcf68bb4",
   "metadata": {
    "papermill": {
     "duration": 0.010708,
     "end_time": "2024-05-29T21:44:46.188655",
     "exception": false,
     "start_time": "2024-05-29T21:44:46.177947",
     "status": "completed"
    },
    "tags": []
   },
   "source": [
    "## Подынтегральная функция"
   ]
  },
  {
   "cell_type": "code",
   "execution_count": 3,
   "id": "78758aed",
   "metadata": {
    "execution": {
     "iopub.execute_input": "2024-05-29T21:44:46.211238Z",
     "iopub.status.busy": "2024-05-29T21:44:46.210808Z",
     "iopub.status.idle": "2024-05-29T21:44:46.986120Z",
     "shell.execute_reply": "2024-05-29T21:44:46.984864Z"
    },
    "papermill": {
     "duration": 0.789813,
     "end_time": "2024-05-29T21:44:46.988859",
     "exception": false,
     "start_time": "2024-05-29T21:44:46.199046",
     "status": "completed"
    },
    "tags": []
   },
   "outputs": [
    {
     "data": {
      "image/png": "[encoded data removed]",
      "text/latex": [
       "$\\displaystyle λ_{0} \\left(- x^{2}{\\left(t \\right)} + 4 x{\\left(t \\right)} \\sin{\\left(t \\right)} - \\left(\\frac{d}{d t} x{\\left(t \\right)}\\right)^{2}\\right)$"
      ],
      "text/plain": [
       "   ⎛                                    2⎞\n",
       "   ⎜   2                      ⎛d       ⎞ ⎟\n",
       "λ₀⋅⎜- x (t) + 4⋅x(t)⋅sin(t) - ⎜──(x(t))⎟ ⎟\n",
       "   ⎝                          ⎝dt      ⎠ ⎠"
      ]
     },
     "execution_count": 3,
     "metadata": {},
     "output_type": "execute_result"
    }
   ],
   "source": [
    "L = λ0 * (4 * x * sp.sin(t) - Dx**2 - x**2)\n",
    "L"
   ]
  },
  {
   "cell_type": "markdown",
   "id": "fd7e9283",
   "metadata": {
    "papermill": {
     "duration": 0.012107,
     "end_time": "2024-05-29T21:44:47.011952",
     "exception": false,
     "start_time": "2024-05-29T21:44:46.999845",
     "status": "completed"
    },
    "tags": []
   },
   "source": [
    "## терминант"
   ]
  },
  {
   "cell_type": "code",
   "execution_count": 4,
   "id": "4e3a758a",
   "metadata": {
    "execution": {
     "iopub.execute_input": "2024-05-29T21:44:47.036282Z",
     "iopub.status.busy": "2024-05-29T21:44:47.035348Z",
     "iopub.status.idle": "2024-05-29T21:44:47.139203Z",
     "shell.execute_reply": "2024-05-29T21:44:47.137727Z"
    },
    "papermill": {
     "duration": 0.119198,
     "end_time": "2024-05-29T21:44:47.142129",
     "exception": false,
     "start_time": "2024-05-29T21:44:47.022931",
     "status": "completed"
    },
    "tags": []
   },
   "outputs": [
    {
     "data": {
      "image/png": "[encoded data removed]",
      "text/latex": [
       "$\\displaystyle λ_{0} x^{2}{\\left(2 \\right)} + λ_{1} \\left(x{\\left(0 \\right)} - 1\\right)$"
      ],
      "text/plain": [
       "    2                   \n",
       "λ₀⋅x (2) + λ₁⋅(x(0) - 1)"
      ]
     },
     "execution_count": 4,
     "metadata": {},
     "output_type": "execute_result"
    }
   ],
   "source": [
    "l = λ0 * x.subs(t, t2)**2 + λ1 * (x.subs(t, t0) - 1)\n",
    "l"
   ]
  },
  {
   "cell_type": "markdown",
   "id": "4b799ee8",
   "metadata": {
    "papermill": {
     "duration": 0.011042,
     "end_time": "2024-05-29T21:44:47.164521",
     "exception": false,
     "start_time": "2024-05-29T21:44:47.153479",
     "status": "completed"
    },
    "tags": []
   },
   "source": [
    "## Вычислим частные произвoдные:"
   ]
  },
  {
   "cell_type": "code",
   "execution_count": 5,
   "id": "9e0d94a2",
   "metadata": {
    "execution": {
     "iopub.execute_input": "2024-05-29T21:44:47.190702Z",
     "iopub.status.busy": "2024-05-29T21:44:47.190261Z",
     "iopub.status.idle": "2024-05-29T21:44:47.310364Z",
     "shell.execute_reply": "2024-05-29T21:44:47.309187Z"
    },
    "papermill": {
     "duration": 0.13624,
     "end_time": "2024-05-29T21:44:47.312906",
     "exception": false,
     "start_time": "2024-05-29T21:44:47.176666",
     "status": "completed"
    },
    "tags": []
   },
   "outputs": [
    {
     "data": {
      "image/png": "[encoded data removed]",
      "text/latex": [
       "$\\displaystyle λ_{0} \\left(- 2 x{\\left(t \\right)} + 4 \\sin{\\left(t \\right)}\\right)$"
      ],
      "text/plain": [
       "λ₀⋅(-2⋅x(t) + 4⋅sin(t))"
      ]
     },
     "execution_count": 5,
     "metadata": {},
     "output_type": "execute_result"
    }
   ],
   "source": [
    "Lx = L.diff(x)\n",
    "Lx"
   ]
  },
  {
   "cell_type": "code",
   "execution_count": 6,
   "id": "5e8c06e3",
   "metadata": {
    "execution": {
     "iopub.execute_input": "2024-05-29T21:44:47.338378Z",
     "iopub.status.busy": "2024-05-29T21:44:47.337704Z",
     "iopub.status.idle": "2024-05-29T21:44:47.429268Z",
     "shell.execute_reply": "2024-05-29T21:44:47.427973Z"
    },
    "papermill": {
     "duration": 0.107422,
     "end_time": "2024-05-29T21:44:47.432228",
     "exception": false,
     "start_time": "2024-05-29T21:44:47.324806",
     "status": "completed"
    },
    "tags": []
   },
   "outputs": [
    {
     "data": {
      "image/png": "[encoded data removed]",
      "text/latex": [
       "$\\displaystyle - 2 λ_{0} \\frac{d}{d t} x{\\left(t \\right)}$"
      ],
      "text/plain": [
       "      d       \n",
       "-2⋅λ₀⋅──(x(t))\n",
       "      dt      "
      ]
     },
     "execution_count": 6,
     "metadata": {},
     "output_type": "execute_result"
    }
   ],
   "source": [
    "LDx = L.diff(Dx)\n",
    "LDx"
   ]
  },
  {
   "cell_type": "code",
   "execution_count": 7,
   "id": "7c79a983",
   "metadata": {
    "execution": {
     "iopub.execute_input": "2024-05-29T21:44:47.459241Z",
     "iopub.status.busy": "2024-05-29T21:44:47.458327Z",
     "iopub.status.idle": "2024-05-29T21:44:47.546857Z",
     "shell.execute_reply": "2024-05-29T21:44:47.545534Z"
    },
    "papermill": {
     "duration": 0.106067,
     "end_time": "2024-05-29T21:44:47.549977",
     "exception": false,
     "start_time": "2024-05-29T21:44:47.443910",
     "status": "completed"
    },
    "tags": []
   },
   "outputs": [
    {
     "data": {
      "image/png": "[encoded data removed]",
      "text/latex": [
       "$\\displaystyle - 2 λ_{0} \\frac{d^{2}}{d t^{2}} x{\\left(t \\right)}$"
      ],
      "text/plain": [
       "        2      \n",
       "       d       \n",
       "-2⋅λ₀⋅───(x(t))\n",
       "        2      \n",
       "      dt       "
      ]
     },
     "execution_count": 7,
     "metadata": {},
     "output_type": "execute_result"
    }
   ],
   "source": [
    "LDx_dt = LDx.diff(t)\n",
    "LDx_dt"
   ]
  },
  {
   "cell_type": "code",
   "execution_count": 8,
   "id": "16fde648",
   "metadata": {
    "execution": {
     "iopub.execute_input": "2024-05-29T21:44:47.577731Z",
     "iopub.status.busy": "2024-05-29T21:44:47.577078Z",
     "iopub.status.idle": "2024-05-29T21:44:47.715521Z",
     "shell.execute_reply": "2024-05-29T21:44:47.714337Z"
    },
    "papermill": {
     "duration": 0.155393,
     "end_time": "2024-05-29T21:44:47.718295",
     "exception": false,
     "start_time": "2024-05-29T21:44:47.562902",
     "status": "completed"
    },
    "tags": []
   },
   "outputs": [
    {
     "data": {
      "image/png": "[encoded data removed]",
      "text/latex": [
       "$\\displaystyle λ_{1}$"
      ],
      "text/plain": [
       "λ₁"
      ]
     },
     "execution_count": 8,
     "metadata": {},
     "output_type": "execute_result"
    }
   ],
   "source": [
    "lx_0 = l.diff(x.subs(t, t0))\n",
    "lx_0"
   ]
  },
  {
   "cell_type": "code",
   "execution_count": 9,
   "id": "d3f499ab",
   "metadata": {
    "execution": {
     "iopub.execute_input": "2024-05-29T21:44:47.744399Z",
     "iopub.status.busy": "2024-05-29T21:44:47.743251Z",
     "iopub.status.idle": "2024-05-29T21:44:47.818908Z",
     "shell.execute_reply": "2024-05-29T21:44:47.817528Z"
    },
    "papermill": {
     "duration": 0.09173,
     "end_time": "2024-05-29T21:44:47.821767",
     "exception": false,
     "start_time": "2024-05-29T21:44:47.730037",
     "status": "completed"
    },
    "tags": []
   },
   "outputs": [
    {
     "data": {
      "image/png": "[encoded data removed]",
      "text/latex": [
       "$\\displaystyle 2 λ_{0} x{\\left(2 \\right)}$"
      ],
      "text/plain": [
       "2⋅λ₀⋅x(2)"
      ]
     },
     "execution_count": 9,
     "metadata": {},
     "output_type": "execute_result"
    }
   ],
   "source": [
    "lx_2 = l.diff(x.subs(t, t2))\n",
    "lx_2"
   ]
  },
  {
   "cell_type": "markdown",
   "id": "3f952b85",
   "metadata": {
    "papermill": {
     "duration": 0.011662,
     "end_time": "2024-05-29T21:44:47.846651",
     "exception": false,
     "start_time": "2024-05-29T21:44:47.834989",
     "status": "completed"
    },
    "tags": []
   },
   "source": [
    "## Запишем условие стационарности, уравнение Эйлера и его решение:"
   ]
  },
  {
   "cell_type": "code",
   "execution_count": 10,
   "id": "02d82ab0",
   "metadata": {
    "execution": {
     "iopub.execute_input": "2024-05-29T21:44:47.874057Z",
     "iopub.status.busy": "2024-05-29T21:44:47.873158Z",
     "iopub.status.idle": "2024-05-29T21:44:47.997239Z",
     "shell.execute_reply": "2024-05-29T21:44:47.996021Z"
    },
    "papermill": {
     "duration": 0.141023,
     "end_time": "2024-05-29T21:44:48.000273",
     "exception": false,
     "start_time": "2024-05-29T21:44:47.859250",
     "status": "completed"
    },
    "tags": []
   },
   "outputs": [
    {
     "data": {
      "image/png": "[encoded data removed]",
      "text/latex": [
       "$\\displaystyle λ_{0} \\left(- 2 x{\\left(t \\right)} + 4 \\sin{\\left(t \\right)}\\right) + 2 λ_{0} \\frac{d^{2}}{d t^{2}} x{\\left(t \\right)} = 0$"
      ],
      "text/plain": [
       "                                 2          \n",
       "                                d           \n",
       "λ₀⋅(-2⋅x(t) + 4⋅sin(t)) + 2⋅λ₀⋅───(x(t)) = 0\n",
       "                                 2          \n",
       "                               dt           "
      ]
     },
     "execution_count": 10,
     "metadata": {},
     "output_type": "execute_result"
    }
   ],
   "source": [
    "Euler = sp.Eq(-LDx_dt + Lx, 0)\n",
    "Euler"
   ]
  },
  {
   "cell_type": "markdown",
   "id": "c038d376",
   "metadata": {
    "papermill": {
     "duration": 0.012565,
     "end_time": "2024-05-29T21:44:48.026800",
     "exception": false,
     "start_time": "2024-05-29T21:44:48.014235",
     "status": "completed"
    },
    "tags": []
   },
   "source": [
    "### Общее решение"
   ]
  },
  {
   "cell_type": "code",
   "execution_count": 11,
   "id": "1b777826",
   "metadata": {
    "execution": {
     "iopub.execute_input": "2024-05-29T21:44:48.056282Z",
     "iopub.status.busy": "2024-05-29T21:44:48.055596Z",
     "iopub.status.idle": "2024-05-29T21:44:48.369585Z",
     "shell.execute_reply": "2024-05-29T21:44:48.368098Z"
    },
    "papermill": {
     "duration": 0.33241,
     "end_time": "2024-05-29T21:44:48.373111",
     "exception": false,
     "start_time": "2024-05-29T21:44:48.040701",
     "status": "completed"
    },
    "tags": []
   },
   "outputs": [
    {
     "data": {
      "image/png": "[encoded data removed]",
      "text/latex": [
       "$\\displaystyle x{\\left(t \\right)} = C_{1} e^{- t} + C_{2} e^{t} + \\sin{\\left(t \\right)}$"
      ],
      "text/plain": [
       "           -t       t         \n",
       "x(t) = C₁⋅ℯ   + C₂⋅ℯ  + sin(t)"
      ]
     },
     "execution_count": 11,
     "metadata": {},
     "output_type": "execute_result"
    }
   ],
   "source": [
    "Euler_sol = sp.dsolve(Euler)\n",
    "Euler_sol"
   ]
  },
  {
   "cell_type": "markdown",
   "id": "d26cc361",
   "metadata": {
    "papermill": {
     "duration": 0.013703,
     "end_time": "2024-05-29T21:44:48.400200",
     "exception": false,
     "start_time": "2024-05-29T21:44:48.386497",
     "status": "completed"
    },
    "tags": []
   },
   "source": [
    "### Вычислим произвoдное общего решения"
   ]
  },
  {
   "cell_type": "code",
   "execution_count": 12,
   "id": "3439a68b",
   "metadata": {
    "execution": {
     "iopub.execute_input": "2024-05-29T21:44:48.428450Z",
     "iopub.status.busy": "2024-05-29T21:44:48.427142Z",
     "iopub.status.idle": "2024-05-29T21:44:48.522643Z",
     "shell.execute_reply": "2024-05-29T21:44:48.521010Z"
    },
    "papermill": {
     "duration": 0.113196,
     "end_time": "2024-05-29T21:44:48.526461",
     "exception": false,
     "start_time": "2024-05-29T21:44:48.413265",
     "status": "completed"
    },
    "tags": []
   },
   "outputs": [
    {
     "data": {
      "image/png": "[encoded data removed]",
      "text/latex": [
       "$\\displaystyle - C_{1} e^{- t} + C_{2} e^{t} + \\cos{\\left(t \\right)}$"
      ],
      "text/plain": [
       "      -t       t         \n",
       "- C₁⋅ℯ   + C₂⋅ℯ  + cos(t)"
      ]
     },
     "execution_count": 12,
     "metadata": {},
     "output_type": "execute_result"
    }
   ],
   "source": [
    "Euler_sol_Dx = Euler_sol.rhs.diff(t)\n",
    "Euler_sol_Dx"
   ]
  },
  {
   "cell_type": "markdown",
   "id": "92ec0f02",
   "metadata": {
    "papermill": {
     "duration": 0.014068,
     "end_time": "2024-05-29T21:44:48.554108",
     "exception": false,
     "start_time": "2024-05-29T21:44:48.540040",
     "status": "completed"
    },
    "tags": []
   },
   "source": [
    "## Запишем условие трансверсальности:"
   ]
  },
  {
   "cell_type": "code",
   "execution_count": 13,
   "id": "1c88ca8c",
   "metadata": {
    "execution": {
     "iopub.execute_input": "2024-05-29T21:44:48.583931Z",
     "iopub.status.busy": "2024-05-29T21:44:48.583453Z",
     "iopub.status.idle": "2024-05-29T21:44:48.653688Z",
     "shell.execute_reply": "2024-05-29T21:44:48.652162Z"
    },
    "papermill": {
     "duration": 0.088568,
     "end_time": "2024-05-29T21:44:48.656631",
     "exception": false,
     "start_time": "2024-05-29T21:44:48.568063",
     "status": "completed"
    },
    "tags": []
   },
   "outputs": [
    {
     "data": {
      "text/latex": [
       "$\\displaystyle - 2 λ_{0} \\left. \\frac{d}{d t} x{\\left(t \\right)} \\right|_{\\substack{ t=0 }} = λ_{1}$"
      ],
      "text/plain": [
       "      ⎛d       ⎞│        \n",
       "-2⋅λ₀⋅⎜──(x(t))⎟│    = λ₁\n",
       "      ⎝dt      ⎠│t=0     "
      ]
     },
     "execution_count": 13,
     "metadata": {},
     "output_type": "execute_result"
    }
   ],
   "source": [
    "eq_0 = sp.Eq(LDx.subs(t, t0), lx_0)\n",
    "eq_0"
   ]
  },
  {
   "cell_type": "code",
   "execution_count": 14,
   "id": "f7568600",
   "metadata": {
    "execution": {
     "iopub.execute_input": "2024-05-29T21:44:48.686075Z",
     "iopub.status.busy": "2024-05-29T21:44:48.685658Z",
     "iopub.status.idle": "2024-05-29T21:44:48.770885Z",
     "shell.execute_reply": "2024-05-29T21:44:48.769712Z"
    },
    "papermill": {
     "duration": 0.103436,
     "end_time": "2024-05-29T21:44:48.773914",
     "exception": false,
     "start_time": "2024-05-29T21:44:48.670478",
     "status": "completed"
    },
    "tags": []
   },
   "outputs": [
    {
     "data": {
      "text/latex": [
       "$\\displaystyle - 2 λ_{0} \\left. \\frac{d}{d t} x{\\left(t \\right)} \\right|_{\\substack{ t=2 }} = - 2 λ_{0} x{\\left(2 \\right)}$"
      ],
      "text/plain": [
       "      ⎛d       ⎞│                \n",
       "-2⋅λ₀⋅⎜──(x(t))⎟│    = -2⋅λ₀⋅x(2)\n",
       "      ⎝dt      ⎠│t=2             "
      ]
     },
     "execution_count": 14,
     "metadata": {},
     "output_type": "execute_result"
    }
   ],
   "source": [
    "eq_2 = sp.Eq(LDx.subs(t, t2), -lx_2)\n",
    "eq_2"
   ]
  },
  {
   "cell_type": "markdown",
   "id": "a42489bc",
   "metadata": {
    "papermill": {
     "duration": 0.017185,
     "end_time": "2024-05-29T21:44:48.804942",
     "exception": false,
     "start_time": "2024-05-29T21:44:48.787757",
     "status": "completed"
    },
    "tags": []
   },
   "source": [
    "## Запишем условие связи:"
   ]
  },
  {
   "cell_type": "code",
   "execution_count": 15,
   "id": "0326a70a",
   "metadata": {
    "execution": {
     "iopub.execute_input": "2024-05-29T21:44:48.836028Z",
     "iopub.status.busy": "2024-05-29T21:44:48.835618Z",
     "iopub.status.idle": "2024-05-29T21:44:48.905995Z",
     "shell.execute_reply": "2024-05-29T21:44:48.904495Z"
    },
    "papermill": {
     "duration": 0.089297,
     "end_time": "2024-05-29T21:44:48.909957",
     "exception": false,
     "start_time": "2024-05-29T21:44:48.820660",
     "status": "completed"
    },
    "tags": []
   },
   "outputs": [
    {
     "data": {
      "image/png": "[encoded data removed]",
      "text/latex": [
       "$\\displaystyle \\left\\{ t : 0, \\  x{\\left(t \\right)} : 1\\right\\}$"
      ],
      "text/plain": [
       "{t: 0, x(t): 1}"
      ]
     },
     "execution_count": 15,
     "metadata": {},
     "output_type": "execute_result"
    }
   ],
   "source": [
    "ics = {t: t0, x: 1}\n",
    "ics"
   ]
  },
  {
   "cell_type": "markdown",
   "id": "fbd9fa57",
   "metadata": {
    "papermill": {
     "duration": 0.013069,
     "end_time": "2024-05-29T21:44:48.937983",
     "exception": false,
     "start_time": "2024-05-29T21:44:48.924914",
     "status": "completed"
    },
    "tags": []
   },
   "source": [
    "## Подставим граничные условия t0 = 0 и x(t0) = 1 в найденное общее решение и находим значение С2"
   ]
  },
  {
   "cell_type": "code",
   "execution_count": 16,
   "id": "c747214b",
   "metadata": {
    "execution": {
     "iopub.execute_input": "2024-05-29T21:44:48.969636Z",
     "iopub.status.busy": "2024-05-29T21:44:48.968984Z",
     "iopub.status.idle": "2024-05-29T21:44:49.342000Z",
     "shell.execute_reply": "2024-05-29T21:44:49.340551Z"
    },
    "papermill": {
     "duration": 0.393082,
     "end_time": "2024-05-29T21:44:49.345039",
     "exception": false,
     "start_time": "2024-05-29T21:44:48.951957",
     "status": "completed"
    },
    "tags": []
   },
   "outputs": [
    {
     "data": {
      "image/png": "[encoded data removed]",
      "text/latex": [
       "$\\displaystyle 1 - C_{1}$"
      ],
      "text/plain": [
       "1 - C₁"
      ]
     },
     "execution_count": 16,
     "metadata": {},
     "output_type": "execute_result"
    }
   ],
   "source": [
    "C2_val = sp.solve(Euler_sol, C2)[0].subs(ics)\n",
    "C2_val"
   ]
  },
  {
   "cell_type": "code",
   "execution_count": 17,
   "id": "103d7bc4",
   "metadata": {
    "execution": {
     "iopub.execute_input": "2024-05-29T21:44:49.375946Z",
     "iopub.status.busy": "2024-05-29T21:44:49.375451Z",
     "iopub.status.idle": "2024-05-29T21:44:49.550371Z",
     "shell.execute_reply": "2024-05-29T21:44:49.549160Z"
    },
    "papermill": {
     "duration": 0.194121,
     "end_time": "2024-05-29T21:44:49.553484",
     "exception": false,
     "start_time": "2024-05-29T21:44:49.359363",
     "status": "completed"
    },
    "tags": []
   },
   "outputs": [
    {
     "data": {
      "image/png": "[encoded data removed]",
      "text/latex": [
       "$\\displaystyle \\left( C_{1} - C_{2} - 1 = λ_{1}, \\  \\frac{C_{1}}{e^{2}} - C_{2} e^{2} - \\cos{\\left(2 \\right)} = - \\frac{C_{1}}{e^{2}} - C_{2} e^{2} - \\sin{\\left(2 \\right)}\\right)$"
      ],
      "text/plain": [
       "⎛                      -2       2                  -2       2         ⎞\n",
       "⎝C₁ - C₂ - 1 = λ₁, C₁⋅ℯ   - C₂⋅ℯ  - cos(2) = - C₁⋅ℯ   - C₂⋅ℯ  - sin(2)⎠"
      ]
     },
     "execution_count": 17,
     "metadata": {},
     "output_type": "execute_result"
    }
   ],
   "source": [
    "λ0 = sp.S(1) / 2\n",
    "eq_transv_0 = sp.Eq(-2 * λ0 * Euler_sol_Dx.subs(t, t0), lx_0)\n",
    "eq_transv_2 = sp.Eq(-2 * λ0 * Euler_sol_Dx.subs(t, t2), -2 * λ0 * Euler_sol.rhs.subs(t, t2))\n",
    "eq_transv_0, eq_transv_2"
   ]
  },
  {
   "cell_type": "code",
   "execution_count": 18,
   "id": "c9907523",
   "metadata": {
    "execution": {
     "iopub.execute_input": "2024-05-29T21:44:49.583253Z",
     "iopub.status.busy": "2024-05-29T21:44:49.582832Z",
     "iopub.status.idle": "2024-05-29T21:44:49.760042Z",
     "shell.execute_reply": "2024-05-29T21:44:49.759021Z"
    },
    "papermill": {
     "duration": 0.195832,
     "end_time": "2024-05-29T21:44:49.763398",
     "exception": false,
     "start_time": "2024-05-29T21:44:49.567566",
     "status": "completed"
    },
    "tags": []
   },
   "outputs": [
    {
     "data": {
      "image/png": "[encoded data removed]",
      "text/latex": [
       "$\\displaystyle \\frac{\\sqrt{2} e^{2} \\cos{\\left(\\frac{\\pi}{4} + 2 \\right)}}{2}$"
      ],
      "text/plain": [
       "    2    ⎛π    ⎞\n",
       "√2⋅ℯ ⋅cos⎜─ + 2⎟\n",
       "         ⎝4    ⎠\n",
       "────────────────\n",
       "       2        "
      ]
     },
     "execution_count": 18,
     "metadata": {},
     "output_type": "execute_result"
    }
   ],
   "source": [
    "C1_val = sp.solve(eq_transv_2, C1)[0]\n",
    "C1_val"
   ]
  },
  {
   "cell_type": "code",
   "execution_count": 19,
   "id": "6a202694",
   "metadata": {
    "execution": {
     "iopub.execute_input": "2024-05-29T21:44:49.799147Z",
     "iopub.status.busy": "2024-05-29T21:44:49.798712Z",
     "iopub.status.idle": "2024-05-29T21:44:49.889836Z",
     "shell.execute_reply": "2024-05-29T21:44:49.888517Z"
    },
    "papermill": {
     "duration": 0.115025,
     "end_time": "2024-05-29T21:44:49.892675",
     "exception": false,
     "start_time": "2024-05-29T21:44:49.777650",
     "status": "completed"
    },
    "tags": []
   },
   "outputs": [
    {
     "data": {
      "image/png": "[encoded data removed]",
      "text/latex": [
       "$\\displaystyle 1 - \\frac{\\sqrt{2} e^{2} \\cos{\\left(\\frac{\\pi}{4} + 2 \\right)}}{2}$"
      ],
      "text/plain": [
       "        2    ⎛π    ⎞\n",
       "    √2⋅ℯ ⋅cos⎜─ + 2⎟\n",
       "             ⎝4    ⎠\n",
       "1 - ────────────────\n",
       "           2        "
      ]
     },
     "execution_count": 19,
     "metadata": {},
     "output_type": "execute_result"
    }
   ],
   "source": [
    "C2_val = C2_val.subs(C1, C1_val)\n",
    "C2_val"
   ]
  },
  {
   "cell_type": "code",
   "execution_count": 20,
   "id": "683cda42",
   "metadata": {
    "execution": {
     "iopub.execute_input": "2024-05-29T21:44:49.922784Z",
     "iopub.status.busy": "2024-05-29T21:44:49.922297Z",
     "iopub.status.idle": "2024-05-29T21:44:50.090048Z",
     "shell.execute_reply": "2024-05-29T21:44:50.088083Z"
    },
    "papermill": {
     "duration": 0.186088,
     "end_time": "2024-05-29T21:44:50.092961",
     "exception": false,
     "start_time": "2024-05-29T21:44:49.906873",
     "status": "completed"
    },
    "tags": []
   },
   "outputs": [
    {
     "data": {
      "image/png": "[encoded data removed]",
      "text/latex": [
       "$\\displaystyle \\left\\{ C_{1} : \\frac{\\sqrt{2} e^{2} \\cos{\\left(\\frac{\\pi}{4} + 2 \\right)}}{2}, \\  C_{2} : 1 - \\frac{\\sqrt{2} e^{2} \\cos{\\left(\\frac{\\pi}{4} + 2 \\right)}}{2}\\right\\}$"
      ],
      "text/plain": [
       "⎧        2    ⎛π    ⎞              2    ⎛π    ⎞⎫\n",
       "⎪    √2⋅ℯ ⋅cos⎜─ + 2⎟          √2⋅ℯ ⋅cos⎜─ + 2⎟⎪\n",
       "⎨             ⎝4    ⎠                   ⎝4    ⎠⎬\n",
       "⎪C₁: ────────────────, C₂: 1 - ────────────────⎪\n",
       "⎩           2                         2        ⎭"
      ]
     },
     "execution_count": 20,
     "metadata": {},
     "output_type": "execute_result"
    }
   ],
   "source": [
    "C1_C2 = {C1: C1_val, C2: C2_val}\n",
    "C1_C2"
   ]
  },
  {
   "cell_type": "code",
   "execution_count": 21,
   "id": "59a8e060",
   "metadata": {
    "execution": {
     "iopub.execute_input": "2024-05-29T21:44:50.126083Z",
     "iopub.status.busy": "2024-05-29T21:44:50.125654Z",
     "iopub.status.idle": "2024-05-29T21:44:50.367514Z",
     "shell.execute_reply": "2024-05-29T21:44:50.365927Z"
    },
    "papermill": {
     "duration": 0.261782,
     "end_time": "2024-05-29T21:44:50.370968",
     "exception": false,
     "start_time": "2024-05-29T21:44:50.109186",
     "status": "completed"
    },
    "tags": []
   },
   "outputs": [
    {
     "data": {
      "image/png": "[encoded data removed]",
      "text/latex": [
       "$\\displaystyle \\sqrt{2} e^{2} \\cos{\\left(\\frac{\\pi}{4} + 2 \\right)} - 2$"
      ],
      "text/plain": [
       "    2    ⎛π    ⎞    \n",
       "√2⋅ℯ ⋅cos⎜─ + 2⎟ - 2\n",
       "         ⎝4    ⎠    "
      ]
     },
     "execution_count": 21,
     "metadata": {},
     "output_type": "execute_result"
    }
   ],
   "source": [
    "λ1 = sp.solve(eq_transv_0.subs(C1_C2), λ1)[0]\n",
    "λ1"
   ]
  },
  {
   "cell_type": "markdown",
   "id": "887935b4",
   "metadata": {
    "papermill": {
     "duration": 0.015984,
     "end_time": "2024-05-29T21:44:50.403929",
     "exception": false,
     "start_time": "2024-05-29T21:44:50.387945",
     "status": "completed"
    },
    "tags": []
   },
   "source": [
    "## Подставим значения С1 и С2 в найденное общее решение и получим допустимую экстремаль"
   ]
  },
  {
   "cell_type": "code",
   "execution_count": 22,
   "id": "89e2d162",
   "metadata": {
    "execution": {
     "iopub.execute_input": "2024-05-29T21:44:50.437764Z",
     "iopub.status.busy": "2024-05-29T21:44:50.437073Z",
     "iopub.status.idle": "2024-05-29T21:44:50.628506Z",
     "shell.execute_reply": "2024-05-29T21:44:50.627188Z"
    },
    "papermill": {
     "duration": 0.21214,
     "end_time": "2024-05-29T21:44:50.631109",
     "exception": false,
     "start_time": "2024-05-29T21:44:50.418969",
     "status": "completed"
    },
    "tags": []
   },
   "outputs": [
    {
     "data": {
      "image/png": "[encoded data removed]",
      "text/latex": [
       "$\\displaystyle x{\\left(t \\right)} = \\left(1 - \\frac{\\sqrt{2} e^{2} \\cos{\\left(\\frac{\\pi}{4} + 2 \\right)}}{2}\\right) e^{t} + \\sin{\\left(t \\right)} + \\frac{\\sqrt{2} e^{2} e^{- t} \\cos{\\left(\\frac{\\pi}{4} + 2 \\right)}}{2}$"
      ],
      "text/plain": [
       "       ⎛        2    ⎛π    ⎞⎞                   2  -t    ⎛π    ⎞\n",
       "       ⎜    √2⋅ℯ ⋅cos⎜─ + 2⎟⎟               √2⋅ℯ ⋅ℯ  ⋅cos⎜─ + 2⎟\n",
       "       ⎜             ⎝4    ⎠⎟  t                         ⎝4    ⎠\n",
       "x(t) = ⎜1 - ────────────────⎟⋅ℯ  + sin(t) + ────────────────────\n",
       "       ⎝           2        ⎠                        2          "
      ]
     },
     "execution_count": 22,
     "metadata": {},
     "output_type": "execute_result"
    }
   ],
   "source": [
    "x_extremal = Euler_sol.subs(C1_C2)\n",
    "x_extremal"
   ]
  },
  {
   "cell_type": "code",
   "execution_count": 23,
   "id": "e07ddd08",
   "metadata": {
    "execution": {
     "iopub.execute_input": "2024-05-29T21:44:50.663421Z",
     "iopub.status.busy": "2024-05-29T21:44:50.662309Z",
     "iopub.status.idle": "2024-05-29T21:44:51.367972Z",
     "shell.execute_reply": "2024-05-29T21:44:51.366647Z"
    },
    "papermill": {
     "duration": 0.724546,
     "end_time": "2024-05-29T21:44:51.370612",
     "exception": false,
     "start_time": "2024-05-29T21:44:50.646066",
     "status": "completed"
    },
    "tags": []
   },
   "outputs": [
    {
     "data": {
      "image/png": "[encoded data removed]",
      "text/plain": [
       "<Figure size 640x480 with 1 Axes>"
      ]
     },
     "metadata": {},
     "output_type": "display_data"
    }
   ],
   "source": [
    "xpl = np.linspace(t0, t2)\n",
    "x20 = sp.lambdify(t, x_extremal.rhs)\n",
    "x20 = x20(xpl)\n",
    "\n",
    "plt.plot(xpl, x20)\n",
    "plt.show()"
   ]
  }
 ],
 "metadata": {
  "kaggle": {
   "accelerator": "none",
   "dataSources": [],
   "dockerImageVersionId": 30698,
   "isGpuEnabled": false,
   "isInternetEnabled": true,
   "language": "python",
   "sourceType": "notebook"
  },
  "kernelspec": {
   "display_name": "Python 3",
   "language": "python",
   "name": "python3"
  },
  "language_info": {
   "codemirror_mode": {
    "name": "ipython",
    "version": 3
   },
   "file_extension": ".py",
   "mimetype": "text/x-python",
   "name": "python",
   "nbconvert_exporter": "python",
   "pygments_lexer": "ipython3",
   "version": "3.10.13"
  },
  "papermill": {
   "default_parameters": {},
   "duration": 10.453796,
   "end_time": "2024-05-29T21:44:52.011340",
   "environment_variables": {},
   "exception": null,
   "input_path": "__notebook__.ipynb",
   "output_path": "__notebook__.ipynb",
   "parameters": {},
   "start_time": "2024-05-29T21:44:41.557544",
   "version": "2.5.0"
  }
 },
 "nbformat": 4,
 "nbformat_minor": 5
}
