{
 "cells": [
  {
   "cell_type": "markdown",
   "id": "a757d56a",
   "metadata": {
    "papermill": {
     "duration": 0.007232,
     "end_time": "2024-05-23T12:43:42.829861",
     "exception": false,
     "start_time": "2024-05-23T12:43:42.822629",
     "status": "completed"
    },
    "tags": []
   },
   "source": [
    "# **Lab 2**\n",
    "# **Вариационное Исчисление**\n",
    "# **Задача с подвижными концами**"
   ]
  },
  {
   "cell_type": "code",
   "execution_count": 1,
   "id": "e431df82",
   "metadata": {
    "execution": {
     "iopub.execute_input": "2024-05-23T12:43:42.845207Z",
     "iopub.status.busy": "2024-05-23T12:43:42.844729Z",
     "iopub.status.idle": "2024-05-23T12:43:43.743152Z",
     "shell.execute_reply": "2024-05-23T12:43:43.742016Z"
    },
    "papermill": {
     "duration": 0.909321,
     "end_time": "2024-05-23T12:43:43.745998",
     "exception": false,
     "start_time": "2024-05-23T12:43:42.836677",
     "status": "completed"
    },
    "tags": []
   },
   "outputs": [],
   "source": [
    "import sympy as sp\n",
    "import numpy as np\n",
    "import matplotlib.pyplot as plt\n",
    "\n",
    "%matplotlib inline\n",
    "sp.init_printing()"
   ]
  },
  {
   "cell_type": "code",
   "execution_count": 2,
   "id": "0f268745",
   "metadata": {
    "execution": {
     "iopub.execute_input": "2024-05-23T12:43:43.761789Z",
     "iopub.status.busy": "2024-05-23T12:43:43.761324Z",
     "iopub.status.idle": "2024-05-23T12:43:43.771619Z",
     "shell.execute_reply": "2024-05-23T12:43:43.770501Z"
    },
    "papermill": {
     "duration": 0.020957,
     "end_time": "2024-05-23T12:43:43.774334",
     "exception": false,
     "start_time": "2024-05-23T12:43:43.753377",
     "status": "completed"
    },
    "tags": []
   },
   "outputs": [],
   "source": [
    "\n",
    "# Исходные данные 2-го варианта:\n",
    "t, lambda0, lambda1, C1, C2 = sp.symbols('t lambda0 lambda1 C1 C2')\n",
    "x = sp.Function('x')(t)\n",
    "Dx = x.diff(t)\n",
    "t0, t2 = (0, 2)"
   ]
  },
  {
   "cell_type": "markdown",
   "id": "8a880ceb",
   "metadata": {
    "papermill": {
     "duration": 0.006261,
     "end_time": "2024-05-23T12:43:43.787387",
     "exception": false,
     "start_time": "2024-05-23T12:43:43.781126",
     "status": "completed"
    },
    "tags": []
   },
   "source": [
    "# **Подынтегральная функция и терминант**"
   ]
  },
  {
   "cell_type": "code",
   "execution_count": 3,
   "id": "0671e596",
   "metadata": {
    "execution": {
     "iopub.execute_input": "2024-05-23T12:43:43.802139Z",
     "iopub.status.busy": "2024-05-23T12:43:43.801733Z",
     "iopub.status.idle": "2024-05-23T12:43:43.890415Z",
     "shell.execute_reply": "2024-05-23T12:43:43.889100Z"
    },
    "papermill": {
     "duration": 0.099121,
     "end_time": "2024-05-23T12:43:43.893033",
     "exception": false,
     "start_time": "2024-05-23T12:43:43.793912",
     "status": "completed"
    },
    "tags": []
   },
   "outputs": [],
   "source": [
    "L = lambda0 * (4 * x * sp.sin(t) - Dx**2 - x**2)\n",
    "l = lambda0 * x.subs(t, t2)**2 + lambda1 * (x.subs(t, t0) - 1)"
   ]
  },
  {
   "cell_type": "markdown",
   "id": "107ad331",
   "metadata": {
    "papermill": {
     "duration": 0.006158,
     "end_time": "2024-05-23T12:43:43.905777",
     "exception": false,
     "start_time": "2024-05-23T12:43:43.899619",
     "status": "completed"
    },
    "tags": []
   },
   "source": [
    "# Находим частные произвoдные:"
   ]
  },
  {
   "cell_type": "code",
   "execution_count": 4,
   "id": "b8547f1f",
   "metadata": {
    "execution": {
     "iopub.execute_input": "2024-05-23T12:43:43.920400Z",
     "iopub.status.busy": "2024-05-23T12:43:43.919997Z",
     "iopub.status.idle": "2024-05-23T12:43:43.982796Z",
     "shell.execute_reply": "2024-05-23T12:43:43.981541Z"
    },
    "papermill": {
     "duration": 0.073131,
     "end_time": "2024-05-23T12:43:43.985367",
     "exception": false,
     "start_time": "2024-05-23T12:43:43.912236",
     "status": "completed"
    },
    "tags": []
   },
   "outputs": [],
   "source": [
    "Lx = L.diff(x)\n",
    "LDx = L.diff(Dx)\n",
    "LDx_dt = LDx.diff(t)\n",
    "lx_0 = l.diff(x.subs(t, t0))\n",
    "lx_2 = l.diff(x.subs(t, t2))"
   ]
  },
  {
   "cell_type": "markdown",
   "id": "3ac22f7d",
   "metadata": {
    "papermill": {
     "duration": 0.006176,
     "end_time": "2024-05-23T12:43:43.998081",
     "exception": false,
     "start_time": "2024-05-23T12:43:43.991905",
     "status": "completed"
    },
    "tags": []
   },
   "source": [
    "# Запишем условие стационарности, уравнение Эйлера и его решение:"
   ]
  },
  {
   "cell_type": "code",
   "execution_count": 5,
   "id": "321bcfe3",
   "metadata": {
    "execution": {
     "iopub.execute_input": "2024-05-23T12:43:44.013568Z",
     "iopub.status.busy": "2024-05-23T12:43:44.012691Z",
     "iopub.status.idle": "2024-05-23T12:43:44.222953Z",
     "shell.execute_reply": "2024-05-23T12:43:44.221746Z"
    },
    "papermill": {
     "duration": 0.221422,
     "end_time": "2024-05-23T12:43:44.225962",
     "exception": false,
     "start_time": "2024-05-23T12:43:44.004540",
     "status": "completed"
    },
    "tags": []
   },
   "outputs": [],
   "source": [
    "Euler = sp.Eq(-LDx_dt + Lx, 0)\n",
    "Euler_sol = sp.dsolve(Euler)"
   ]
  },
  {
   "cell_type": "code",
   "execution_count": 6,
   "id": "b9c58295",
   "metadata": {
    "execution": {
     "iopub.execute_input": "2024-05-23T12:43:44.241459Z",
     "iopub.status.busy": "2024-05-23T12:43:44.241069Z",
     "iopub.status.idle": "2024-05-23T12:43:44.251639Z",
     "shell.execute_reply": "2024-05-23T12:43:44.250517Z"
    },
    "papermill": {
     "duration": 0.021232,
     "end_time": "2024-05-23T12:43:44.254131",
     "exception": false,
     "start_time": "2024-05-23T12:43:44.232899",
     "status": "completed"
    },
    "tags": []
   },
   "outputs": [],
   "source": [
    "Euler_sol_Dx = Euler_sol.rhs.diff(t)"
   ]
  },
  {
   "cell_type": "markdown",
   "id": "cc6b0a17",
   "metadata": {
    "papermill": {
     "duration": 0.006652,
     "end_time": "2024-05-23T12:43:44.267300",
     "exception": false,
     "start_time": "2024-05-23T12:43:44.260648",
     "status": "completed"
    },
    "tags": []
   },
   "source": [
    "# Запишем условие трансверсальности:"
   ]
  },
  {
   "cell_type": "code",
   "execution_count": 7,
   "id": "54c95c9e",
   "metadata": {
    "execution": {
     "iopub.execute_input": "2024-05-23T12:43:44.282084Z",
     "iopub.status.busy": "2024-05-23T12:43:44.281636Z",
     "iopub.status.idle": "2024-05-23T12:43:44.302803Z",
     "shell.execute_reply": "2024-05-23T12:43:44.301758Z"
    },
    "papermill": {
     "duration": 0.031607,
     "end_time": "2024-05-23T12:43:44.305463",
     "exception": false,
     "start_time": "2024-05-23T12:43:44.273856",
     "status": "completed"
    },
    "tags": []
   },
   "outputs": [],
   "source": [
    "eq_0 = sp.Eq(LDx.subs(t, t0), lx_0)\n",
    "eq_2 = sp.Eq(LDx.subs(t, t2), -lx_2)"
   ]
  },
  {
   "cell_type": "markdown",
   "id": "436ccee2",
   "metadata": {
    "papermill": {
     "duration": 0.007443,
     "end_time": "2024-05-23T12:43:44.320151",
     "exception": false,
     "start_time": "2024-05-23T12:43:44.312708",
     "status": "completed"
    },
    "tags": []
   },
   "source": [
    "# Запишем условие связи:"
   ]
  },
  {
   "cell_type": "code",
   "execution_count": 8,
   "id": "e1e40b70",
   "metadata": {
    "execution": {
     "iopub.execute_input": "2024-05-23T12:43:44.335398Z",
     "iopub.status.busy": "2024-05-23T12:43:44.334661Z",
     "iopub.status.idle": "2024-05-23T12:43:44.339930Z",
     "shell.execute_reply": "2024-05-23T12:43:44.338547Z"
    },
    "papermill": {
     "duration": 0.016265,
     "end_time": "2024-05-23T12:43:44.342923",
     "exception": false,
     "start_time": "2024-05-23T12:43:44.326658",
     "status": "completed"
    },
    "tags": []
   },
   "outputs": [],
   "source": [
    "ics = {t: t0, x: 1}"
   ]
  },
  {
   "cell_type": "code",
   "execution_count": 9,
   "id": "bb55333b",
   "metadata": {
    "execution": {
     "iopub.execute_input": "2024-05-23T12:43:44.357972Z",
     "iopub.status.busy": "2024-05-23T12:43:44.357544Z",
     "iopub.status.idle": "2024-05-23T12:43:45.164263Z",
     "shell.execute_reply": "2024-05-23T12:43:45.163059Z"
    },
    "papermill": {
     "duration": 0.817442,
     "end_time": "2024-05-23T12:43:45.166967",
     "exception": false,
     "start_time": "2024-05-23T12:43:44.349525",
     "status": "completed"
    },
    "tags": []
   },
   "outputs": [
    {
     "data": {
      "image/png": "[encoded data removed]",
      "text/latex": [
       "$\\displaystyle 1 - C_{1}$"
      ],
      "text/plain": [
       "1 - C₁"
      ]
     },
     "execution_count": 9,
     "metadata": {},
     "output_type": "execute_result"
    }
   ],
   "source": [
    "C2_val = sp.solve(Euler_sol, C2)[0].subs(ics)\n",
    "C2_val"
   ]
  },
  {
   "cell_type": "code",
   "execution_count": 10,
   "id": "91777379",
   "metadata": {
    "execution": {
     "iopub.execute_input": "2024-05-23T12:43:45.182369Z",
     "iopub.status.busy": "2024-05-23T12:43:45.181934Z",
     "iopub.status.idle": "2024-05-23T12:43:45.364341Z",
     "shell.execute_reply": "2024-05-23T12:43:45.362918Z"
    },
    "papermill": {
     "duration": 0.193337,
     "end_time": "2024-05-23T12:43:45.367275",
     "exception": false,
     "start_time": "2024-05-23T12:43:45.173938",
     "status": "completed"
    },
    "tags": []
   },
   "outputs": [
    {
     "data": {
      "image/png": "[encoded data removed]",
      "text/latex": [
       "$\\displaystyle \\left( C_{1} - C_{2} - 1 = \\lambda_{1}, \\  \\frac{C_{1}}{e^{2}} - C_{2} e^{2} - \\cos{\\left(2 \\right)} = - \\frac{C_{1}}{e^{2}} - C_{2} e^{2} - \\sin{\\left(2 \\right)}\\right)$"
      ],
      "text/plain": [
       "⎛                      -2       2                  -2       2         ⎞\n",
       "⎝C₁ - C₂ - 1 = λ₁, C₁⋅ℯ   - C₂⋅ℯ  - cos(2) = - C₁⋅ℯ   - C₂⋅ℯ  - sin(2)⎠"
      ]
     },
     "execution_count": 10,
     "metadata": {},
     "output_type": "execute_result"
    }
   ],
   "source": [
    "lambda0 = sp.S(1) / 2\n",
    "eq_transv_0 = sp.Eq(-2 * lambda0 * Euler_sol_Dx.subs(t, t0), lx_0)\n",
    "eq_transv_2 = sp.Eq(-2 * lambda0 * Euler_sol_Dx.subs(t, t2), -2 * lambda0 * Euler_sol.rhs.subs(t, t2))\n",
    "eq_transv_0, eq_transv_2"
   ]
  },
  {
   "cell_type": "code",
   "execution_count": 11,
   "id": "905f1f9e",
   "metadata": {
    "execution": {
     "iopub.execute_input": "2024-05-23T12:43:45.383105Z",
     "iopub.status.busy": "2024-05-23T12:43:45.382700Z",
     "iopub.status.idle": "2024-05-23T12:43:45.622097Z",
     "shell.execute_reply": "2024-05-23T12:43:45.620718Z"
    },
    "papermill": {
     "duration": 0.250135,
     "end_time": "2024-05-23T12:43:45.624571",
     "exception": false,
     "start_time": "2024-05-23T12:43:45.374436",
     "status": "completed"
    },
    "tags": []
   },
   "outputs": [
    {
     "name": "stdout",
     "output_type": "stream",
     "text": [
      "    2    ⎛π    ⎞\n",
      "√2⋅ℯ ⋅cos⎜─ + 2⎟\n",
      "         ⎝4    ⎠\n",
      "────────────────\n",
      "       2        \n"
     ]
    }
   ],
   "source": [
    "C1_val = sp.solve(eq_transv_2, C1)[0]\n",
    "C2_val = C2_val.subs(C1, C1_val)\n",
    "C1_C2 = {C1: C1_val, C2: C2_val}\n",
    "lambda1 = sp.solve(eq_transv_0.subs(C1_C2), lambda1)[0]\n",
    "sp.pprint(C1_val)"
   ]
  },
  {
   "cell_type": "code",
   "execution_count": 12,
   "id": "41c7afb0",
   "metadata": {
    "execution": {
     "iopub.execute_input": "2024-05-23T12:43:45.640635Z",
     "iopub.status.busy": "2024-05-23T12:43:45.640253Z",
     "iopub.status.idle": "2024-05-23T12:43:45.691365Z",
     "shell.execute_reply": "2024-05-23T12:43:45.690007Z"
    },
    "papermill": {
     "duration": 0.062144,
     "end_time": "2024-05-23T12:43:45.693969",
     "exception": false,
     "start_time": "2024-05-23T12:43:45.631825",
     "status": "completed"
    },
    "tags": []
   },
   "outputs": [
    {
     "name": "stdout",
     "output_type": "stream",
     "text": [
      "       ⎛        2    ⎛π    ⎞⎞                   2  -t    ⎛π    ⎞\n",
      "       ⎜    √2⋅ℯ ⋅cos⎜─ + 2⎟⎟               √2⋅ℯ ⋅ℯ  ⋅cos⎜─ + 2⎟\n",
      "       ⎜             ⎝4    ⎠⎟  t                         ⎝4    ⎠\n",
      "x(t) = ⎜1 - ────────────────⎟⋅ℯ  + sin(t) + ────────────────────\n",
      "       ⎝           2        ⎠                        2          \n"
     ]
    }
   ],
   "source": [
    "x_extremal = Euler_sol.subs(C1_C2)\n",
    "sp.pprint(x_extremal)"
   ]
  },
  {
   "cell_type": "code",
   "execution_count": 13,
   "id": "2703fe10",
   "metadata": {
    "execution": {
     "iopub.execute_input": "2024-05-23T12:43:45.710426Z",
     "iopub.status.busy": "2024-05-23T12:43:45.710002Z",
     "iopub.status.idle": "2024-05-23T12:43:46.419246Z",
     "shell.execute_reply": "2024-05-23T12:43:46.418115Z"
    },
    "papermill": {
     "duration": 0.72059,
     "end_time": "2024-05-23T12:43:46.422057",
     "exception": false,
     "start_time": "2024-05-23T12:43:45.701467",
     "status": "completed"
    },
    "tags": []
   },
   "outputs": [
    {
     "data": {
      "image/png": "[encoded data removed]",
      "text/plain": [
       "<Figure size 640x480 with 1 Axes>"
      ]
     },
     "metadata": {},
     "output_type": "display_data"
    }
   ],
   "source": [
    "xpl = np.linspace(t0, t2)\n",
    "x20 = sp.lambdify(t, x_extremal.rhs)\n",
    "x20 = x20(xpl)\n",
    "\n",
    "plt.plot(xpl, x20)\n",
    "plt.show()"
   ]
  },
  {
   "cell_type": "code",
   "execution_count": null,
   "id": "f91ddac6",
   "metadata": {
    "papermill": {
     "duration": 0.008084,
     "end_time": "2024-05-23T12:43:46.437926",
     "exception": false,
     "start_time": "2024-05-23T12:43:46.429842",
     "status": "completed"
    },
    "tags": []
   },
   "outputs": [],
   "source": []
  }
 ],
 "metadata": {
  "kaggle": {
   "accelerator": "none",
   "dataSources": [],
   "dockerImageVersionId": 30698,
   "isGpuEnabled": false,
   "isInternetEnabled": true,
   "language": "python",
   "sourceType": "notebook"
  },
  "kernelspec": {
   "display_name": "Python 3",
   "language": "python",
   "name": "python3"
  },
  "language_info": {
   "codemirror_mode": {
    "name": "ipython",
    "version": 3
   },
   "file_extension": ".py",
   "mimetype": "text/x-python",
   "name": "python",
   "nbconvert_exporter": "python",
   "pygments_lexer": "ipython3",
   "version": "3.10.13"
  },
  "papermill": {
   "default_parameters": {},
   "duration": 7.445163,
   "end_time": "2024-05-23T12:43:47.067794",
   "environment_variables": {},
   "exception": null,
   "input_path": "__notebook__.ipynb",
   "output_path": "__notebook__.ipynb",
   "parameters": {},
   "start_time": "2024-05-23T12:43:39.622631",
   "version": "2.5.0"
  }
 },
 "nbformat": 4,
 "nbformat_minor": 5
}
