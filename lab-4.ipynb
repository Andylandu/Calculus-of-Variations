{
 "cells": [
  {
   "cell_type": "markdown",
   "id": "bfb6ec72",
   "metadata": {
    "_cell_guid": "b1076dfc-b9ad-4769-8c92-a6c4dae69d19",
    "_uuid": "8f2839f25d086af736a60e9eeb907d3b93b6e0e5",
    "papermill": {
     "duration": 0.006092,
     "end_time": "2024-05-29T23:59:31.929857",
     "exception": false,
     "start_time": "2024-05-29T23:59:31.923765",
     "status": "completed"
    },
    "tags": []
   },
   "source": [
    "# **Lab 4**"
   ]
  },
  {
   "cell_type": "code",
   "execution_count": 1,
   "id": "fed43b70",
   "metadata": {
    "execution": {
     "iopub.execute_input": "2024-05-29T23:59:31.942870Z",
     "iopub.status.busy": "2024-05-29T23:59:31.942504Z",
     "iopub.status.idle": "2024-05-29T23:59:32.755918Z",
     "shell.execute_reply": "2024-05-29T23:59:32.755004Z"
    },
    "papermill": {
     "duration": 0.822758,
     "end_time": "2024-05-29T23:59:32.758346",
     "exception": false,
     "start_time": "2024-05-29T23:59:31.935588",
     "status": "completed"
    },
    "tags": []
   },
   "outputs": [],
   "source": [
    "import sympy as sp"
   ]
  },
  {
   "cell_type": "code",
   "execution_count": 2,
   "id": "4c197fce",
   "metadata": {
    "execution": {
     "iopub.execute_input": "2024-05-29T23:59:32.771422Z",
     "iopub.status.busy": "2024-05-29T23:59:32.770932Z",
     "iopub.status.idle": "2024-05-29T23:59:32.775890Z",
     "shell.execute_reply": "2024-05-29T23:59:32.774928Z"
    },
    "papermill": {
     "duration": 0.013798,
     "end_time": "2024-05-29T23:59:32.777927",
     "exception": false,
     "start_time": "2024-05-29T23:59:32.764129",
     "status": "completed"
    },
    "tags": []
   },
   "outputs": [],
   "source": [
    "t, u, λ0, J, H = sp.symbols('t u λ0 J H')"
   ]
  },
  {
   "cell_type": "code",
   "execution_count": 3,
   "id": "a70c3e45",
   "metadata": {
    "execution": {
     "iopub.execute_input": "2024-05-29T23:59:32.791975Z",
     "iopub.status.busy": "2024-05-29T23:59:32.791618Z",
     "iopub.status.idle": "2024-05-29T23:59:32.798204Z",
     "shell.execute_reply": "2024-05-29T23:59:32.797202Z"
    },
    "papermill": {
     "duration": 0.016583,
     "end_time": "2024-05-29T23:59:32.800113",
     "exception": false,
     "start_time": "2024-05-29T23:59:32.783530",
     "status": "completed"
    },
    "tags": []
   },
   "outputs": [],
   "source": [
    "x1 = sp.Function('x1')(t)\n",
    "x2 = sp.Function('x2')(t)\n",
    "λ1 = sp.Function('λ1')(t)\n",
    "λ2= sp.Function('λ2')(t)"
   ]
  },
  {
   "cell_type": "code",
   "execution_count": 4,
   "id": "f05449f5",
   "metadata": {
    "execution": {
     "iopub.execute_input": "2024-05-29T23:59:32.813077Z",
     "iopub.status.busy": "2024-05-29T23:59:32.812515Z",
     "iopub.status.idle": "2024-05-29T23:59:32.818797Z",
     "shell.execute_reply": "2024-05-29T23:59:32.818094Z"
    },
    "papermill": {
     "duration": 0.014927,
     "end_time": "2024-05-29T23:59:32.820648",
     "exception": false,
     "start_time": "2024-05-29T23:59:32.805721",
     "status": "completed"
    },
    "tags": []
   },
   "outputs": [
    {
     "data": {
      "text/latex": [
       "$\\displaystyle u^{2}$"
      ],
      "text/plain": [
       "u**2"
      ]
     },
     "execution_count": 4,
     "metadata": {},
     "output_type": "execute_result"
    }
   ],
   "source": [
    "J = u ** 2\n",
    "J"
   ]
  },
  {
   "cell_type": "code",
   "execution_count": 5,
   "id": "5bad386a",
   "metadata": {
    "execution": {
     "iopub.execute_input": "2024-05-29T23:59:32.833919Z",
     "iopub.status.busy": "2024-05-29T23:59:32.833364Z",
     "iopub.status.idle": "2024-05-29T23:59:32.907654Z",
     "shell.execute_reply": "2024-05-29T23:59:32.906594Z"
    },
    "papermill": {
     "duration": 0.083323,
     "end_time": "2024-05-29T23:59:32.909786",
     "exception": false,
     "start_time": "2024-05-29T23:59:32.826463",
     "status": "completed"
    },
    "tags": []
   },
   "outputs": [
    {
     "data": {
      "text/latex": [
       "$\\displaystyle \\frac{d}{d t} x_{1}{\\left(t \\right)} = x_{2}{\\left(t \\right)} - 2$"
      ],
      "text/plain": [
       "Eq(Derivative(x1(t), t), x2(t) - 2)"
      ]
     },
     "execution_count": 5,
     "metadata": {},
     "output_type": "execute_result"
    }
   ],
   "source": [
    "eq_Dx1 = sp.Eq(x1.diff(t), x2 - 2)\n",
    "eq_Dx1"
   ]
  },
  {
   "cell_type": "code",
   "execution_count": 6,
   "id": "3d8899da",
   "metadata": {
    "execution": {
     "iopub.execute_input": "2024-05-29T23:59:32.923518Z",
     "iopub.status.busy": "2024-05-29T23:59:32.922935Z",
     "iopub.status.idle": "2024-05-29T23:59:32.933932Z",
     "shell.execute_reply": "2024-05-29T23:59:32.932968Z"
    },
    "papermill": {
     "duration": 0.020023,
     "end_time": "2024-05-29T23:59:32.935869",
     "exception": false,
     "start_time": "2024-05-29T23:59:32.915846",
     "status": "completed"
    },
    "tags": []
   },
   "outputs": [
    {
     "data": {
      "text/latex": [
       "$\\displaystyle \\frac{d}{d t} x_{2}{\\left(t \\right)} = u$"
      ],
      "text/plain": [
       "Eq(Derivative(x2(t), t), u)"
      ]
     },
     "execution_count": 6,
     "metadata": {},
     "output_type": "execute_result"
    }
   ],
   "source": [
    "eq_Dx2 = sp.Eq(x2.diff(t), u)\n",
    "eq_Dx2"
   ]
  },
  {
   "cell_type": "code",
   "execution_count": 7,
   "id": "94d5df0f",
   "metadata": {
    "execution": {
     "iopub.execute_input": "2024-05-29T23:59:32.949631Z",
     "iopub.status.busy": "2024-05-29T23:59:32.949031Z",
     "iopub.status.idle": "2024-05-29T23:59:32.956255Z",
     "shell.execute_reply": "2024-05-29T23:59:32.955121Z"
    },
    "papermill": {
     "duration": 0.01646,
     "end_time": "2024-05-29T23:59:32.958274",
     "exception": false,
     "start_time": "2024-05-29T23:59:32.941814",
     "status": "completed"
    },
    "tags": []
   },
   "outputs": [
    {
     "data": {
      "text/plain": [
       "{x1(0): 0, x2(0): 0}"
      ]
     },
     "execution_count": 7,
     "metadata": {},
     "output_type": "execute_result"
    }
   ],
   "source": [
    "ics_0 = {x1.subs(t, 0): 0, x2.subs(t, 0): 0}\n",
    "ics_0"
   ]
  },
  {
   "cell_type": "code",
   "execution_count": 8,
   "id": "d04e03ea",
   "metadata": {
    "execution": {
     "iopub.execute_input": "2024-05-29T23:59:32.971962Z",
     "iopub.status.busy": "2024-05-29T23:59:32.971614Z",
     "iopub.status.idle": "2024-05-29T23:59:32.978454Z",
     "shell.execute_reply": "2024-05-29T23:59:32.977535Z"
    },
    "papermill": {
     "duration": 0.015959,
     "end_time": "2024-05-29T23:59:32.980527",
     "exception": false,
     "start_time": "2024-05-29T23:59:32.964568",
     "status": "completed"
    },
    "tags": []
   },
   "outputs": [
    {
     "data": {
      "text/plain": [
       "{x1(1): -1, λ2(1): 0}"
      ]
     },
     "execution_count": 8,
     "metadata": {},
     "output_type": "execute_result"
    }
   ],
   "source": [
    "ics_1 = {x1.subs(t, 1): -1, λ2.subs(t, 1): 0}\n",
    "ics_1"
   ]
  },
  {
   "cell_type": "code",
   "execution_count": 9,
   "id": "4a733084",
   "metadata": {
    "execution": {
     "iopub.execute_input": "2024-05-29T23:59:32.996306Z",
     "iopub.status.busy": "2024-05-29T23:59:32.995338Z",
     "iopub.status.idle": "2024-05-29T23:59:33.000223Z",
     "shell.execute_reply": "2024-05-29T23:59:32.999518Z"
    },
    "papermill": {
     "duration": 0.015426,
     "end_time": "2024-05-29T23:59:33.002110",
     "exception": false,
     "start_time": "2024-05-29T23:59:32.986684",
     "status": "completed"
    },
    "tags": []
   },
   "outputs": [],
   "source": [
    "ics_x1_t = {x1: -1, t: 1}\n",
    "ics_λ2_t = {λ2: 0, t: 1}"
   ]
  },
  {
   "cell_type": "code",
   "execution_count": 10,
   "id": "de3c4f7c",
   "metadata": {
    "execution": {
     "iopub.execute_input": "2024-05-29T23:59:33.016134Z",
     "iopub.status.busy": "2024-05-29T23:59:33.015463Z",
     "iopub.status.idle": "2024-05-29T23:59:33.027345Z",
     "shell.execute_reply": "2024-05-29T23:59:33.026318Z"
    },
    "papermill": {
     "duration": 0.021048,
     "end_time": "2024-05-29T23:59:33.029271",
     "exception": false,
     "start_time": "2024-05-29T23:59:33.008223",
     "status": "completed"
    },
    "tags": []
   },
   "outputs": [
    {
     "data": {
      "text/latex": [
       "$\\displaystyle - u^{2} λ_{0} + u λ_{2}{\\left(t \\right)} + \\left(x_{2}{\\left(t \\right)} - 2\\right) λ_{1}{\\left(t \\right)}$"
      ],
      "text/plain": [
       "-u**2*λ0 + u*λ2(t) + (x2(t) - 2)*λ1(t)"
      ]
     },
     "execution_count": 10,
     "metadata": {},
     "output_type": "execute_result"
    }
   ],
   "source": [
    "H = - λ0 * J + λ1 * eq_Dx1.rhs + λ2 * eq_Dx2.rhs\n",
    "H"
   ]
  },
  {
   "cell_type": "code",
   "execution_count": 11,
   "id": "97ce87de",
   "metadata": {
    "execution": {
     "iopub.execute_input": "2024-05-29T23:59:33.047367Z",
     "iopub.status.busy": "2024-05-29T23:59:33.046701Z",
     "iopub.status.idle": "2024-05-29T23:59:33.055639Z",
     "shell.execute_reply": "2024-05-29T23:59:33.054496Z"
    },
    "papermill": {
     "duration": 0.02226,
     "end_time": "2024-05-29T23:59:33.058119",
     "exception": false,
     "start_time": "2024-05-29T23:59:33.035859",
     "status": "completed"
    },
    "tags": []
   },
   "outputs": [
    {
     "data": {
      "text/latex": [
       "$\\displaystyle \\frac{d}{d t} λ_{1}{\\left(t \\right)} = 0$"
      ],
      "text/plain": [
       "Eq(Derivative(λ1(t), t), 0)"
      ]
     },
     "execution_count": 11,
     "metadata": {},
     "output_type": "execute_result"
    }
   ],
   "source": [
    "eq_Dλ1 = sp.Eq(λ1.diff(t), - H.diff(x1))\n",
    "eq_Dλ1"
   ]
  },
  {
   "cell_type": "code",
   "execution_count": 12,
   "id": "1e05df2e",
   "metadata": {
    "execution": {
     "iopub.execute_input": "2024-05-29T23:59:33.077725Z",
     "iopub.status.busy": "2024-05-29T23:59:33.076674Z",
     "iopub.status.idle": "2024-05-29T23:59:33.092994Z",
     "shell.execute_reply": "2024-05-29T23:59:33.091863Z"
    },
    "papermill": {
     "duration": 0.028157,
     "end_time": "2024-05-29T23:59:33.095061",
     "exception": false,
     "start_time": "2024-05-29T23:59:33.066904",
     "status": "completed"
    },
    "tags": []
   },
   "outputs": [
    {
     "data": {
      "text/latex": [
       "$\\displaystyle \\frac{d}{d t} λ_{2}{\\left(t \\right)} = - λ_{1}{\\left(t \\right)}$"
      ],
      "text/plain": [
       "Eq(Derivative(λ2(t), t), -λ1(t))"
      ]
     },
     "execution_count": 12,
     "metadata": {},
     "output_type": "execute_result"
    }
   ],
   "source": [
    "eq_Dλ2 = sp.Eq(λ2.diff(t), - H.diff(x2))\n",
    "eq_Dλ2"
   ]
  },
  {
   "cell_type": "code",
   "execution_count": 13,
   "id": "1589c077",
   "metadata": {
    "execution": {
     "iopub.execute_input": "2024-05-29T23:59:33.110428Z",
     "iopub.status.busy": "2024-05-29T23:59:33.109680Z",
     "iopub.status.idle": "2024-05-29T23:59:33.142777Z",
     "shell.execute_reply": "2024-05-29T23:59:33.141899Z"
    },
    "papermill": {
     "duration": 0.043773,
     "end_time": "2024-05-29T23:59:33.145441",
     "exception": false,
     "start_time": "2024-05-29T23:59:33.101668",
     "status": "completed"
    },
    "tags": []
   },
   "outputs": [
    {
     "data": {
      "text/latex": [
       "$\\displaystyle λ_{1}{\\left(t \\right)} = C_{1}$"
      ],
      "text/plain": [
       "Eq(λ1(t), C1)"
      ]
     },
     "execution_count": 13,
     "metadata": {},
     "output_type": "execute_result"
    }
   ],
   "source": [
    "λ1_val = sp.dsolve(eq_Dλ1)\n",
    "λ1_val"
   ]
  },
  {
   "cell_type": "code",
   "execution_count": 14,
   "id": "c7d9b363",
   "metadata": {
    "execution": {
     "iopub.execute_input": "2024-05-29T23:59:33.164646Z",
     "iopub.status.busy": "2024-05-29T23:59:33.164276Z",
     "iopub.status.idle": "2024-05-29T23:59:33.466313Z",
     "shell.execute_reply": "2024-05-29T23:59:33.465240Z"
    },
    "papermill": {
     "duration": 0.312602,
     "end_time": "2024-05-29T23:59:33.468468",
     "exception": false,
     "start_time": "2024-05-29T23:59:33.155866",
     "status": "completed"
    },
    "tags": []
   },
   "outputs": [
    {
     "data": {
      "text/latex": [
       "$\\displaystyle λ_{2}{\\left(t \\right)} = - C_{1} t + C_{2}$"
      ],
      "text/plain": [
       "Eq(λ2(t), -C1*t + C2)"
      ]
     },
     "execution_count": 14,
     "metadata": {},
     "output_type": "execute_result"
    }
   ],
   "source": [
    "λ2_val = sp.dsolve(eq_Dλ2.subs(λ1, λ1_val.rhs))\n",
    "λ2_val"
   ]
  },
  {
   "cell_type": "code",
   "execution_count": 15,
   "id": "45e16022",
   "metadata": {
    "execution": {
     "iopub.execute_input": "2024-05-29T23:59:33.484930Z",
     "iopub.status.busy": "2024-05-29T23:59:33.483694Z",
     "iopub.status.idle": "2024-05-29T23:59:33.520145Z",
     "shell.execute_reply": "2024-05-29T23:59:33.519020Z"
    },
    "papermill": {
     "duration": 0.047992,
     "end_time": "2024-05-29T23:59:33.523507",
     "exception": false,
     "start_time": "2024-05-29T23:59:33.475515",
     "status": "completed"
    },
    "tags": []
   },
   "outputs": [
    {
     "data": {
      "text/latex": [
       "$\\displaystyle \\frac{λ_{2}{\\left(t \\right)}}{2}$"
      ],
      "text/plain": [
       "λ2(t)/2"
      ]
     },
     "execution_count": 15,
     "metadata": {},
     "output_type": "execute_result"
    }
   ],
   "source": [
    "eq_u = sp.solve(sp.Eq(H.diff(u), 0), u)[0].subs(λ0, 1)\n",
    "eq_u"
   ]
  },
  {
   "cell_type": "code",
   "execution_count": 16,
   "id": "65ffe7a4",
   "metadata": {
    "execution": {
     "iopub.execute_input": "2024-05-29T23:59:33.540937Z",
     "iopub.status.busy": "2024-05-29T23:59:33.540552Z",
     "iopub.status.idle": "2024-05-29T23:59:33.554689Z",
     "shell.execute_reply": "2024-05-29T23:59:33.553627Z"
    },
    "papermill": {
     "duration": 0.024671,
     "end_time": "2024-05-29T23:59:33.556899",
     "exception": false,
     "start_time": "2024-05-29T23:59:33.532228",
     "status": "completed"
    },
    "tags": []
   },
   "outputs": [
    {
     "data": {
      "text/latex": [
       "$\\displaystyle u = - \\frac{C_{1} t}{2} + \\frac{C_{2}}{2}$"
      ],
      "text/plain": [
       "Eq(u, -C1*t/2 + C2/2)"
      ]
     },
     "execution_count": 16,
     "metadata": {},
     "output_type": "execute_result"
    }
   ],
   "source": [
    "u_val = sp.Eq(u, eq_u.subs(λ2, λ2_val.rhs))\n",
    "u_val"
   ]
  },
  {
   "cell_type": "code",
   "execution_count": 17,
   "id": "ef310c2d",
   "metadata": {
    "execution": {
     "iopub.execute_input": "2024-05-29T23:59:33.572923Z",
     "iopub.status.busy": "2024-05-29T23:59:33.572312Z",
     "iopub.status.idle": "2024-05-29T23:59:33.584295Z",
     "shell.execute_reply": "2024-05-29T23:59:33.583215Z"
    },
    "papermill": {
     "duration": 0.022931,
     "end_time": "2024-05-29T23:59:33.586840",
     "exception": false,
     "start_time": "2024-05-29T23:59:33.563909",
     "status": "completed"
    },
    "tags": []
   },
   "outputs": [
    {
     "data": {
      "text/latex": [
       "$\\displaystyle \\frac{d}{d t} x_{2}{\\left(t \\right)} = - \\frac{C_{1} t}{2} + \\frac{C_{2}}{2}$"
      ],
      "text/plain": [
       "Eq(Derivative(x2(t), t), -C1*t/2 + C2/2)"
      ]
     },
     "execution_count": 17,
     "metadata": {},
     "output_type": "execute_result"
    }
   ],
   "source": [
    "eq_Dx2 = eq_Dx2.subs(u, u_val.rhs)\n",
    "eq_Dx2"
   ]
  },
  {
   "cell_type": "code",
   "execution_count": 18,
   "id": "e8745317",
   "metadata": {
    "execution": {
     "iopub.execute_input": "2024-05-29T23:59:33.603421Z",
     "iopub.status.busy": "2024-05-29T23:59:33.602690Z",
     "iopub.status.idle": "2024-05-29T23:59:33.898147Z",
     "shell.execute_reply": "2024-05-29T23:59:33.897074Z"
    },
    "papermill": {
     "duration": 0.306154,
     "end_time": "2024-05-29T23:59:33.900293",
     "exception": false,
     "start_time": "2024-05-29T23:59:33.594139",
     "status": "completed"
    },
    "tags": []
   },
   "outputs": [
    {
     "data": {
      "text/latex": [
       "$\\displaystyle x_{2}{\\left(t \\right)} = - \\frac{C_{1} t^{2}}{4} + \\frac{C_{2} t}{2}$"
      ],
      "text/plain": [
       "Eq(x2(t), -C1*t**2/4 + C2*t/2)"
      ]
     },
     "execution_count": 18,
     "metadata": {},
     "output_type": "execute_result"
    }
   ],
   "source": [
    "eqs_x1_x2 = sp.dsolve([eq_Dx2, eq_Dx1], ics=ics_0) # with ics at t=0\n",
    "eqs_x1_x2[0]"
   ]
  },
  {
   "cell_type": "code",
   "execution_count": 19,
   "id": "dd96f1ab",
   "metadata": {
    "execution": {
     "iopub.execute_input": "2024-05-29T23:59:33.916784Z",
     "iopub.status.busy": "2024-05-29T23:59:33.915889Z",
     "iopub.status.idle": "2024-05-29T23:59:33.925982Z",
     "shell.execute_reply": "2024-05-29T23:59:33.924955Z"
    },
    "papermill": {
     "duration": 0.020745,
     "end_time": "2024-05-29T23:59:33.928204",
     "exception": false,
     "start_time": "2024-05-29T23:59:33.907459",
     "status": "completed"
    },
    "tags": []
   },
   "outputs": [
    {
     "data": {
      "text/latex": [
       "$\\displaystyle x_{1}{\\left(t \\right)} = - \\frac{C_{1} t^{3}}{12} + \\frac{C_{2} t^{2}}{4} - 2 t$"
      ],
      "text/plain": [
       "Eq(x1(t), -C1*t**3/12 + C2*t**2/4 - 2*t)"
      ]
     },
     "execution_count": 19,
     "metadata": {},
     "output_type": "execute_result"
    }
   ],
   "source": [
    "eqs_x1_x2[1]"
   ]
  },
  {
   "cell_type": "code",
   "execution_count": 20,
   "id": "e79135b7",
   "metadata": {
    "execution": {
     "iopub.execute_input": "2024-05-29T23:59:33.945247Z",
     "iopub.status.busy": "2024-05-29T23:59:33.944075Z",
     "iopub.status.idle": "2024-05-29T23:59:33.972460Z",
     "shell.execute_reply": "2024-05-29T23:59:33.971303Z"
    },
    "papermill": {
     "duration": 0.039149,
     "end_time": "2024-05-29T23:59:33.974723",
     "exception": false,
     "start_time": "2024-05-29T23:59:33.935574",
     "status": "completed"
    },
    "tags": []
   },
   "outputs": [
    {
     "data": {
      "text/plain": [
       "{C1: 6, C2: 6}"
      ]
     },
     "execution_count": 20,
     "metadata": {},
     "output_type": "execute_result"
    }
   ],
   "source": [
    "C1_C2_val = sp.solve([eqs_x1_x2[1].subs(ics_x1_t), λ2_val.subs(ics_λ2_t)])\n",
    "C1_C2_val"
   ]
  },
  {
   "cell_type": "code",
   "execution_count": 21,
   "id": "d03592fc",
   "metadata": {
    "execution": {
     "iopub.execute_input": "2024-05-29T23:59:33.992092Z",
     "iopub.status.busy": "2024-05-29T23:59:33.991022Z",
     "iopub.status.idle": "2024-05-29T23:59:34.031503Z",
     "shell.execute_reply": "2024-05-29T23:59:34.030403Z"
    },
    "papermill": {
     "duration": 0.051215,
     "end_time": "2024-05-29T23:59:34.033563",
     "exception": false,
     "start_time": "2024-05-29T23:59:33.982348",
     "status": "completed"
    },
    "tags": []
   },
   "outputs": [
    {
     "data": {
      "text/latex": [
       "$\\displaystyle x_{2}{\\left(t \\right)} = - \\frac{3 t^{2}}{2} + 3 t$"
      ],
      "text/plain": [
       "Eq(x2(t), -3*t**2/2 + 3*t)"
      ]
     },
     "execution_count": 21,
     "metadata": {},
     "output_type": "execute_result"
    }
   ],
   "source": [
    "x1_x2_u_val = list(map(lambda eq: eq.subs(C1_C2_val), [*eqs_x1_x2, u_val]))\n",
    "x1_x2_u_val[0]"
   ]
  },
  {
   "cell_type": "code",
   "execution_count": 22,
   "id": "2d98111a",
   "metadata": {
    "execution": {
     "iopub.execute_input": "2024-05-29T23:59:34.050519Z",
     "iopub.status.busy": "2024-05-29T23:59:34.049957Z",
     "iopub.status.idle": "2024-05-29T23:59:34.058315Z",
     "shell.execute_reply": "2024-05-29T23:59:34.057241Z"
    },
    "papermill": {
     "duration": 0.019517,
     "end_time": "2024-05-29T23:59:34.060589",
     "exception": false,
     "start_time": "2024-05-29T23:59:34.041072",
     "status": "completed"
    },
    "tags": []
   },
   "outputs": [
    {
     "data": {
      "text/latex": [
       "$\\displaystyle x_{1}{\\left(t \\right)} = - \\frac{t^{3}}{2} + \\frac{3 t^{2}}{2} - 2 t$"
      ],
      "text/plain": [
       "Eq(x1(t), -t**3/2 + 3*t**2/2 - 2*t)"
      ]
     },
     "execution_count": 22,
     "metadata": {},
     "output_type": "execute_result"
    }
   ],
   "source": [
    "x1_x2_u_val[1]"
   ]
  },
  {
   "cell_type": "code",
   "execution_count": 23,
   "id": "2997758d",
   "metadata": {
    "execution": {
     "iopub.execute_input": "2024-05-29T23:59:34.078229Z",
     "iopub.status.busy": "2024-05-29T23:59:34.077580Z",
     "iopub.status.idle": "2024-05-29T23:59:34.084551Z",
     "shell.execute_reply": "2024-05-29T23:59:34.083644Z"
    },
    "papermill": {
     "duration": 0.018075,
     "end_time": "2024-05-29T23:59:34.086567",
     "exception": false,
     "start_time": "2024-05-29T23:59:34.068492",
     "status": "completed"
    },
    "tags": []
   },
   "outputs": [
    {
     "data": {
      "text/latex": [
       "$\\displaystyle u = 3 - 3 t$"
      ],
      "text/plain": [
       "Eq(u, 3 - 3*t)"
      ]
     },
     "execution_count": 23,
     "metadata": {},
     "output_type": "execute_result"
    }
   ],
   "source": [
    "x1_x2_u_val[2]"
   ]
  }
 ],
 "metadata": {
  "kaggle": {
   "accelerator": "none",
   "dataSources": [],
   "dockerImageVersionId": 30698,
   "isGpuEnabled": false,
   "isInternetEnabled": true,
   "language": "python",
   "sourceType": "notebook"
  },
  "kernelspec": {
   "display_name": "Python 3",
   "language": "python",
   "name": "python3"
  },
  "language_info": {
   "codemirror_mode": {
    "name": "ipython",
    "version": 3
   },
   "file_extension": ".py",
   "mimetype": "text/x-python",
   "name": "python",
   "nbconvert_exporter": "python",
   "pygments_lexer": "ipython3",
   "version": "3.10.13"
  },
  "papermill": {
   "default_parameters": {},
   "duration": 5.458699,
   "end_time": "2024-05-29T23:59:34.614445",
   "environment_variables": {},
   "exception": null,
   "input_path": "__notebook__.ipynb",
   "output_path": "__notebook__.ipynb",
   "parameters": {},
   "start_time": "2024-05-29T23:59:29.155746",
   "version": "2.5.0"
  }
 },
 "nbformat": 4,
 "nbformat_minor": 5
}
