{
 "cells": [
  {
   "cell_type": "code",
   "execution_count": 1,
   "id": "846c32b0",
   "metadata": {
    "execution": {
     "iopub.execute_input": "2024-05-29T23:14:53.498239Z",
     "iopub.status.busy": "2024-05-29T23:14:53.497634Z",
     "iopub.status.idle": "2024-05-29T23:14:54.598305Z",
     "shell.execute_reply": "2024-05-29T23:14:54.597114Z"
    },
    "papermill": {
     "duration": 1.119965,
     "end_time": "2024-05-29T23:14:54.601543",
     "exception": false,
     "start_time": "2024-05-29T23:14:53.481578",
     "status": "completed"
    },
    "tags": []
   },
   "outputs": [],
   "source": [
    "# Lab 3\n",
    "import sympy as sp"
   ]
  },
  {
   "cell_type": "markdown",
   "id": "7c283940",
   "metadata": {
    "papermill": {
     "duration": 0.010643,
     "end_time": "2024-05-29T23:14:54.623519",
     "exception": false,
     "start_time": "2024-05-29T23:14:54.612876",
     "status": "completed"
    },
    "tags": []
   },
   "source": [
    "## Запишем уравнения фазовой динамики"
   ]
  },
  {
   "cell_type": "code",
   "execution_count": 2,
   "id": "5c5b98ed",
   "metadata": {
    "execution": {
     "iopub.execute_input": "2024-05-29T23:14:54.647217Z",
     "iopub.status.busy": "2024-05-29T23:14:54.646680Z",
     "iopub.status.idle": "2024-05-29T23:14:54.660204Z",
     "shell.execute_reply": "2024-05-29T23:14:54.659086Z"
    },
    "papermill": {
     "duration": 0.028245,
     "end_time": "2024-05-29T23:14:54.662874",
     "exception": false,
     "start_time": "2024-05-29T23:14:54.634629",
     "status": "completed"
    },
    "tags": []
   },
   "outputs": [],
   "source": [
    "t, u, J, H = sp.symbols('t u J H')\n",
    "\n",
    "x1 = sp.Function('x1')(t)\n",
    "x2 = sp.Function('x2')(t)\n",
    "λ1 = sp.Function('λ1')(t)\n",
    "λ2 = sp.Function('λ2')(t)\n",
    "\n",
    "Dλ1, Dλ2, Dx1, Dx2 = (λ1.diff(t), λ2.diff(t), x1.diff(t), x2.diff(t))"
   ]
  },
  {
   "cell_type": "code",
   "execution_count": 3,
   "id": "d4fae25b",
   "metadata": {
    "execution": {
     "iopub.execute_input": "2024-05-29T23:14:54.686145Z",
     "iopub.status.busy": "2024-05-29T23:14:54.685748Z",
     "iopub.status.idle": "2024-05-29T23:14:54.781455Z",
     "shell.execute_reply": "2024-05-29T23:14:54.780243Z"
    },
    "papermill": {
     "duration": 0.110376,
     "end_time": "2024-05-29T23:14:54.783886",
     "exception": false,
     "start_time": "2024-05-29T23:14:54.673510",
     "status": "completed"
    },
    "tags": []
   },
   "outputs": [
    {
     "data": {
      "text/latex": [
       "$\\displaystyle \\frac{d}{d t} x_{1}{\\left(t \\right)} = x_{2}{\\left(t \\right)} - 2$"
      ],
      "text/plain": [
       "Eq(Derivative(x1(t), t), x2(t) - 2)"
      ]
     },
     "execution_count": 3,
     "metadata": {},
     "output_type": "execute_result"
    }
   ],
   "source": [
    "eq_Dx1 = sp.Eq(Dx1, x2 - 2) \n",
    "eq_Dx1"
   ]
  },
  {
   "cell_type": "code",
   "execution_count": 4,
   "id": "454e6490",
   "metadata": {
    "execution": {
     "iopub.execute_input": "2024-05-29T23:14:54.807919Z",
     "iopub.status.busy": "2024-05-29T23:14:54.807485Z",
     "iopub.status.idle": "2024-05-29T23:14:54.820317Z",
     "shell.execute_reply": "2024-05-29T23:14:54.819162Z"
    },
    "papermill": {
     "duration": 0.027893,
     "end_time": "2024-05-29T23:14:54.823164",
     "exception": false,
     "start_time": "2024-05-29T23:14:54.795271",
     "status": "completed"
    },
    "tags": []
   },
   "outputs": [
    {
     "data": {
      "text/latex": [
       "$\\displaystyle \\frac{d}{d t} x_{2}{\\left(t \\right)} = u$"
      ],
      "text/plain": [
       "Eq(Derivative(x2(t), t), u)"
      ]
     },
     "execution_count": 4,
     "metadata": {},
     "output_type": "execute_result"
    }
   ],
   "source": [
    "eq_Dx2 = sp.Eq(Dx2, u)\n",
    "eq_Dx2"
   ]
  },
  {
   "cell_type": "markdown",
   "id": "01d94b59",
   "metadata": {
    "papermill": {
     "duration": 0.010554,
     "end_time": "2024-05-29T23:14:54.845118",
     "exception": false,
     "start_time": "2024-05-29T23:14:54.834564",
     "status": "completed"
    },
    "tags": []
   },
   "source": [
    "## и функционал"
   ]
  },
  {
   "cell_type": "code",
   "execution_count": 5,
   "id": "f4bcedbe",
   "metadata": {
    "execution": {
     "iopub.execute_input": "2024-05-29T23:14:54.869784Z",
     "iopub.status.busy": "2024-05-29T23:14:54.869422Z",
     "iopub.status.idle": "2024-05-29T23:14:54.875552Z",
     "shell.execute_reply": "2024-05-29T23:14:54.874727Z"
    },
    "papermill": {
     "duration": 0.02027,
     "end_time": "2024-05-29T23:14:54.877534",
     "exception": false,
     "start_time": "2024-05-29T23:14:54.857264",
     "status": "completed"
    },
    "tags": []
   },
   "outputs": [
    {
     "data": {
      "text/latex": [
       "$\\displaystyle u^{2}$"
      ],
      "text/plain": [
       "u**2"
      ]
     },
     "execution_count": 5,
     "metadata": {},
     "output_type": "execute_result"
    }
   ],
   "source": [
    "J = u ** 2\n",
    "J"
   ]
  },
  {
   "cell_type": "markdown",
   "id": "e3c93c96",
   "metadata": {
    "papermill": {
     "duration": 0.010582,
     "end_time": "2024-05-29T23:14:54.899097",
     "exception": false,
     "start_time": "2024-05-29T23:14:54.888515",
     "status": "completed"
    },
    "tags": []
   },
   "source": [
    "## Запишем Гамильтониан"
   ]
  },
  {
   "cell_type": "code",
   "execution_count": 6,
   "id": "50f75d7e",
   "metadata": {
    "execution": {
     "iopub.execute_input": "2024-05-29T23:14:54.923876Z",
     "iopub.status.busy": "2024-05-29T23:14:54.923211Z",
     "iopub.status.idle": "2024-05-29T23:14:54.933107Z",
     "shell.execute_reply": "2024-05-29T23:14:54.932268Z"
    },
    "papermill": {
     "duration": 0.024645,
     "end_time": "2024-05-29T23:14:54.935258",
     "exception": false,
     "start_time": "2024-05-29T23:14:54.910613",
     "status": "completed"
    },
    "tags": []
   },
   "outputs": [
    {
     "data": {
      "text/latex": [
       "$\\displaystyle - u^{2} + u λ_{2}{\\left(t \\right)} + \\left(x_{2}{\\left(t \\right)} - 2\\right) λ_{1}{\\left(t \\right)}$"
      ],
      "text/plain": [
       "-u**2 + u*λ2(t) + (x2(t) - 2)*λ1(t)"
      ]
     },
     "execution_count": 6,
     "metadata": {},
     "output_type": "execute_result"
    }
   ],
   "source": [
    "H = - J + λ1 * (x2 - 2) + λ2 * u\n",
    "H"
   ]
  },
  {
   "cell_type": "markdown",
   "id": "f3685e34",
   "metadata": {
    "papermill": {
     "duration": 0.011001,
     "end_time": "2024-05-29T23:14:54.957343",
     "exception": false,
     "start_time": "2024-05-29T23:14:54.946342",
     "status": "completed"
    },
    "tags": []
   },
   "source": [
    "## Запишем уравнения Эйлера–Лагранжа"
   ]
  },
  {
   "cell_type": "code",
   "execution_count": 7,
   "id": "94a862f9",
   "metadata": {
    "execution": {
     "iopub.execute_input": "2024-05-29T23:14:54.981972Z",
     "iopub.status.busy": "2024-05-29T23:14:54.981095Z",
     "iopub.status.idle": "2024-05-29T23:14:54.988684Z",
     "shell.execute_reply": "2024-05-29T23:14:54.987862Z"
    },
    "papermill": {
     "duration": 0.022179,
     "end_time": "2024-05-29T23:14:54.990818",
     "exception": false,
     "start_time": "2024-05-29T23:14:54.968639",
     "status": "completed"
    },
    "tags": []
   },
   "outputs": [
    {
     "data": {
      "text/latex": [
       "$\\displaystyle \\frac{d}{d t} λ_{1}{\\left(t \\right)} = 0$"
      ],
      "text/plain": [
       "Eq(Derivative(λ1(t), t), 0)"
      ]
     },
     "execution_count": 7,
     "metadata": {},
     "output_type": "execute_result"
    }
   ],
   "source": [
    "eq_Dλ1 = sp.Eq(Dλ1, - H.diff(x1))\n",
    "eq_Dλ1"
   ]
  },
  {
   "cell_type": "code",
   "execution_count": 8,
   "id": "cd9de2c7",
   "metadata": {
    "execution": {
     "iopub.execute_input": "2024-05-29T23:14:55.016227Z",
     "iopub.status.busy": "2024-05-29T23:14:55.015507Z",
     "iopub.status.idle": "2024-05-29T23:14:55.034199Z",
     "shell.execute_reply": "2024-05-29T23:14:55.033363Z"
    },
    "papermill": {
     "duration": 0.033993,
     "end_time": "2024-05-29T23:14:55.036355",
     "exception": false,
     "start_time": "2024-05-29T23:14:55.002362",
     "status": "completed"
    },
    "tags": []
   },
   "outputs": [
    {
     "data": {
      "text/latex": [
       "$\\displaystyle \\frac{d}{d t} λ_{2}{\\left(t \\right)} = - λ_{1}{\\left(t \\right)}$"
      ],
      "text/plain": [
       "Eq(Derivative(λ2(t), t), -λ1(t))"
      ]
     },
     "execution_count": 8,
     "metadata": {},
     "output_type": "execute_result"
    }
   ],
   "source": [
    "eq_Dλ2 = sp.Eq(Dλ2, - H.diff(x2))\n",
    "eq_Dλ2"
   ]
  },
  {
   "cell_type": "code",
   "execution_count": 9,
   "id": "20e12f6c",
   "metadata": {
    "execution": {
     "iopub.execute_input": "2024-05-29T23:14:55.061142Z",
     "iopub.status.busy": "2024-05-29T23:14:55.060730Z",
     "iopub.status.idle": "2024-05-29T23:14:55.092072Z",
     "shell.execute_reply": "2024-05-29T23:14:55.090933Z"
    },
    "papermill": {
     "duration": 0.04664,
     "end_time": "2024-05-29T23:14:55.094427",
     "exception": false,
     "start_time": "2024-05-29T23:14:55.047787",
     "status": "completed"
    },
    "tags": []
   },
   "outputs": [
    {
     "data": {
      "text/latex": [
       "$\\displaystyle λ_{1}{\\left(t \\right)} = C_{1}$"
      ],
      "text/plain": [
       "Eq(λ1(t), C1)"
      ]
     },
     "execution_count": 9,
     "metadata": {},
     "output_type": "execute_result"
    }
   ],
   "source": [
    "sol_λ1 = sp.dsolve(eq_Dλ1, λ1)\n",
    "sol_λ1"
   ]
  },
  {
   "cell_type": "code",
   "execution_count": 10,
   "id": "57889fc7",
   "metadata": {
    "execution": {
     "iopub.execute_input": "2024-05-29T23:14:55.119895Z",
     "iopub.status.busy": "2024-05-29T23:14:55.119150Z",
     "iopub.status.idle": "2024-05-29T23:14:55.128906Z",
     "shell.execute_reply": "2024-05-29T23:14:55.127860Z"
    },
    "papermill": {
     "duration": 0.025149,
     "end_time": "2024-05-29T23:14:55.131247",
     "exception": false,
     "start_time": "2024-05-29T23:14:55.106098",
     "status": "completed"
    },
    "tags": []
   },
   "outputs": [
    {
     "data": {
      "text/latex": [
       "$\\displaystyle \\frac{d}{d t} λ_{2}{\\left(t \\right)} = - C_{1}$"
      ],
      "text/plain": [
       "Eq(Derivative(λ2(t), t), -C1)"
      ]
     },
     "execution_count": 10,
     "metadata": {},
     "output_type": "execute_result"
    }
   ],
   "source": [
    "eq_Dλ2 = eq_Dλ2.subs(λ1, sol_λ1.rhs)\n",
    "eq_Dλ2"
   ]
  },
  {
   "cell_type": "code",
   "execution_count": 11,
   "id": "428aff0f",
   "metadata": {
    "execution": {
     "iopub.execute_input": "2024-05-29T23:14:55.156485Z",
     "iopub.status.busy": "2024-05-29T23:14:55.156115Z",
     "iopub.status.idle": "2024-05-29T23:14:55.491131Z",
     "shell.execute_reply": "2024-05-29T23:14:55.489796Z"
    },
    "papermill": {
     "duration": 0.350907,
     "end_time": "2024-05-29T23:14:55.494038",
     "exception": false,
     "start_time": "2024-05-29T23:14:55.143131",
     "status": "completed"
    },
    "tags": []
   },
   "outputs": [
    {
     "data": {
      "text/latex": [
       "$\\displaystyle λ_{2}{\\left(t \\right)} = - C_{1} t + C_{2}$"
      ],
      "text/plain": [
       "Eq(λ2(t), -C1*t + C2)"
      ]
     },
     "execution_count": 11,
     "metadata": {},
     "output_type": "execute_result"
    }
   ],
   "source": [
    "sol_λ2 = sp.dsolve(eq_Dλ2, λ2) \n",
    "sol_λ2"
   ]
  },
  {
   "cell_type": "markdown",
   "id": "ab4c335b",
   "metadata": {
    "papermill": {
     "duration": 0.012715,
     "end_time": "2024-05-29T23:14:55.518948",
     "exception": false,
     "start_time": "2024-05-29T23:14:55.506233",
     "status": "completed"
    },
    "tags": []
   },
   "source": [
    "## Составляем условие стационарности на u и решаем его"
   ]
  },
  {
   "cell_type": "code",
   "execution_count": 12,
   "id": "4132d21f",
   "metadata": {
    "execution": {
     "iopub.execute_input": "2024-05-29T23:14:55.544845Z",
     "iopub.status.busy": "2024-05-29T23:14:55.544475Z",
     "iopub.status.idle": "2024-05-29T23:14:55.563004Z",
     "shell.execute_reply": "2024-05-29T23:14:55.561766Z"
    },
    "papermill": {
     "duration": 0.034227,
     "end_time": "2024-05-29T23:14:55.565377",
     "exception": false,
     "start_time": "2024-05-29T23:14:55.531150",
     "status": "completed"
    },
    "tags": []
   },
   "outputs": [
    {
     "data": {
      "text/latex": [
       "$\\displaystyle - 2 u + λ_{2}{\\left(t \\right)} = 0$"
      ],
      "text/plain": [
       "Eq(-2*u + λ2(t), 0)"
      ]
     },
     "execution_count": 12,
     "metadata": {},
     "output_type": "execute_result"
    }
   ],
   "source": [
    "dHdu = sp.Eq(H.diff(u), 0)\n",
    "dHdu"
   ]
  },
  {
   "cell_type": "markdown",
   "id": "84556222",
   "metadata": {
    "papermill": {
     "duration": 0.011826,
     "end_time": "2024-05-29T23:14:55.589427",
     "exception": false,
     "start_time": "2024-05-29T23:14:55.577601",
     "status": "completed"
    },
    "tags": []
   },
   "source": [
    "## Вычислим u из найденного уравнения"
   ]
  },
  {
   "cell_type": "code",
   "execution_count": 13,
   "id": "28f0db2d",
   "metadata": {
    "execution": {
     "iopub.execute_input": "2024-05-29T23:14:55.616259Z",
     "iopub.status.busy": "2024-05-29T23:14:55.615848Z",
     "iopub.status.idle": "2024-05-29T23:14:55.631988Z",
     "shell.execute_reply": "2024-05-29T23:14:55.631040Z"
    },
    "papermill": {
     "duration": 0.032288,
     "end_time": "2024-05-29T23:14:55.634167",
     "exception": false,
     "start_time": "2024-05-29T23:14:55.601879",
     "status": "completed"
    },
    "tags": []
   },
   "outputs": [
    {
     "data": {
      "text/latex": [
       "$\\displaystyle \\frac{λ_{2}{\\left(t \\right)}}{2}$"
      ],
      "text/plain": [
       "λ2(t)/2"
      ]
     },
     "execution_count": 13,
     "metadata": {},
     "output_type": "execute_result"
    }
   ],
   "source": [
    "sol_u = sp.solve(dHdu, u)[0]\n",
    "sol_u"
   ]
  },
  {
   "cell_type": "markdown",
   "id": "f92a1457",
   "metadata": {
    "papermill": {
     "duration": 0.012516,
     "end_time": "2024-05-29T23:14:55.659193",
     "exception": false,
     "start_time": "2024-05-29T23:14:55.646677",
     "status": "completed"
    },
    "tags": []
   },
   "source": [
    "## Подставим вместо λ2(𝑡) его значение "
   ]
  },
  {
   "cell_type": "code",
   "execution_count": 14,
   "id": "3b372438",
   "metadata": {
    "execution": {
     "iopub.execute_input": "2024-05-29T23:14:55.686637Z",
     "iopub.status.busy": "2024-05-29T23:14:55.685918Z",
     "iopub.status.idle": "2024-05-29T23:14:55.700932Z",
     "shell.execute_reply": "2024-05-29T23:14:55.699807Z"
    },
    "papermill": {
     "duration": 0.031745,
     "end_time": "2024-05-29T23:14:55.703847",
     "exception": false,
     "start_time": "2024-05-29T23:14:55.672102",
     "status": "completed"
    },
    "tags": []
   },
   "outputs": [
    {
     "data": {
      "text/latex": [
       "$\\displaystyle u = - \\frac{C_{1} t}{2} + \\frac{C_{2}}{2}$"
      ],
      "text/plain": [
       "Eq(u, -C1*t/2 + C2/2)"
      ]
     },
     "execution_count": 14,
     "metadata": {},
     "output_type": "execute_result"
    }
   ],
   "source": [
    "u_val = sp.Eq(u, sol_u.subs(λ2, sol_λ2.rhs))\n",
    "u_val"
   ]
  },
  {
   "cell_type": "markdown",
   "id": "a51b1acb",
   "metadata": {
    "papermill": {
     "duration": 0.012534,
     "end_time": "2024-05-29T23:14:55.731199",
     "exception": false,
     "start_time": "2024-05-29T23:14:55.718665",
     "status": "completed"
    },
    "tags": []
   },
   "source": [
    "## Подставляем найденное управление 𝑢 в уравнение фазовой динамики, то есть значение u в Dx2"
   ]
  },
  {
   "cell_type": "code",
   "execution_count": 15,
   "id": "51026454",
   "metadata": {
    "execution": {
     "iopub.execute_input": "2024-05-29T23:14:55.757826Z",
     "iopub.status.busy": "2024-05-29T23:14:55.757421Z",
     "iopub.status.idle": "2024-05-29T23:14:55.772211Z",
     "shell.execute_reply": "2024-05-29T23:14:55.771090Z"
    },
    "papermill": {
     "duration": 0.031074,
     "end_time": "2024-05-29T23:14:55.774745",
     "exception": false,
     "start_time": "2024-05-29T23:14:55.743671",
     "status": "completed"
    },
    "tags": []
   },
   "outputs": [
    {
     "data": {
      "text/latex": [
       "$\\displaystyle \\frac{d}{d t} x_{2}{\\left(t \\right)} = - \\frac{C_{1} t}{2} + \\frac{C_{2}}{2}$"
      ],
      "text/plain": [
       "Eq(Derivative(x2(t), t), -C1*t/2 + C2/2)"
      ]
     },
     "execution_count": 15,
     "metadata": {},
     "output_type": "execute_result"
    }
   ],
   "source": [
    "eq_Dx2 = eq_Dx2.subs(u, u_val.rhs)\n",
    "eq_Dx2"
   ]
  },
  {
   "cell_type": "markdown",
   "id": "4b54119a",
   "metadata": {
    "papermill": {
     "duration": 0.012347,
     "end_time": "2024-05-29T23:14:55.799874",
     "exception": false,
     "start_time": "2024-05-29T23:14:55.787527",
     "status": "completed"
    },
    "tags": []
   },
   "source": [
    "## Используем первые граничные условия x1(0) = 0 и x2(0) = 0 для вычисления постоянных интегрирования, то есть С3 и С4: "
   ]
  },
  {
   "cell_type": "code",
   "execution_count": 16,
   "id": "9758ab2c",
   "metadata": {
    "execution": {
     "iopub.execute_input": "2024-05-29T23:14:55.827712Z",
     "iopub.status.busy": "2024-05-29T23:14:55.826541Z",
     "iopub.status.idle": "2024-05-29T23:14:55.835709Z",
     "shell.execute_reply": "2024-05-29T23:14:55.834527Z"
    },
    "papermill": {
     "duration": 0.025442,
     "end_time": "2024-05-29T23:14:55.838101",
     "exception": false,
     "start_time": "2024-05-29T23:14:55.812659",
     "status": "completed"
    },
    "tags": []
   },
   "outputs": [
    {
     "data": {
      "text/plain": [
       "{x1(0): 0, x2(0): 0}"
      ]
     },
     "execution_count": 16,
     "metadata": {},
     "output_type": "execute_result"
    }
   ],
   "source": [
    "ics_0 = {x1.subs(t, 0): 0, x2.subs(t, 0): 0}\n",
    "ics_0"
   ]
  },
  {
   "cell_type": "markdown",
   "id": "8e897481",
   "metadata": {
    "papermill": {
     "duration": 0.012542,
     "end_time": "2024-05-29T23:14:55.864465",
     "exception": false,
     "start_time": "2024-05-29T23:14:55.851923",
     "status": "completed"
    },
    "tags": []
   },
   "source": [
    "## и решаем систему"
   ]
  },
  {
   "cell_type": "code",
   "execution_count": 17,
   "id": "0cfaff47",
   "metadata": {
    "execution": {
     "iopub.execute_input": "2024-05-29T23:14:55.891954Z",
     "iopub.status.busy": "2024-05-29T23:14:55.891566Z",
     "iopub.status.idle": "2024-05-29T23:14:56.256638Z",
     "shell.execute_reply": "2024-05-29T23:14:56.255560Z"
    },
    "papermill": {
     "duration": 0.381947,
     "end_time": "2024-05-29T23:14:56.259335",
     "exception": false,
     "start_time": "2024-05-29T23:14:55.877388",
     "status": "completed"
    },
    "tags": []
   },
   "outputs": [
    {
     "data": {
      "text/latex": [
       "$\\displaystyle x_{2}{\\left(t \\right)} = - \\frac{C_{1} t^{2}}{4} + \\frac{C_{2} t}{2}$"
      ],
      "text/plain": [
       "Eq(x2(t), -C1*t**2/4 + C2*t/2)"
      ]
     },
     "execution_count": 17,
     "metadata": {},
     "output_type": "execute_result"
    }
   ],
   "source": [
    "x1_x2_val = sp.dsolve([eq_Dx2, eq_Dx1], ics=ics_0)\n",
    "x1_x2_val[0]"
   ]
  },
  {
   "cell_type": "code",
   "execution_count": 18,
   "id": "91cb49b8",
   "metadata": {
    "execution": {
     "iopub.execute_input": "2024-05-29T23:14:56.287998Z",
     "iopub.status.busy": "2024-05-29T23:14:56.287590Z",
     "iopub.status.idle": "2024-05-29T23:14:56.297617Z",
     "shell.execute_reply": "2024-05-29T23:14:56.296293Z"
    },
    "papermill": {
     "duration": 0.027702,
     "end_time": "2024-05-29T23:14:56.300224",
     "exception": false,
     "start_time": "2024-05-29T23:14:56.272522",
     "status": "completed"
    },
    "tags": []
   },
   "outputs": [
    {
     "data": {
      "text/latex": [
       "$\\displaystyle x_{1}{\\left(t \\right)} = - \\frac{C_{1} t^{3}}{12} + \\frac{C_{2} t^{2}}{4} - 2 t$"
      ],
      "text/plain": [
       "Eq(x1(t), -C1*t**3/12 + C2*t**2/4 - 2*t)"
      ]
     },
     "execution_count": 18,
     "metadata": {},
     "output_type": "execute_result"
    }
   ],
   "source": [
    "x1_x2_val[1]"
   ]
  },
  {
   "cell_type": "markdown",
   "id": "17afd863",
   "metadata": {
    "papermill": {
     "duration": 0.012819,
     "end_time": "2024-05-29T23:14:56.326499",
     "exception": false,
     "start_time": "2024-05-29T23:14:56.313680",
     "status": "completed"
    },
    "tags": []
   },
   "source": [
    "## Используем вторые граничные условия x1(1) = -1 и x2(1) = 0 для вычисления постоянных интегрирования, то есть С1 и С2:"
   ]
  },
  {
   "cell_type": "code",
   "execution_count": 19,
   "id": "048a85fa",
   "metadata": {
    "execution": {
     "iopub.execute_input": "2024-05-29T23:14:56.354608Z",
     "iopub.status.busy": "2024-05-29T23:14:56.354233Z",
     "iopub.status.idle": "2024-05-29T23:14:56.360731Z",
     "shell.execute_reply": "2024-05-29T23:14:56.359548Z"
    },
    "papermill": {
     "duration": 0.023024,
     "end_time": "2024-05-29T23:14:56.362917",
     "exception": false,
     "start_time": "2024-05-29T23:14:56.339893",
     "status": "completed"
    },
    "tags": []
   },
   "outputs": [],
   "source": [
    "eqs_C1_C2 = map(lambda eq: eq.subs({x2: 0, t: 1}) if (eq.lhs == x2) else eq.subs({x1: -1, t: 1}), x1_x2_val)\n",
    "\n",
    "# Или\n",
    "# eqs_C1_C2 = []\n",
    "# for item in x1_x2_val:\n",
    "#   if item.lhs == x2:\n",
    "#     item = item.subs({x2: 0, t: 1})\n",
    "#   else:\n",
    "#     item = item.subs({x1: -1, t: 1})\n",
    "\n",
    "#   eqs_C1_C2.append(item)"
   ]
  },
  {
   "cell_type": "markdown",
   "id": "bfae83a5",
   "metadata": {
    "papermill": {
     "duration": 0.012718,
     "end_time": "2024-05-29T23:14:56.388898",
     "exception": false,
     "start_time": "2024-05-29T23:14:56.376180",
     "status": "completed"
    },
    "tags": []
   },
   "source": [
    "## и решаем систему"
   ]
  },
  {
   "cell_type": "code",
   "execution_count": 20,
   "id": "10b822fd",
   "metadata": {
    "execution": {
     "iopub.execute_input": "2024-05-29T23:14:56.416863Z",
     "iopub.status.busy": "2024-05-29T23:14:56.416468Z",
     "iopub.status.idle": "2024-05-29T23:14:56.460474Z",
     "shell.execute_reply": "2024-05-29T23:14:56.458895Z"
    },
    "papermill": {
     "duration": 0.060944,
     "end_time": "2024-05-29T23:14:56.462954",
     "exception": false,
     "start_time": "2024-05-29T23:14:56.402010",
     "status": "completed"
    },
    "tags": []
   },
   "outputs": [
    {
     "data": {
      "text/plain": [
       "{C1: 24, C2: 12}"
      ]
     },
     "execution_count": 20,
     "metadata": {},
     "output_type": "execute_result"
    }
   ],
   "source": [
    "eqs_C1_C2 = sp.solve(eqs_C1_C2)\n",
    "eqs_C1_C2"
   ]
  },
  {
   "cell_type": "markdown",
   "id": "4ae44932",
   "metadata": {
    "papermill": {
     "duration": 0.012965,
     "end_time": "2024-05-29T23:14:56.489487",
     "exception": false,
     "start_time": "2024-05-29T23:14:56.476522",
     "status": "completed"
    },
    "tags": []
   },
   "source": [
    "## Подставляем найденные значения С1 и С2 в уравнениях фазовой динамики, то есть С1 и С2 в х1 и х2"
   ]
  },
  {
   "cell_type": "code",
   "execution_count": 21,
   "id": "73dcebc4",
   "metadata": {
    "execution": {
     "iopub.execute_input": "2024-05-29T23:14:56.517683Z",
     "iopub.status.busy": "2024-05-29T23:14:56.517289Z",
     "iopub.status.idle": "2024-05-29T23:14:56.568778Z",
     "shell.execute_reply": "2024-05-29T23:14:56.567555Z"
    },
    "papermill": {
     "duration": 0.068408,
     "end_time": "2024-05-29T23:14:56.571110",
     "exception": false,
     "start_time": "2024-05-29T23:14:56.502702",
     "status": "completed"
    },
    "tags": []
   },
   "outputs": [
    {
     "data": {
      "text/latex": [
       "$\\displaystyle x_{2}{\\left(t \\right)} = - 6 t^{2} + 6 t$"
      ],
      "text/plain": [
       "Eq(x2(t), -6*t**2 + 6*t)"
      ]
     },
     "execution_count": 21,
     "metadata": {},
     "output_type": "execute_result"
    }
   ],
   "source": [
    "x1_x2_u_val = list(map(lambda eq: eq.subs(eqs_C1_C2), [*x1_x2_val, u_val]))\n",
    "x1_x2_u_val[0]"
   ]
  },
  {
   "cell_type": "code",
   "execution_count": 22,
   "id": "f2a29b24",
   "metadata": {
    "execution": {
     "iopub.execute_input": "2024-05-29T23:14:56.600306Z",
     "iopub.status.busy": "2024-05-29T23:14:56.599871Z",
     "iopub.status.idle": "2024-05-29T23:14:56.608684Z",
     "shell.execute_reply": "2024-05-29T23:14:56.607584Z"
    },
    "papermill": {
     "duration": 0.02618,
     "end_time": "2024-05-29T23:14:56.611472",
     "exception": false,
     "start_time": "2024-05-29T23:14:56.585292",
     "status": "completed"
    },
    "tags": []
   },
   "outputs": [
    {
     "data": {
      "text/latex": [
       "$\\displaystyle x_{1}{\\left(t \\right)} = - 2 t^{3} + 3 t^{2} - 2 t$"
      ],
      "text/plain": [
       "Eq(x1(t), -2*t**3 + 3*t**2 - 2*t)"
      ]
     },
     "execution_count": 22,
     "metadata": {},
     "output_type": "execute_result"
    }
   ],
   "source": [
    "x1_x2_u_val[1]"
   ]
  },
  {
   "cell_type": "code",
   "execution_count": 23,
   "id": "b5588389",
   "metadata": {
    "execution": {
     "iopub.execute_input": "2024-05-29T23:14:56.641064Z",
     "iopub.status.busy": "2024-05-29T23:14:56.640437Z",
     "iopub.status.idle": "2024-05-29T23:14:56.647869Z",
     "shell.execute_reply": "2024-05-29T23:14:56.646818Z"
    },
    "papermill": {
     "duration": 0.024777,
     "end_time": "2024-05-29T23:14:56.650232",
     "exception": false,
     "start_time": "2024-05-29T23:14:56.625455",
     "status": "completed"
    },
    "tags": []
   },
   "outputs": [
    {
     "data": {
      "text/latex": [
       "$\\displaystyle u = 6 - 12 t$"
      ],
      "text/plain": [
       "Eq(u, 6 - 12*t)"
      ]
     },
     "execution_count": 23,
     "metadata": {},
     "output_type": "execute_result"
    }
   ],
   "source": [
    "x1_x2_u_val[2]"
   ]
  }
 ],
 "metadata": {
  "kaggle": {
   "accelerator": "none",
   "dataSources": [],
   "dockerImageVersionId": 30698,
   "isGpuEnabled": false,
   "isInternetEnabled": true,
   "language": "python",
   "sourceType": "notebook"
  },
  "kernelspec": {
   "display_name": "Python 3",
   "language": "python",
   "name": "python3"
  },
  "language_info": {
   "codemirror_mode": {
    "name": "ipython",
    "version": 3
   },
   "file_extension": ".py",
   "mimetype": "text/x-python",
   "name": "python",
   "nbconvert_exporter": "python",
   "pygments_lexer": "ipython3",
   "version": "3.10.13"
  },
  "papermill": {
   "default_parameters": {},
   "duration": 6.871385,
   "end_time": "2024-05-29T23:14:57.185533",
   "environment_variables": {},
   "exception": null,
   "input_path": "__notebook__.ipynb",
   "output_path": "__notebook__.ipynb",
   "parameters": {},
   "start_time": "2024-05-29T23:14:50.314148",
   "version": "2.5.0"
  }
 },
 "nbformat": 4,
 "nbformat_minor": 5
}
