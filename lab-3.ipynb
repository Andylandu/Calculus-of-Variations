{
 "cells": [
  {
   "cell_type": "code",
   "execution_count": 1,
   "id": "17107b2f",
   "metadata": {
    "execution": {
     "iopub.execute_input": "2024-05-28T10:38:21.988876Z",
     "iopub.status.busy": "2024-05-28T10:38:21.988485Z",
     "iopub.status.idle": "2024-05-28T10:38:22.918408Z",
     "shell.execute_reply": "2024-05-28T10:38:22.917319Z"
    },
    "papermill": {
     "duration": 0.942637,
     "end_time": "2024-05-28T10:38:22.921256",
     "exception": false,
     "start_time": "2024-05-28T10:38:21.978619",
     "status": "completed"
    },
    "tags": []
   },
   "outputs": [],
   "source": [
    "# Lab 3\n",
    "import sympy as sp"
   ]
  },
  {
   "cell_type": "code",
   "execution_count": 2,
   "id": "edb5a9b8",
   "metadata": {
    "execution": {
     "iopub.execute_input": "2024-05-28T10:38:22.938003Z",
     "iopub.status.busy": "2024-05-28T10:38:22.937554Z",
     "iopub.status.idle": "2024-05-28T10:38:23.034604Z",
     "shell.execute_reply": "2024-05-28T10:38:23.033467Z"
    },
    "papermill": {
     "duration": 0.107948,
     "end_time": "2024-05-28T10:38:23.037024",
     "exception": false,
     "start_time": "2024-05-28T10:38:22.929076",
     "status": "completed"
    },
    "tags": []
   },
   "outputs": [
    {
     "data": {
      "text/latex": [
       "$\\displaystyle \\frac{d}{d t} \\operatorname{Dx}_{1}{\\left(t \\right)} = x_{2} - 2$"
      ],
      "text/plain": [
       "Eq(Derivative(Dx1(t), t), x2 - 2)"
      ]
     },
     "execution_count": 2,
     "metadata": {},
     "output_type": "execute_result"
    }
   ],
   "source": [
    "# Для этого опишем уравнения фазовой динамики\n",
    "t, x1, x2, u, p1, p2, J, H = sp.symbols('t x1 x2 u p1 p2 J H')\n",
    "\n",
    "Dp1, Dp2, Dx1, Dx2 = sp.symbols('Dp1 Dp2 Dx1 Dx2', cls=sp.Function)\n",
    "\n",
    "Dp1, Dp2, Dx1, Dx2 = (Dp1(t), Dp2(t), Dx1(t), Dx2(t))\n",
    "\n",
    "eq_Dx1 = sp.Eq(Dx1.diff(t), x2 - 2) \n",
    "eq_Dx1"
   ]
  },
  {
   "cell_type": "code",
   "execution_count": 3,
   "id": "0dc3e25f",
   "metadata": {
    "execution": {
     "iopub.execute_input": "2024-05-28T10:38:23.053737Z",
     "iopub.status.busy": "2024-05-28T10:38:23.053382Z",
     "iopub.status.idle": "2024-05-28T10:38:23.067684Z",
     "shell.execute_reply": "2024-05-28T10:38:23.066549Z"
    },
    "papermill": {
     "duration": 0.025422,
     "end_time": "2024-05-28T10:38:23.070120",
     "exception": false,
     "start_time": "2024-05-28T10:38:23.044698",
     "status": "completed"
    },
    "tags": []
   },
   "outputs": [
    {
     "data": {
      "text/latex": [
       "$\\displaystyle \\frac{d}{d t} \\operatorname{Dx}_{2}{\\left(t \\right)} = u$"
      ],
      "text/plain": [
       "Eq(Derivative(Dx2(t), t), u)"
      ]
     },
     "execution_count": 3,
     "metadata": {},
     "output_type": "execute_result"
    }
   ],
   "source": [
    "eq_Dx2 = sp.Eq(Dx2.diff(t), u)\n",
    "eq_Dx2"
   ]
  },
  {
   "cell_type": "code",
   "execution_count": 4,
   "id": "e25225bd",
   "metadata": {
    "execution": {
     "iopub.execute_input": "2024-05-28T10:38:23.088275Z",
     "iopub.status.busy": "2024-05-28T10:38:23.087323Z",
     "iopub.status.idle": "2024-05-28T10:38:23.093983Z",
     "shell.execute_reply": "2024-05-28T10:38:23.093137Z"
    },
    "papermill": {
     "duration": 0.018507,
     "end_time": "2024-05-28T10:38:23.096810",
     "exception": false,
     "start_time": "2024-05-28T10:38:23.078303",
     "status": "completed"
    },
    "tags": []
   },
   "outputs": [],
   "source": [
    "# и функционал\n",
    "J = u ** 2"
   ]
  },
  {
   "cell_type": "code",
   "execution_count": 5,
   "id": "c0b8cb3a",
   "metadata": {
    "execution": {
     "iopub.execute_input": "2024-05-28T10:38:23.114425Z",
     "iopub.status.busy": "2024-05-28T10:38:23.113674Z",
     "iopub.status.idle": "2024-05-28T10:38:23.120066Z",
     "shell.execute_reply": "2024-05-28T10:38:23.119246Z"
    },
    "papermill": {
     "duration": 0.017796,
     "end_time": "2024-05-28T10:38:23.122463",
     "exception": false,
     "start_time": "2024-05-28T10:38:23.104667",
     "status": "completed"
    },
    "tags": []
   },
   "outputs": [],
   "source": [
    "# Запишем Гамильтониан\n",
    "H = -J + p1 * (x2 - 2) + p2 * u"
   ]
  },
  {
   "cell_type": "code",
   "execution_count": 6,
   "id": "09f64f7f",
   "metadata": {
    "execution": {
     "iopub.execute_input": "2024-05-28T10:38:23.140116Z",
     "iopub.status.busy": "2024-05-28T10:38:23.138889Z",
     "iopub.status.idle": "2024-05-28T10:38:23.148765Z",
     "shell.execute_reply": "2024-05-28T10:38:23.147563Z"
    },
    "papermill": {
     "duration": 0.020872,
     "end_time": "2024-05-28T10:38:23.151093",
     "exception": false,
     "start_time": "2024-05-28T10:38:23.130221",
     "status": "completed"
    },
    "tags": []
   },
   "outputs": [
    {
     "data": {
      "text/latex": [
       "$\\displaystyle \\frac{d}{d t} \\operatorname{Dp}_{1}{\\left(t \\right)} = 0$"
      ],
      "text/plain": [
       "Eq(Derivative(Dp1(t), t), 0)"
      ]
     },
     "execution_count": 6,
     "metadata": {},
     "output_type": "execute_result"
    }
   ],
   "source": [
    "# уравнения Эйлера–Лагранжа\n",
    "eq_Dp1 = sp.Eq(Dp1.diff(t), -sp.diff(H, x1))\n",
    "eq_Dp1"
   ]
  },
  {
   "cell_type": "code",
   "execution_count": 7,
   "id": "ac6acbe6",
   "metadata": {
    "execution": {
     "iopub.execute_input": "2024-05-28T10:38:23.168270Z",
     "iopub.status.busy": "2024-05-28T10:38:23.167651Z",
     "iopub.status.idle": "2024-05-28T10:38:23.181658Z",
     "shell.execute_reply": "2024-05-28T10:38:23.180510Z"
    },
    "papermill": {
     "duration": 0.025457,
     "end_time": "2024-05-28T10:38:23.184102",
     "exception": false,
     "start_time": "2024-05-28T10:38:23.158645",
     "status": "completed"
    },
    "tags": []
   },
   "outputs": [
    {
     "data": {
      "text/latex": [
       "$\\displaystyle \\frac{d}{d t} \\operatorname{Dp}_{2}{\\left(t \\right)} = - p_{1}$"
      ],
      "text/plain": [
       "Eq(Derivative(Dp2(t), t), -p1)"
      ]
     },
     "execution_count": 7,
     "metadata": {},
     "output_type": "execute_result"
    }
   ],
   "source": [
    "eq_Dp2 = sp.Eq(Dp2.diff(t), -sp.diff(H, x2))\n",
    "eq_Dp2"
   ]
  },
  {
   "cell_type": "code",
   "execution_count": 8,
   "id": "08dff027",
   "metadata": {
    "execution": {
     "iopub.execute_input": "2024-05-28T10:38:23.201720Z",
     "iopub.status.busy": "2024-05-28T10:38:23.201326Z",
     "iopub.status.idle": "2024-05-28T10:38:23.234274Z",
     "shell.execute_reply": "2024-05-28T10:38:23.233126Z"
    },
    "papermill": {
     "duration": 0.044672,
     "end_time": "2024-05-28T10:38:23.236824",
     "exception": false,
     "start_time": "2024-05-28T10:38:23.192152",
     "status": "completed"
    },
    "tags": []
   },
   "outputs": [
    {
     "data": {
      "text/latex": [
       "$\\displaystyle p_{1} = C_{1}$"
      ],
      "text/plain": [
       "Eq(p1, C1)"
      ]
     },
     "execution_count": 8,
     "metadata": {},
     "output_type": "execute_result"
    }
   ],
   "source": [
    "sol_p1 = sp.dsolve(eq_Dp1, Dp1).subs(Dp1, p1)\n",
    "sol_p1"
   ]
  },
  {
   "cell_type": "code",
   "execution_count": 9,
   "id": "0c750021",
   "metadata": {
    "execution": {
     "iopub.execute_input": "2024-05-28T10:38:23.254980Z",
     "iopub.status.busy": "2024-05-28T10:38:23.254398Z",
     "iopub.status.idle": "2024-05-28T10:38:23.262741Z",
     "shell.execute_reply": "2024-05-28T10:38:23.261611Z"
    },
    "papermill": {
     "duration": 0.020229,
     "end_time": "2024-05-28T10:38:23.265085",
     "exception": false,
     "start_time": "2024-05-28T10:38:23.244856",
     "status": "completed"
    },
    "tags": []
   },
   "outputs": [
    {
     "data": {
      "text/latex": [
       "$\\displaystyle \\frac{d}{d t} \\operatorname{Dp}_{2}{\\left(t \\right)} = - C_{1}$"
      ],
      "text/plain": [
       "Eq(Derivative(Dp2(t), t), -C1)"
      ]
     },
     "execution_count": 9,
     "metadata": {},
     "output_type": "execute_result"
    }
   ],
   "source": [
    "eq_Dp2 = eq_Dp2.subs(p1, sol_p1.rhs)\n",
    "eq_Dp2"
   ]
  },
  {
   "cell_type": "code",
   "execution_count": 10,
   "id": "40ddee49",
   "metadata": {
    "execution": {
     "iopub.execute_input": "2024-05-28T10:38:23.284289Z",
     "iopub.status.busy": "2024-05-28T10:38:23.283644Z",
     "iopub.status.idle": "2024-05-28T10:38:23.617641Z",
     "shell.execute_reply": "2024-05-28T10:38:23.616424Z"
    },
    "papermill": {
     "duration": 0.347267,
     "end_time": "2024-05-28T10:38:23.620461",
     "exception": false,
     "start_time": "2024-05-28T10:38:23.273194",
     "status": "completed"
    },
    "tags": []
   },
   "outputs": [
    {
     "data": {
      "text/latex": [
       "$\\displaystyle p_{2} = - C_{1} t + C_{2}$"
      ],
      "text/plain": [
       "Eq(p2, -C1*t + C2)"
      ]
     },
     "execution_count": 10,
     "metadata": {},
     "output_type": "execute_result"
    }
   ],
   "source": [
    "sol_p2 = sp.dsolve(eq_Dp2, Dp2).subs(Dp2, p2)\n",
    "sol_p2"
   ]
  },
  {
   "cell_type": "code",
   "execution_count": 11,
   "id": "5b86de2e",
   "metadata": {
    "execution": {
     "iopub.execute_input": "2024-05-28T10:38:23.639476Z",
     "iopub.status.busy": "2024-05-28T10:38:23.639023Z",
     "iopub.status.idle": "2024-05-28T10:38:23.659983Z",
     "shell.execute_reply": "2024-05-28T10:38:23.659215Z"
    },
    "papermill": {
     "duration": 0.033121,
     "end_time": "2024-05-28T10:38:23.662154",
     "exception": false,
     "start_time": "2024-05-28T10:38:23.629033",
     "status": "completed"
    },
    "tags": []
   },
   "outputs": [
    {
     "data": {
      "text/latex": [
       "$\\displaystyle \\frac{p_{2}}{2}$"
      ],
      "text/plain": [
       "p2/2"
      ]
     },
     "execution_count": 11,
     "metadata": {},
     "output_type": "execute_result"
    }
   ],
   "source": [
    "# Составляем условие стационарности и решаем его\n",
    "sol_u = sp.solve(sp.Eq(H.diff(u), 0), u)[0]\n",
    "sol_u\n",
    "# Или \n",
    "# du = sp.diff(H, u)\n",
    "# sol_u = sp.solve(du, u)[0]\n",
    "# sp.pprint(sol_u)"
   ]
  },
  {
   "cell_type": "code",
   "execution_count": 12,
   "id": "cce759ee",
   "metadata": {
    "execution": {
     "iopub.execute_input": "2024-05-28T10:38:23.683222Z",
     "iopub.status.busy": "2024-05-28T10:38:23.680767Z",
     "iopub.status.idle": "2024-05-28T10:38:23.691655Z",
     "shell.execute_reply": "2024-05-28T10:38:23.690382Z"
    },
    "papermill": {
     "duration": 0.023628,
     "end_time": "2024-05-28T10:38:23.694243",
     "exception": false,
     "start_time": "2024-05-28T10:38:23.670615",
     "status": "completed"
    },
    "tags": []
   },
   "outputs": [
    {
     "data": {
      "text/latex": [
       "$\\displaystyle - \\frac{C_{1} t}{2} + \\frac{C_{2}}{2}$"
      ],
      "text/plain": [
       "-C1*t/2 + C2/2"
      ]
     },
     "execution_count": 12,
     "metadata": {},
     "output_type": "execute_result"
    }
   ],
   "source": [
    "u_val = sol_u.subs(p2, sol_p2.rhs)\n",
    "u_val"
   ]
  },
  {
   "cell_type": "code",
   "execution_count": 13,
   "id": "b0167e0c",
   "metadata": {
    "execution": {
     "iopub.execute_input": "2024-05-28T10:38:23.713578Z",
     "iopub.status.busy": "2024-05-28T10:38:23.713171Z",
     "iopub.status.idle": "2024-05-28T10:38:23.731939Z",
     "shell.execute_reply": "2024-05-28T10:38:23.730775Z"
    },
    "papermill": {
     "duration": 0.031369,
     "end_time": "2024-05-28T10:38:23.734514",
     "exception": false,
     "start_time": "2024-05-28T10:38:23.703145",
     "status": "completed"
    },
    "tags": []
   },
   "outputs": [
    {
     "data": {
      "text/latex": [
       "$\\displaystyle \\frac{d}{d t} \\operatorname{Dx}_{2}{\\left(t \\right)} = - \\frac{C_{1} t}{2} + \\frac{C_{2}}{2}$"
      ],
      "text/plain": [
       "Eq(Derivative(Dx2(t), t), -C1*t/2 + C2/2)"
      ]
     },
     "execution_count": 13,
     "metadata": {},
     "output_type": "execute_result"
    }
   ],
   "source": [
    "# Подставляем найденное управление 𝑢 в уравнение фазовой динамики, то есть значение u в Dx2\n",
    "eq_Dx2 = eq_Dx2.subs(u, u_val)\n",
    "eq_Dx2"
   ]
  },
  {
   "cell_type": "code",
   "execution_count": 14,
   "id": "72038529",
   "metadata": {
    "execution": {
     "iopub.execute_input": "2024-05-28T10:38:23.753950Z",
     "iopub.status.busy": "2024-05-28T10:38:23.753565Z",
     "iopub.status.idle": "2024-05-28T10:38:23.759606Z",
     "shell.execute_reply": "2024-05-28T10:38:23.758512Z"
    },
    "papermill": {
     "duration": 0.018546,
     "end_time": "2024-05-28T10:38:23.762030",
     "exception": false,
     "start_time": "2024-05-28T10:38:23.743484",
     "status": "completed"
    },
    "tags": []
   },
   "outputs": [],
   "source": [
    "# Используем первые граничные условия для вычисления постоянных интегрирования, то есть С3 и С4: \n",
    "ics_0 = {Dx1.subs(t, 0): 0, Dx2.subs(t, 0): 0}"
   ]
  },
  {
   "cell_type": "code",
   "execution_count": 15,
   "id": "d8598b32",
   "metadata": {
    "execution": {
     "iopub.execute_input": "2024-05-28T10:38:23.781863Z",
     "iopub.status.busy": "2024-05-28T10:38:23.781482Z",
     "iopub.status.idle": "2024-05-28T10:38:24.152332Z",
     "shell.execute_reply": "2024-05-28T10:38:24.151068Z"
    },
    "papermill": {
     "duration": 0.383992,
     "end_time": "2024-05-28T10:38:24.155169",
     "exception": false,
     "start_time": "2024-05-28T10:38:23.771177",
     "status": "completed"
    },
    "tags": []
   },
   "outputs": [],
   "source": [
    "# и решаем систему\n",
    "my_sol = sp.dsolve([eq_Dx2, eq_Dx1.subs(x2, Dx2)], [Dx2, Dx1], ics=ics_0)"
   ]
  },
  {
   "cell_type": "code",
   "execution_count": 16,
   "id": "ba099ad0",
   "metadata": {
    "execution": {
     "iopub.execute_input": "2024-05-28T10:38:24.174818Z",
     "iopub.status.busy": "2024-05-28T10:38:24.174409Z",
     "iopub.status.idle": "2024-05-28T10:38:24.200316Z",
     "shell.execute_reply": "2024-05-28T10:38:24.199202Z"
    },
    "papermill": {
     "duration": 0.038659,
     "end_time": "2024-05-28T10:38:24.202815",
     "exception": false,
     "start_time": "2024-05-28T10:38:24.164156",
     "status": "completed"
    },
    "tags": []
   },
   "outputs": [
    {
     "data": {
      "text/plain": [
       "[Eq(x2, -C1*t**2/4 + C2*t/2), Eq(x1, -C1*t**3/12 + C2*t**2/4 - 2*t)]"
      ]
     },
     "execution_count": 16,
     "metadata": {},
     "output_type": "execute_result"
    }
   ],
   "source": [
    "my_sol = list(map(lambda eq: eq.subs({Dx2: x2, Dx1: x1}), my_sol))\n",
    "my_sol"
   ]
  },
  {
   "cell_type": "code",
   "execution_count": 17,
   "id": "782a2b19",
   "metadata": {
    "execution": {
     "iopub.execute_input": "2024-05-28T10:38:24.223518Z",
     "iopub.status.busy": "2024-05-28T10:38:24.222713Z",
     "iopub.status.idle": "2024-05-28T10:38:24.229302Z",
     "shell.execute_reply": "2024-05-28T10:38:24.228146Z"
    },
    "papermill": {
     "duration": 0.019695,
     "end_time": "2024-05-28T10:38:24.231802",
     "exception": false,
     "start_time": "2024-05-28T10:38:24.212107",
     "status": "completed"
    },
    "tags": []
   },
   "outputs": [],
   "source": [
    "# Используем вторые граничные условия для вычисления постоянных интегрирования, то есть С1 и С2:\n",
    "eqs_C1_C2 = map(lambda eq: eq.subs({x2: 0, t: 1}) if (eq.lhs == x2) else eq.subs({x1: -1, t: 1}), my_sol)\n",
    "\n",
    "# Или\n",
    "# eqs_C1_C2 = []\n",
    "# for item in my_sol:\n",
    "#   if item.lhs == Dx2:\n",
    "#     item = item.subs({Dx2: 0, t: 1})\n",
    "#   else:\n",
    "#     item = item.subs({Dx1: -1, t: 1})\n",
    "\n",
    "#   eqs_C1_C2.append(item)"
   ]
  },
  {
   "cell_type": "code",
   "execution_count": 18,
   "id": "dbae9d96",
   "metadata": {
    "execution": {
     "iopub.execute_input": "2024-05-28T10:38:24.251703Z",
     "iopub.status.busy": "2024-05-28T10:38:24.251284Z",
     "iopub.status.idle": "2024-05-28T10:38:24.285385Z",
     "shell.execute_reply": "2024-05-28T10:38:24.284187Z"
    },
    "papermill": {
     "duration": 0.047231,
     "end_time": "2024-05-28T10:38:24.288067",
     "exception": false,
     "start_time": "2024-05-28T10:38:24.240836",
     "status": "completed"
    },
    "tags": []
   },
   "outputs": [
    {
     "data": {
      "text/plain": [
       "{C1: 24, C2: 12}"
      ]
     },
     "execution_count": 18,
     "metadata": {},
     "output_type": "execute_result"
    }
   ],
   "source": [
    "# и решаем систему\n",
    "eqs_C1_C2 = sp.solve(eqs_C1_C2)\n",
    "eqs_C1_C2"
   ]
  },
  {
   "cell_type": "code",
   "execution_count": 19,
   "id": "1aee1a2d",
   "metadata": {
    "execution": {
     "iopub.execute_input": "2024-05-28T10:38:24.308787Z",
     "iopub.status.busy": "2024-05-28T10:38:24.308406Z",
     "iopub.status.idle": "2024-05-28T10:38:24.315922Z",
     "shell.execute_reply": "2024-05-28T10:38:24.314849Z"
    },
    "papermill": {
     "duration": 0.020787,
     "end_time": "2024-05-28T10:38:24.318344",
     "exception": false,
     "start_time": "2024-05-28T10:38:24.297557",
     "status": "completed"
    },
    "tags": []
   },
   "outputs": [
    {
     "data": {
      "text/plain": [
       "<map at 0x7ca76aebf580>"
      ]
     },
     "execution_count": 19,
     "metadata": {},
     "output_type": "execute_result"
    }
   ],
   "source": [
    "# Подставляем найденные значения С1 и С2 в уравнениях фазовой динамики, то есть С1 и С2 в х1 и х2\n",
    "x1_x2_val = map(lambda eq: eq.subs(eqs_C1_C2), my_sol)\n",
    "x1_x2_val"
   ]
  },
  {
   "cell_type": "code",
   "execution_count": 20,
   "id": "eed5741c",
   "metadata": {
    "execution": {
     "iopub.execute_input": "2024-05-28T10:38:24.338564Z",
     "iopub.status.busy": "2024-05-28T10:38:24.338181Z",
     "iopub.status.idle": "2024-05-28T10:38:24.347592Z",
     "shell.execute_reply": "2024-05-28T10:38:24.346372Z"
    },
    "papermill": {
     "duration": 0.02225,
     "end_time": "2024-05-28T10:38:24.349907",
     "exception": false,
     "start_time": "2024-05-28T10:38:24.327657",
     "status": "completed"
    },
    "tags": []
   },
   "outputs": [
    {
     "data": {
      "text/latex": [
       "$\\displaystyle 6 - 12 t$"
      ],
      "text/plain": [
       "6 - 12*t"
      ]
     },
     "execution_count": 20,
     "metadata": {},
     "output_type": "execute_result"
    }
   ],
   "source": [
    "u_val = u_val.subs(eqs_C1_C2)\n",
    "u_val"
   ]
  }
 ],
 "metadata": {
  "kaggle": {
   "accelerator": "none",
   "dataSources": [],
   "dockerImageVersionId": 30698,
   "isGpuEnabled": false,
   "isInternetEnabled": true,
   "language": "python",
   "sourceType": "notebook"
  },
  "kernelspec": {
   "display_name": "Python 3",
   "language": "python",
   "name": "python3"
  },
  "language_info": {
   "codemirror_mode": {
    "name": "ipython",
    "version": 3
   },
   "file_extension": ".py",
   "mimetype": "text/x-python",
   "name": "python",
   "nbconvert_exporter": "python",
   "pygments_lexer": "ipython3",
   "version": "3.10.13"
  },
  "papermill": {
   "default_parameters": {},
   "duration": 6.004746,
   "end_time": "2024-05-28T10:38:24.882334",
   "environment_variables": {},
   "exception": null,
   "input_path": "__notebook__.ipynb",
   "output_path": "__notebook__.ipynb",
   "parameters": {},
   "start_time": "2024-05-28T10:38:18.877588",
   "version": "2.5.0"
  }
 },
 "nbformat": 4,
 "nbformat_minor": 5
}
