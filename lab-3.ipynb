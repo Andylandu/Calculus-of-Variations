{
 "cells": [
  {
   "cell_type": "code",
   "execution_count": 1,
   "id": "02db22a5",
   "metadata": {
    "execution": {
     "iopub.execute_input": "2024-05-29T23:31:02.690779Z",
     "iopub.status.busy": "2024-05-29T23:31:02.690293Z",
     "iopub.status.idle": "2024-05-29T23:31:03.693009Z",
     "shell.execute_reply": "2024-05-29T23:31:03.691641Z"
    },
    "papermill": {
     "duration": 1.01964,
     "end_time": "2024-05-29T23:31:03.695934",
     "exception": false,
     "start_time": "2024-05-29T23:31:02.676294",
     "status": "completed"
    },
    "tags": []
   },
   "outputs": [],
   "source": [
    "# Lab 3\n",
    "import sympy as sp"
   ]
  },
  {
   "cell_type": "markdown",
   "id": "fb617d95",
   "metadata": {
    "papermill": {
     "duration": 0.010886,
     "end_time": "2024-05-29T23:31:03.718712",
     "exception": false,
     "start_time": "2024-05-29T23:31:03.707826",
     "status": "completed"
    },
    "tags": []
   },
   "source": [
    "## Запишем уравнения фазовой динамики"
   ]
  },
  {
   "cell_type": "code",
   "execution_count": 2,
   "id": "3eac054a",
   "metadata": {
    "execution": {
     "iopub.execute_input": "2024-05-29T23:31:03.743046Z",
     "iopub.status.busy": "2024-05-29T23:31:03.742560Z",
     "iopub.status.idle": "2024-05-29T23:31:03.757218Z",
     "shell.execute_reply": "2024-05-29T23:31:03.755987Z"
    },
    "papermill": {
     "duration": 0.030083,
     "end_time": "2024-05-29T23:31:03.760137",
     "exception": false,
     "start_time": "2024-05-29T23:31:03.730054",
     "status": "completed"
    },
    "tags": []
   },
   "outputs": [],
   "source": [
    "t, u, J, H = sp.symbols('t u J H')\n",
    "\n",
    "x1 = sp.Function('x1')(t)\n",
    "x2 = sp.Function('x2')(t)\n",
    "λ1 = sp.Function('λ1')(t)\n",
    "λ2 = sp.Function('λ2')(t)\n",
    "\n",
    "Dλ1, Dλ2, Dx1, Dx2 = (λ1.diff(t), λ2.diff(t), x1.diff(t), x2.diff(t))"
   ]
  },
  {
   "cell_type": "code",
   "execution_count": 3,
   "id": "c4095ebd",
   "metadata": {
    "execution": {
     "iopub.execute_input": "2024-05-29T23:31:03.784813Z",
     "iopub.status.busy": "2024-05-29T23:31:03.784405Z",
     "iopub.status.idle": "2024-05-29T23:31:03.878834Z",
     "shell.execute_reply": "2024-05-29T23:31:03.877625Z"
    },
    "papermill": {
     "duration": 0.109631,
     "end_time": "2024-05-29T23:31:03.881661",
     "exception": false,
     "start_time": "2024-05-29T23:31:03.772030",
     "status": "completed"
    },
    "tags": []
   },
   "outputs": [
    {
     "data": {
      "text/latex": [
       "$\\displaystyle \\frac{d}{d t} x_{1}{\\left(t \\right)} = x_{2}{\\left(t \\right)} - 2$"
      ],
      "text/plain": [
       "Eq(Derivative(x1(t), t), x2(t) - 2)"
      ]
     },
     "execution_count": 3,
     "metadata": {},
     "output_type": "execute_result"
    }
   ],
   "source": [
    "eq_Dx1 = sp.Eq(Dx1, x2 - 2) \n",
    "eq_Dx1"
   ]
  },
  {
   "cell_type": "code",
   "execution_count": 4,
   "id": "d71f503f",
   "metadata": {
    "execution": {
     "iopub.execute_input": "2024-05-29T23:31:03.906562Z",
     "iopub.status.busy": "2024-05-29T23:31:03.906128Z",
     "iopub.status.idle": "2024-05-29T23:31:03.920146Z",
     "shell.execute_reply": "2024-05-29T23:31:03.919016Z"
    },
    "papermill": {
     "duration": 0.029455,
     "end_time": "2024-05-29T23:31:03.922693",
     "exception": false,
     "start_time": "2024-05-29T23:31:03.893238",
     "status": "completed"
    },
    "tags": []
   },
   "outputs": [
    {
     "data": {
      "text/latex": [
       "$\\displaystyle \\frac{d}{d t} x_{2}{\\left(t \\right)} = u$"
      ],
      "text/plain": [
       "Eq(Derivative(x2(t), t), u)"
      ]
     },
     "execution_count": 4,
     "metadata": {},
     "output_type": "execute_result"
    }
   ],
   "source": [
    "eq_Dx2 = sp.Eq(Dx2, u)\n",
    "eq_Dx2"
   ]
  },
  {
   "cell_type": "markdown",
   "id": "0b973e54",
   "metadata": {
    "papermill": {
     "duration": 0.011337,
     "end_time": "2024-05-29T23:31:03.945807",
     "exception": false,
     "start_time": "2024-05-29T23:31:03.934470",
     "status": "completed"
    },
    "tags": []
   },
   "source": [
    "## и функционал"
   ]
  },
  {
   "cell_type": "code",
   "execution_count": 5,
   "id": "cc459793",
   "metadata": {
    "execution": {
     "iopub.execute_input": "2024-05-29T23:31:03.972843Z",
     "iopub.status.busy": "2024-05-29T23:31:03.972477Z",
     "iopub.status.idle": "2024-05-29T23:31:03.981780Z",
     "shell.execute_reply": "2024-05-29T23:31:03.980507Z"
    },
    "papermill": {
     "duration": 0.025603,
     "end_time": "2024-05-29T23:31:03.984343",
     "exception": false,
     "start_time": "2024-05-29T23:31:03.958740",
     "status": "completed"
    },
    "tags": []
   },
   "outputs": [
    {
     "data": {
      "text/latex": [
       "$\\displaystyle u^{2}$"
      ],
      "text/plain": [
       "u**2"
      ]
     },
     "execution_count": 5,
     "metadata": {},
     "output_type": "execute_result"
    }
   ],
   "source": [
    "J = u ** 2\n",
    "J"
   ]
  },
  {
   "cell_type": "markdown",
   "id": "ec7859bb",
   "metadata": {
    "papermill": {
     "duration": 0.011604,
     "end_time": "2024-05-29T23:31:04.008372",
     "exception": false,
     "start_time": "2024-05-29T23:31:03.996768",
     "status": "completed"
    },
    "tags": []
   },
   "source": [
    "## Запишем Гамильтониан"
   ]
  },
  {
   "cell_type": "code",
   "execution_count": 6,
   "id": "d695c8f1",
   "metadata": {
    "execution": {
     "iopub.execute_input": "2024-05-29T23:31:04.034237Z",
     "iopub.status.busy": "2024-05-29T23:31:04.033765Z",
     "iopub.status.idle": "2024-05-29T23:31:04.046230Z",
     "shell.execute_reply": "2024-05-29T23:31:04.044842Z"
    },
    "papermill": {
     "duration": 0.028377,
     "end_time": "2024-05-29T23:31:04.048927",
     "exception": false,
     "start_time": "2024-05-29T23:31:04.020550",
     "status": "completed"
    },
    "tags": []
   },
   "outputs": [
    {
     "data": {
      "text/latex": [
       "$\\displaystyle - u^{2} + u λ_{2}{\\left(t \\right)} + \\left(x_{2}{\\left(t \\right)} - 2\\right) λ_{1}{\\left(t \\right)}$"
      ],
      "text/plain": [
       "-u**2 + u*λ2(t) + (x2(t) - 2)*λ1(t)"
      ]
     },
     "execution_count": 6,
     "metadata": {},
     "output_type": "execute_result"
    }
   ],
   "source": [
    "H = - J + λ1 * (x2 - 2) + λ2 * u\n",
    "H"
   ]
  },
  {
   "cell_type": "markdown",
   "id": "f93b5cfc",
   "metadata": {
    "papermill": {
     "duration": 0.011863,
     "end_time": "2024-05-29T23:31:04.073181",
     "exception": false,
     "start_time": "2024-05-29T23:31:04.061318",
     "status": "completed"
    },
    "tags": []
   },
   "source": [
    "## Составим уравнения Эйлера–Лагранжа"
   ]
  },
  {
   "cell_type": "code",
   "execution_count": 7,
   "id": "d05704fc",
   "metadata": {
    "execution": {
     "iopub.execute_input": "2024-05-29T23:31:04.099436Z",
     "iopub.status.busy": "2024-05-29T23:31:04.099014Z",
     "iopub.status.idle": "2024-05-29T23:31:04.108209Z",
     "shell.execute_reply": "2024-05-29T23:31:04.107215Z"
    },
    "papermill": {
     "duration": 0.025213,
     "end_time": "2024-05-29T23:31:04.110701",
     "exception": false,
     "start_time": "2024-05-29T23:31:04.085488",
     "status": "completed"
    },
    "tags": []
   },
   "outputs": [
    {
     "data": {
      "text/latex": [
       "$\\displaystyle \\frac{d}{d t} λ_{1}{\\left(t \\right)} = 0$"
      ],
      "text/plain": [
       "Eq(Derivative(λ1(t), t), 0)"
      ]
     },
     "execution_count": 7,
     "metadata": {},
     "output_type": "execute_result"
    }
   ],
   "source": [
    "eq_Dλ1 = sp.Eq(Dλ1, - H.diff(x1))\n",
    "eq_Dλ1"
   ]
  },
  {
   "cell_type": "code",
   "execution_count": 8,
   "id": "a0909970",
   "metadata": {
    "execution": {
     "iopub.execute_input": "2024-05-29T23:31:04.137542Z",
     "iopub.status.busy": "2024-05-29T23:31:04.137138Z",
     "iopub.status.idle": "2024-05-29T23:31:04.157749Z",
     "shell.execute_reply": "2024-05-29T23:31:04.156245Z"
    },
    "papermill": {
     "duration": 0.036911,
     "end_time": "2024-05-29T23:31:04.160354",
     "exception": false,
     "start_time": "2024-05-29T23:31:04.123443",
     "status": "completed"
    },
    "tags": []
   },
   "outputs": [
    {
     "data": {
      "text/latex": [
       "$\\displaystyle \\frac{d}{d t} λ_{2}{\\left(t \\right)} = - λ_{1}{\\left(t \\right)}$"
      ],
      "text/plain": [
       "Eq(Derivative(λ2(t), t), -λ1(t))"
      ]
     },
     "execution_count": 8,
     "metadata": {},
     "output_type": "execute_result"
    }
   ],
   "source": [
    "eq_Dλ2 = sp.Eq(Dλ2, - H.diff(x2))\n",
    "eq_Dλ2"
   ]
  },
  {
   "cell_type": "markdown",
   "id": "32d6fe77",
   "metadata": {
    "papermill": {
     "duration": 0.011979,
     "end_time": "2024-05-29T23:31:04.185284",
     "exception": false,
     "start_time": "2024-05-29T23:31:04.173305",
     "status": "completed"
    },
    "tags": []
   },
   "source": [
    "## Решим эти уравнения"
   ]
  },
  {
   "cell_type": "code",
   "execution_count": 9,
   "id": "94505a85",
   "metadata": {
    "execution": {
     "iopub.execute_input": "2024-05-29T23:31:04.211695Z",
     "iopub.status.busy": "2024-05-29T23:31:04.211296Z",
     "iopub.status.idle": "2024-05-29T23:31:04.244461Z",
     "shell.execute_reply": "2024-05-29T23:31:04.243200Z"
    },
    "papermill": {
     "duration": 0.049745,
     "end_time": "2024-05-29T23:31:04.247428",
     "exception": false,
     "start_time": "2024-05-29T23:31:04.197683",
     "status": "completed"
    },
    "tags": []
   },
   "outputs": [
    {
     "data": {
      "text/latex": [
       "$\\displaystyle λ_{1}{\\left(t \\right)} = C_{1}$"
      ],
      "text/plain": [
       "Eq(λ1(t), C1)"
      ]
     },
     "execution_count": 9,
     "metadata": {},
     "output_type": "execute_result"
    }
   ],
   "source": [
    "sol_λ1 = sp.dsolve(eq_Dλ1, λ1)\n",
    "sol_λ1"
   ]
  },
  {
   "cell_type": "markdown",
   "id": "860ae672",
   "metadata": {
    "papermill": {
     "duration": 0.012155,
     "end_time": "2024-05-29T23:31:04.272434",
     "exception": false,
     "start_time": "2024-05-29T23:31:04.260279",
     "status": "completed"
    },
    "tags": []
   },
   "source": [
    "## Подставим вместо λ1(𝑡) его значение"
   ]
  },
  {
   "cell_type": "code",
   "execution_count": 10,
   "id": "325d7264",
   "metadata": {
    "execution": {
     "iopub.execute_input": "2024-05-29T23:31:04.299062Z",
     "iopub.status.busy": "2024-05-29T23:31:04.298622Z",
     "iopub.status.idle": "2024-05-29T23:31:04.309257Z",
     "shell.execute_reply": "2024-05-29T23:31:04.308036Z"
    },
    "papermill": {
     "duration": 0.026932,
     "end_time": "2024-05-29T23:31:04.311784",
     "exception": false,
     "start_time": "2024-05-29T23:31:04.284852",
     "status": "completed"
    },
    "tags": []
   },
   "outputs": [
    {
     "data": {
      "text/latex": [
       "$\\displaystyle \\frac{d}{d t} λ_{2}{\\left(t \\right)} = - C_{1}$"
      ],
      "text/plain": [
       "Eq(Derivative(λ2(t), t), -C1)"
      ]
     },
     "execution_count": 10,
     "metadata": {},
     "output_type": "execute_result"
    }
   ],
   "source": [
    "eq_Dλ2 = eq_Dλ2.subs(λ1, sol_λ1.rhs)\n",
    "eq_Dλ2"
   ]
  },
  {
   "cell_type": "code",
   "execution_count": 11,
   "id": "46c51764",
   "metadata": {
    "execution": {
     "iopub.execute_input": "2024-05-29T23:31:04.339104Z",
     "iopub.status.busy": "2024-05-29T23:31:04.338700Z",
     "iopub.status.idle": "2024-05-29T23:31:04.672045Z",
     "shell.execute_reply": "2024-05-29T23:31:04.670805Z"
    },
    "papermill": {
     "duration": 0.350275,
     "end_time": "2024-05-29T23:31:04.674740",
     "exception": false,
     "start_time": "2024-05-29T23:31:04.324465",
     "status": "completed"
    },
    "tags": []
   },
   "outputs": [
    {
     "data": {
      "text/latex": [
       "$\\displaystyle λ_{2}{\\left(t \\right)} = - C_{1} t + C_{2}$"
      ],
      "text/plain": [
       "Eq(λ2(t), -C1*t + C2)"
      ]
     },
     "execution_count": 11,
     "metadata": {},
     "output_type": "execute_result"
    }
   ],
   "source": [
    "sol_λ2 = sp.dsolve(eq_Dλ2, λ2) \n",
    "sol_λ2"
   ]
  },
  {
   "cell_type": "markdown",
   "id": "86fcfdf5",
   "metadata": {
    "papermill": {
     "duration": 0.013368,
     "end_time": "2024-05-29T23:31:04.701526",
     "exception": false,
     "start_time": "2024-05-29T23:31:04.688158",
     "status": "completed"
    },
    "tags": []
   },
   "source": [
    "## Составим условие стационарности на u и решим его"
   ]
  },
  {
   "cell_type": "code",
   "execution_count": 12,
   "id": "010ac2a5",
   "metadata": {
    "execution": {
     "iopub.execute_input": "2024-05-29T23:31:04.728875Z",
     "iopub.status.busy": "2024-05-29T23:31:04.728470Z",
     "iopub.status.idle": "2024-05-29T23:31:04.746799Z",
     "shell.execute_reply": "2024-05-29T23:31:04.745717Z"
    },
    "papermill": {
     "duration": 0.034757,
     "end_time": "2024-05-29T23:31:04.749219",
     "exception": false,
     "start_time": "2024-05-29T23:31:04.714462",
     "status": "completed"
    },
    "tags": []
   },
   "outputs": [
    {
     "data": {
      "text/latex": [
       "$\\displaystyle - 2 u + λ_{2}{\\left(t \\right)} = 0$"
      ],
      "text/plain": [
       "Eq(-2*u + λ2(t), 0)"
      ]
     },
     "execution_count": 12,
     "metadata": {},
     "output_type": "execute_result"
    }
   ],
   "source": [
    "dHdu = sp.Eq(H.diff(u), 0)\n",
    "dHdu"
   ]
  },
  {
   "cell_type": "markdown",
   "id": "1caa370e",
   "metadata": {
    "papermill": {
     "duration": 0.012803,
     "end_time": "2024-05-29T23:31:04.775122",
     "exception": false,
     "start_time": "2024-05-29T23:31:04.762319",
     "status": "completed"
    },
    "tags": []
   },
   "source": [
    "## Вычислим u из найденного уравнения"
   ]
  },
  {
   "cell_type": "code",
   "execution_count": 13,
   "id": "1f9a5b23",
   "metadata": {
    "execution": {
     "iopub.execute_input": "2024-05-29T23:31:04.802976Z",
     "iopub.status.busy": "2024-05-29T23:31:04.802542Z",
     "iopub.status.idle": "2024-05-29T23:31:04.820457Z",
     "shell.execute_reply": "2024-05-29T23:31:04.819242Z"
    },
    "papermill": {
     "duration": 0.034858,
     "end_time": "2024-05-29T23:31:04.823095",
     "exception": false,
     "start_time": "2024-05-29T23:31:04.788237",
     "status": "completed"
    },
    "tags": []
   },
   "outputs": [
    {
     "data": {
      "text/latex": [
       "$\\displaystyle \\frac{λ_{2}{\\left(t \\right)}}{2}$"
      ],
      "text/plain": [
       "λ2(t)/2"
      ]
     },
     "execution_count": 13,
     "metadata": {},
     "output_type": "execute_result"
    }
   ],
   "source": [
    "sol_u = sp.solve(dHdu, u)[0]\n",
    "sol_u"
   ]
  },
  {
   "cell_type": "markdown",
   "id": "e22284fc",
   "metadata": {
    "papermill": {
     "duration": 0.012874,
     "end_time": "2024-05-29T23:31:04.849320",
     "exception": false,
     "start_time": "2024-05-29T23:31:04.836446",
     "status": "completed"
    },
    "tags": []
   },
   "source": [
    "## Подставим вместо λ2(𝑡) его значение "
   ]
  },
  {
   "cell_type": "code",
   "execution_count": 14,
   "id": "d6aa3777",
   "metadata": {
    "execution": {
     "iopub.execute_input": "2024-05-29T23:31:04.877619Z",
     "iopub.status.busy": "2024-05-29T23:31:04.877198Z",
     "iopub.status.idle": "2024-05-29T23:31:04.894135Z",
     "shell.execute_reply": "2024-05-29T23:31:04.892969Z"
    },
    "papermill": {
     "duration": 0.034102,
     "end_time": "2024-05-29T23:31:04.896732",
     "exception": false,
     "start_time": "2024-05-29T23:31:04.862630",
     "status": "completed"
    },
    "tags": []
   },
   "outputs": [
    {
     "data": {
      "text/latex": [
       "$\\displaystyle u = - \\frac{C_{1} t}{2} + \\frac{C_{2}}{2}$"
      ],
      "text/plain": [
       "Eq(u, -C1*t/2 + C2/2)"
      ]
     },
     "execution_count": 14,
     "metadata": {},
     "output_type": "execute_result"
    }
   ],
   "source": [
    "u_val = sp.Eq(u, sol_u.subs(λ2, sol_λ2.rhs))\n",
    "u_val"
   ]
  },
  {
   "cell_type": "markdown",
   "id": "ff445037",
   "metadata": {
    "papermill": {
     "duration": 0.012985,
     "end_time": "2024-05-29T23:31:04.923351",
     "exception": false,
     "start_time": "2024-05-29T23:31:04.910366",
     "status": "completed"
    },
    "tags": []
   },
   "source": [
    "## Подставим найденное управление 𝑢 в уравнение фазовой динамики, то есть значение u в Dx2"
   ]
  },
  {
   "cell_type": "code",
   "execution_count": 15,
   "id": "9c5a31c4",
   "metadata": {
    "execution": {
     "iopub.execute_input": "2024-05-29T23:31:04.951819Z",
     "iopub.status.busy": "2024-05-29T23:31:04.951448Z",
     "iopub.status.idle": "2024-05-29T23:31:04.966756Z",
     "shell.execute_reply": "2024-05-29T23:31:04.965540Z"
    },
    "papermill": {
     "duration": 0.032487,
     "end_time": "2024-05-29T23:31:04.969198",
     "exception": false,
     "start_time": "2024-05-29T23:31:04.936711",
     "status": "completed"
    },
    "tags": []
   },
   "outputs": [
    {
     "data": {
      "text/latex": [
       "$\\displaystyle \\frac{d}{d t} x_{2}{\\left(t \\right)} = - \\frac{C_{1} t}{2} + \\frac{C_{2}}{2}$"
      ],
      "text/plain": [
       "Eq(Derivative(x2(t), t), -C1*t/2 + C2/2)"
      ]
     },
     "execution_count": 15,
     "metadata": {},
     "output_type": "execute_result"
    }
   ],
   "source": [
    "eq_Dx2 = eq_Dx2.subs(u, u_val.rhs)\n",
    "eq_Dx2"
   ]
  },
  {
   "cell_type": "markdown",
   "id": "1bbbe18c",
   "metadata": {
    "papermill": {
     "duration": 0.013444,
     "end_time": "2024-05-29T23:31:04.999323",
     "exception": false,
     "start_time": "2024-05-29T23:31:04.985879",
     "status": "completed"
    },
    "tags": []
   },
   "source": [
    "## Используем первые граничные условия x1(0) = 0 и x2(0) = 0 для вычисления постоянных интегрирования, то есть С3 и С4: "
   ]
  },
  {
   "cell_type": "code",
   "execution_count": 16,
   "id": "ac1ac8b4",
   "metadata": {
    "execution": {
     "iopub.execute_input": "2024-05-29T23:31:05.028245Z",
     "iopub.status.busy": "2024-05-29T23:31:05.027828Z",
     "iopub.status.idle": "2024-05-29T23:31:05.036655Z",
     "shell.execute_reply": "2024-05-29T23:31:05.035324Z"
    },
    "papermill": {
     "duration": 0.026204,
     "end_time": "2024-05-29T23:31:05.039306",
     "exception": false,
     "start_time": "2024-05-29T23:31:05.013102",
     "status": "completed"
    },
    "tags": []
   },
   "outputs": [
    {
     "data": {
      "text/plain": [
       "{x1(0): 0, x2(0): 0}"
      ]
     },
     "execution_count": 16,
     "metadata": {},
     "output_type": "execute_result"
    }
   ],
   "source": [
    "ics_0 = {x1.subs(t, 0): 0, x2.subs(t, 0): 0}\n",
    "ics_0"
   ]
  },
  {
   "cell_type": "markdown",
   "id": "48f81b25",
   "metadata": {
    "papermill": {
     "duration": 0.013291,
     "end_time": "2024-05-29T23:31:05.066385",
     "exception": false,
     "start_time": "2024-05-29T23:31:05.053094",
     "status": "completed"
    },
    "tags": []
   },
   "source": [
    "## и решим систему"
   ]
  },
  {
   "cell_type": "code",
   "execution_count": 17,
   "id": "5731d431",
   "metadata": {
    "execution": {
     "iopub.execute_input": "2024-05-29T23:31:05.096868Z",
     "iopub.status.busy": "2024-05-29T23:31:05.095753Z",
     "iopub.status.idle": "2024-05-29T23:31:05.470251Z",
     "shell.execute_reply": "2024-05-29T23:31:05.469031Z"
    },
    "papermill": {
     "duration": 0.392793,
     "end_time": "2024-05-29T23:31:05.473028",
     "exception": false,
     "start_time": "2024-05-29T23:31:05.080235",
     "status": "completed"
    },
    "tags": []
   },
   "outputs": [
    {
     "data": {
      "text/latex": [
       "$\\displaystyle x_{2}{\\left(t \\right)} = - \\frac{C_{1} t^{2}}{4} + \\frac{C_{2} t}{2}$"
      ],
      "text/plain": [
       "Eq(x2(t), -C1*t**2/4 + C2*t/2)"
      ]
     },
     "execution_count": 17,
     "metadata": {},
     "output_type": "execute_result"
    }
   ],
   "source": [
    "x1_x2_val = sp.dsolve([eq_Dx2, eq_Dx1], ics=ics_0)\n",
    "x1_x2_val[0]"
   ]
  },
  {
   "cell_type": "code",
   "execution_count": 18,
   "id": "800769ac",
   "metadata": {
    "execution": {
     "iopub.execute_input": "2024-05-29T23:31:05.502508Z",
     "iopub.status.busy": "2024-05-29T23:31:05.502103Z",
     "iopub.status.idle": "2024-05-29T23:31:05.512133Z",
     "shell.execute_reply": "2024-05-29T23:31:05.511054Z"
    },
    "papermill": {
     "duration": 0.027748,
     "end_time": "2024-05-29T23:31:05.514743",
     "exception": false,
     "start_time": "2024-05-29T23:31:05.486995",
     "status": "completed"
    },
    "tags": []
   },
   "outputs": [
    {
     "data": {
      "text/latex": [
       "$\\displaystyle x_{1}{\\left(t \\right)} = - \\frac{C_{1} t^{3}}{12} + \\frac{C_{2} t^{2}}{4} - 2 t$"
      ],
      "text/plain": [
       "Eq(x1(t), -C1*t**3/12 + C2*t**2/4 - 2*t)"
      ]
     },
     "execution_count": 18,
     "metadata": {},
     "output_type": "execute_result"
    }
   ],
   "source": [
    "x1_x2_val[1]"
   ]
  },
  {
   "cell_type": "markdown",
   "id": "f90c5502",
   "metadata": {
    "papermill": {
     "duration": 0.013951,
     "end_time": "2024-05-29T23:31:05.542839",
     "exception": false,
     "start_time": "2024-05-29T23:31:05.528888",
     "status": "completed"
    },
    "tags": []
   },
   "source": [
    "## Используем вторые граничные условия x1(1) = -1 и x2(1) = 0 для вычисления постоянных интегрирования, то есть С1 и С2:"
   ]
  },
  {
   "cell_type": "code",
   "execution_count": 19,
   "id": "7ed3133a",
   "metadata": {
    "execution": {
     "iopub.execute_input": "2024-05-29T23:31:05.573669Z",
     "iopub.status.busy": "2024-05-29T23:31:05.572900Z",
     "iopub.status.idle": "2024-05-29T23:31:05.616248Z",
     "shell.execute_reply": "2024-05-29T23:31:05.615089Z"
    },
    "papermill": {
     "duration": 0.061652,
     "end_time": "2024-05-29T23:31:05.618821",
     "exception": false,
     "start_time": "2024-05-29T23:31:05.557169",
     "status": "completed"
    },
    "tags": []
   },
   "outputs": [
    {
     "data": {
      "text/latex": [
       "$\\displaystyle 0 = - \\frac{C_{1}}{4} + \\frac{C_{2}}{2}$"
      ],
      "text/plain": [
       "Eq(0, -C1/4 + C2/2)"
      ]
     },
     "execution_count": 19,
     "metadata": {},
     "output_type": "execute_result"
    }
   ],
   "source": [
    "eqs_C1_C2 = list(map(lambda eq: eq.subs({x2: 0, t: 1}) if (eq.lhs == x2) else eq.subs({x1: -1, t: 1}), x1_x2_val))\n",
    "eqs_C1_C2[0]\n",
    "\n",
    "# Или\n",
    "# eqs_C1_C2 = []\n",
    "# for item in x1_x2_val:\n",
    "#   if item.lhs == x2:\n",
    "#     item = item.subs({x2: 0, t: 1})\n",
    "#   else:\n",
    "#     item = item.subs({x1: -1, t: 1})\n",
    "\n",
    "#   eqs_C1_C2.append(item)"
   ]
  },
  {
   "cell_type": "code",
   "execution_count": 20,
   "id": "401e629d",
   "metadata": {
    "execution": {
     "iopub.execute_input": "2024-05-29T23:31:05.649124Z",
     "iopub.status.busy": "2024-05-29T23:31:05.648356Z",
     "iopub.status.idle": "2024-05-29T23:31:05.656876Z",
     "shell.execute_reply": "2024-05-29T23:31:05.655769Z"
    },
    "papermill": {
     "duration": 0.026256,
     "end_time": "2024-05-29T23:31:05.659435",
     "exception": false,
     "start_time": "2024-05-29T23:31:05.633179",
     "status": "completed"
    },
    "tags": []
   },
   "outputs": [
    {
     "data": {
      "text/latex": [
       "$\\displaystyle -1 = - \\frac{C_{1}}{12} + \\frac{C_{2}}{4} - 2$"
      ],
      "text/plain": [
       "Eq(-1, -C1/12 + C2/4 - 2)"
      ]
     },
     "execution_count": 20,
     "metadata": {},
     "output_type": "execute_result"
    }
   ],
   "source": [
    "eqs_C1_C2[1]"
   ]
  },
  {
   "cell_type": "markdown",
   "id": "7451b371",
   "metadata": {
    "papermill": {
     "duration": 0.013916,
     "end_time": "2024-05-29T23:31:05.687774",
     "exception": false,
     "start_time": "2024-05-29T23:31:05.673858",
     "status": "completed"
    },
    "tags": []
   },
   "source": [
    "## и решим систему"
   ]
  },
  {
   "cell_type": "code",
   "execution_count": 21,
   "id": "0b923313",
   "metadata": {
    "execution": {
     "iopub.execute_input": "2024-05-29T23:31:05.718800Z",
     "iopub.status.busy": "2024-05-29T23:31:05.718390Z",
     "iopub.status.idle": "2024-05-29T23:31:05.731554Z",
     "shell.execute_reply": "2024-05-29T23:31:05.730211Z"
    },
    "papermill": {
     "duration": 0.031517,
     "end_time": "2024-05-29T23:31:05.734289",
     "exception": false,
     "start_time": "2024-05-29T23:31:05.702772",
     "status": "completed"
    },
    "tags": []
   },
   "outputs": [
    {
     "data": {
      "text/plain": [
       "{C1: 24, C2: 12}"
      ]
     },
     "execution_count": 21,
     "metadata": {},
     "output_type": "execute_result"
    }
   ],
   "source": [
    "eqs_C1_C2 = sp.solve(eqs_C1_C2)\n",
    "eqs_C1_C2"
   ]
  },
  {
   "cell_type": "markdown",
   "id": "85a71577",
   "metadata": {
    "papermill": {
     "duration": 0.014283,
     "end_time": "2024-05-29T23:31:05.763155",
     "exception": false,
     "start_time": "2024-05-29T23:31:05.748872",
     "status": "completed"
    },
    "tags": []
   },
   "source": [
    "## Подставим найденные значения С1 и С2 в уравнениях фазовой динамики, то есть С1 и С2 в х1 и х2"
   ]
  },
  {
   "cell_type": "code",
   "execution_count": 22,
   "id": "68f1e644",
   "metadata": {
    "execution": {
     "iopub.execute_input": "2024-05-29T23:31:05.793881Z",
     "iopub.status.busy": "2024-05-29T23:31:05.793500Z",
     "iopub.status.idle": "2024-05-29T23:31:05.846126Z",
     "shell.execute_reply": "2024-05-29T23:31:05.845024Z"
    },
    "papermill": {
     "duration": 0.071162,
     "end_time": "2024-05-29T23:31:05.848873",
     "exception": false,
     "start_time": "2024-05-29T23:31:05.777711",
     "status": "completed"
    },
    "tags": []
   },
   "outputs": [
    {
     "data": {
      "text/latex": [
       "$\\displaystyle x_{2}{\\left(t \\right)} = - 6 t^{2} + 6 t$"
      ],
      "text/plain": [
       "Eq(x2(t), -6*t**2 + 6*t)"
      ]
     },
     "execution_count": 22,
     "metadata": {},
     "output_type": "execute_result"
    }
   ],
   "source": [
    "x1_x2_u_val = list(map(lambda eq: eq.subs(eqs_C1_C2), [*x1_x2_val, u_val]))\n",
    "x1_x2_u_val[0]"
   ]
  },
  {
   "cell_type": "code",
   "execution_count": 23,
   "id": "f2b3714d",
   "metadata": {
    "execution": {
     "iopub.execute_input": "2024-05-29T23:31:05.880055Z",
     "iopub.status.busy": "2024-05-29T23:31:05.879653Z",
     "iopub.status.idle": "2024-05-29T23:31:05.889321Z",
     "shell.execute_reply": "2024-05-29T23:31:05.888007Z"
    },
    "papermill": {
     "duration": 0.028207,
     "end_time": "2024-05-29T23:31:05.891852",
     "exception": false,
     "start_time": "2024-05-29T23:31:05.863645",
     "status": "completed"
    },
    "tags": []
   },
   "outputs": [
    {
     "data": {
      "text/latex": [
       "$\\displaystyle x_{1}{\\left(t \\right)} = - 2 t^{3} + 3 t^{2} - 2 t$"
      ],
      "text/plain": [
       "Eq(x1(t), -2*t**3 + 3*t**2 - 2*t)"
      ]
     },
     "execution_count": 23,
     "metadata": {},
     "output_type": "execute_result"
    }
   ],
   "source": [
    "x1_x2_u_val[1]"
   ]
  },
  {
   "cell_type": "code",
   "execution_count": 24,
   "id": "6b3e8ec2",
   "metadata": {
    "execution": {
     "iopub.execute_input": "2024-05-29T23:31:05.923509Z",
     "iopub.status.busy": "2024-05-29T23:31:05.923112Z",
     "iopub.status.idle": "2024-05-29T23:31:05.931435Z",
     "shell.execute_reply": "2024-05-29T23:31:05.930173Z"
    },
    "papermill": {
     "duration": 0.027605,
     "end_time": "2024-05-29T23:31:05.934313",
     "exception": false,
     "start_time": "2024-05-29T23:31:05.906708",
     "status": "completed"
    },
    "tags": []
   },
   "outputs": [
    {
     "data": {
      "text/latex": [
       "$\\displaystyle u = 6 - 12 t$"
      ],
      "text/plain": [
       "Eq(u, 6 - 12*t)"
      ]
     },
     "execution_count": 24,
     "metadata": {},
     "output_type": "execute_result"
    }
   ],
   "source": [
    "x1_x2_u_val[2]"
   ]
  }
 ],
 "metadata": {
  "kaggle": {
   "accelerator": "none",
   "dataSources": [],
   "dockerImageVersionId": 30698,
   "isGpuEnabled": false,
   "isInternetEnabled": true,
   "language": "python",
   "sourceType": "notebook"
  },
  "kernelspec": {
   "display_name": "Python 3",
   "language": "python",
   "name": "python3"
  },
  "language_info": {
   "codemirror_mode": {
    "name": "ipython",
    "version": 3
   },
   "file_extension": ".py",
   "mimetype": "text/x-python",
   "name": "python",
   "nbconvert_exporter": "python",
   "pygments_lexer": "ipython3",
   "version": "3.10.13"
  },
  "papermill": {
   "default_parameters": {},
   "duration": 7.002042,
   "end_time": "2024-05-29T23:31:06.533361",
   "environment_variables": {},
   "exception": null,
   "input_path": "__notebook__.ipynb",
   "output_path": "__notebook__.ipynb",
   "parameters": {},
   "start_time": "2024-05-29T23:30:59.531319",
   "version": "2.5.0"
  }
 },
 "nbformat": 4,
 "nbformat_minor": 5
}
